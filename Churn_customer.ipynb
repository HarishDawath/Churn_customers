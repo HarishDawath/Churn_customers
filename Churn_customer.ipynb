{
 "cells": [
  {
   "cell_type": "code",
   "execution_count": 37,
   "metadata": {
    "collapsed": true
   },
   "outputs": [],
   "source": [
    "import numpy as np\n",
    "import pandas as pd\n",
    "\n",
    "import matplotlib.pyplot as plt\n",
    "%matplotlib inline\n",
    "\n",
    "import seaborn as sns"
   ]
  },
  {
   "cell_type": "code",
   "execution_count": 38,
   "metadata": {
    "collapsed": true
   },
   "outputs": [],
   "source": [
    "# Preprocessing\n",
    "from sklearn.preprocessing import Imputer, MinMaxScaler, StandardScaler\n",
    "\n",
    "# Logistic Regression\n",
    "from sklearn.linear_model import LogisticRegression\n",
    "\n",
    "# kNN\n",
    "from sklearn.neighbors import KNeighborsClassifier\n",
    "\n",
    "# Decision Tree\n",
    "from sklearn.tree import DecisionTreeClassifier\n",
    "\n",
    "# Random Forest\n",
    "from sklearn.ensemble import RandomForestClassifier\n",
    "\n",
    "# SVM\n",
    "from sklearn.svm import SVC\n",
    "\n",
    "from sklearn.model_selection import cross_val_score, train_test_split, cross_val_predict\n",
    "from sklearn.decomposition import PCA\n",
    "\n",
    "from sklearn.metrics import confusion_matrix, r2_score, accuracy_score"
   ]
  },
  {
   "cell_type": "code",
   "execution_count": 5,
   "metadata": {
    "collapsed": true
   },
   "outputs": [],
   "source": [
    "plt.rcParams['figure.figsize'] = 5,3"
   ]
  },
  {
   "cell_type": "code",
   "execution_count": 6,
   "metadata": {
    "collapsed": true
   },
   "outputs": [],
   "source": [
    "def fun_plot_confusion_matrix(conf):\n",
    "    cmap = sns.cubehelix_palette(50, hue=0.05, rot=0, light=0.9, dark=0, as_cmap=True)\n",
    "    sns.heatmap(conf,cmap = cmap,xticklabels=['0','1'],yticklabels=['0','1'],annot=True, fmt=\"d\",)\n",
    "    plt.title('Confusion Matrix')\n",
    "    plt.xlabel('Predicted')\n",
    "    plt.ylabel('Actual')\n",
    "    plt.show()"
   ]
  },
  {
   "cell_type": "code",
   "execution_count": 7,
   "metadata": {
    "collapsed": true
   },
   "outputs": [],
   "source": [
    "def fun_conf_mat_calc(conf):\n",
    "    print('Overall Accuracy:', np.round(((conf.item(0) + conf.item(3)) / conf.sum()) * 100, 2))\n",
    "    print('TPRate or Recall or Sensitivity i.e. (TP / Actual YES):', \n",
    "          np.round((conf.item(3) / (conf.item(2) + conf.item(3)))*100,2))\n",
    "    print('FPRate i.e. (FP / Actyal NO):', \n",
    "          np.round((conf.item(1) / (conf.item(0) + conf.item(1)))*100,2))\n",
    "    print('Specificity i.e. (TN / Actual NO):', \n",
    "          np.round((conf.item(0) / (conf.item(0) + conf.item(1)))*100,2))\n",
    "    print('Precision i.e. (TP / Predicted YES):', \n",
    "          np.round((conf.item(3) / (conf.item(1) + conf.item(3)))*100,2))"
   ]
  },
  {
   "cell_type": "code",
   "execution_count": 235,
   "metadata": {
    "collapsed": true
   },
   "outputs": [],
   "source": [
    "def fun_Y_df_col_value_counts():\n",
    "    for i in Y_df.columns:\n",
    "        print(i)\n",
    "        print(Y_df[i].value_counts())\n",
    "        print('\\n')"
   ]
  },
  {
   "cell_type": "code",
   "execution_count": 8,
   "metadata": {
    "collapsed": true
   },
   "outputs": [],
   "source": [
    "path = 'Z:/Career/DataScientist/UPx/Projects/Suchit_Project_ML_Datasets/Telecom_churn/'\n",
    "\n",
    "telData = pd.read_csv(path + 'telecom_churn_data.txt', delimiter= ',', header = None)\n",
    "telData.columns = ['State', 'Acc_Len', 'Area_Cd', 'Phn', 'Intl_Plan', 'VMail_Plan', 'Vmail_Msg', \n",
    "                   'Day_Mins', 'Day_Calls', 'Day_Chg', 'Eve_Mins', 'Eve_Calls', 'Eve_Chg', \n",
    "                   'Ngt_Mins', 'Ngt_Calls', 'Ngt_Chg', 'Intl_Mins', 'Intl_Calls', 'Intl_Chg', \n",
    "                   'CustServ_Calls', 'Churn']"
   ]
  },
  {
   "cell_type": "code",
   "execution_count": 9,
   "metadata": {
    "collapsed": true
   },
   "outputs": [],
   "source": [
    "telData_copy = telData.copy()"
   ]
  },
  {
   "cell_type": "code",
   "execution_count": 10,
   "metadata": {},
   "outputs": [
    {
     "data": {
      "text/html": [
       "<div>\n",
       "<style>\n",
       "    .dataframe thead tr:only-child th {\n",
       "        text-align: right;\n",
       "    }\n",
       "\n",
       "    .dataframe thead th {\n",
       "        text-align: left;\n",
       "    }\n",
       "\n",
       "    .dataframe tbody tr th {\n",
       "        vertical-align: top;\n",
       "    }\n",
       "</style>\n",
       "<table border=\"1\" class=\"dataframe\">\n",
       "  <thead>\n",
       "    <tr style=\"text-align: right;\">\n",
       "      <th></th>\n",
       "      <th>State</th>\n",
       "      <th>Acc_Len</th>\n",
       "      <th>Area_Cd</th>\n",
       "      <th>Phn</th>\n",
       "      <th>Intl_Plan</th>\n",
       "      <th>VMail_Plan</th>\n",
       "      <th>Vmail_Msg</th>\n",
       "      <th>Day_Mins</th>\n",
       "      <th>Day_Calls</th>\n",
       "      <th>Day_Chg</th>\n",
       "      <th>...</th>\n",
       "      <th>Eve_Calls</th>\n",
       "      <th>Eve_Chg</th>\n",
       "      <th>Ngt_Mins</th>\n",
       "      <th>Ngt_Calls</th>\n",
       "      <th>Ngt_Chg</th>\n",
       "      <th>Intl_Mins</th>\n",
       "      <th>Intl_Calls</th>\n",
       "      <th>Intl_Chg</th>\n",
       "      <th>CustServ_Calls</th>\n",
       "      <th>Churn</th>\n",
       "    </tr>\n",
       "  </thead>\n",
       "  <tbody>\n",
       "    <tr>\n",
       "      <th>4612</th>\n",
       "      <td>NY</td>\n",
       "      <td>57</td>\n",
       "      <td>510</td>\n",
       "      <td>345-7512</td>\n",
       "      <td>no</td>\n",
       "      <td>yes</td>\n",
       "      <td>25</td>\n",
       "      <td>144.0</td>\n",
       "      <td>81</td>\n",
       "      <td>24.48</td>\n",
       "      <td>...</td>\n",
       "      <td>112</td>\n",
       "      <td>15.91</td>\n",
       "      <td>158.6</td>\n",
       "      <td>122</td>\n",
       "      <td>7.14</td>\n",
       "      <td>8.5</td>\n",
       "      <td>6</td>\n",
       "      <td>2.30</td>\n",
       "      <td>3</td>\n",
       "      <td>False.</td>\n",
       "    </tr>\n",
       "    <tr>\n",
       "      <th>4613</th>\n",
       "      <td>NM</td>\n",
       "      <td>177</td>\n",
       "      <td>408</td>\n",
       "      <td>343-6820</td>\n",
       "      <td>no</td>\n",
       "      <td>yes</td>\n",
       "      <td>29</td>\n",
       "      <td>189.0</td>\n",
       "      <td>91</td>\n",
       "      <td>32.13</td>\n",
       "      <td>...</td>\n",
       "      <td>96</td>\n",
       "      <td>25.76</td>\n",
       "      <td>163.6</td>\n",
       "      <td>116</td>\n",
       "      <td>7.36</td>\n",
       "      <td>15.7</td>\n",
       "      <td>1</td>\n",
       "      <td>4.24</td>\n",
       "      <td>3</td>\n",
       "      <td>False.</td>\n",
       "    </tr>\n",
       "    <tr>\n",
       "      <th>4614</th>\n",
       "      <td>VT</td>\n",
       "      <td>67</td>\n",
       "      <td>408</td>\n",
       "      <td>338-4794</td>\n",
       "      <td>no</td>\n",
       "      <td>yes</td>\n",
       "      <td>33</td>\n",
       "      <td>127.5</td>\n",
       "      <td>126</td>\n",
       "      <td>21.68</td>\n",
       "      <td>...</td>\n",
       "      <td>129</td>\n",
       "      <td>25.17</td>\n",
       "      <td>200.9</td>\n",
       "      <td>91</td>\n",
       "      <td>9.04</td>\n",
       "      <td>13.0</td>\n",
       "      <td>3</td>\n",
       "      <td>3.51</td>\n",
       "      <td>1</td>\n",
       "      <td>False.</td>\n",
       "    </tr>\n",
       "    <tr>\n",
       "      <th>4615</th>\n",
       "      <td>MI</td>\n",
       "      <td>98</td>\n",
       "      <td>415</td>\n",
       "      <td>355-8388</td>\n",
       "      <td>no</td>\n",
       "      <td>yes</td>\n",
       "      <td>23</td>\n",
       "      <td>168.9</td>\n",
       "      <td>98</td>\n",
       "      <td>28.71</td>\n",
       "      <td>...</td>\n",
       "      <td>117</td>\n",
       "      <td>19.24</td>\n",
       "      <td>165.5</td>\n",
       "      <td>96</td>\n",
       "      <td>7.45</td>\n",
       "      <td>14.3</td>\n",
       "      <td>3</td>\n",
       "      <td>3.86</td>\n",
       "      <td>0</td>\n",
       "      <td>False.</td>\n",
       "    </tr>\n",
       "    <tr>\n",
       "      <th>4616</th>\n",
       "      <td>IN</td>\n",
       "      <td>140</td>\n",
       "      <td>415</td>\n",
       "      <td>409-6884</td>\n",
       "      <td>no</td>\n",
       "      <td>no</td>\n",
       "      <td>0</td>\n",
       "      <td>204.7</td>\n",
       "      <td>100</td>\n",
       "      <td>34.80</td>\n",
       "      <td>...</td>\n",
       "      <td>107</td>\n",
       "      <td>10.78</td>\n",
       "      <td>202.8</td>\n",
       "      <td>115</td>\n",
       "      <td>9.13</td>\n",
       "      <td>12.1</td>\n",
       "      <td>4</td>\n",
       "      <td>3.27</td>\n",
       "      <td>2</td>\n",
       "      <td>False.</td>\n",
       "    </tr>\n",
       "  </tbody>\n",
       "</table>\n",
       "<p>5 rows × 21 columns</p>\n",
       "</div>"
      ],
      "text/plain": [
       "     State  Acc_Len  Area_Cd        Phn Intl_Plan VMail_Plan  Vmail_Msg  \\\n",
       "4612    NY       57      510   345-7512        no        yes         25   \n",
       "4613    NM      177      408   343-6820        no        yes         29   \n",
       "4614    VT       67      408   338-4794        no        yes         33   \n",
       "4615    MI       98      415   355-8388        no        yes         23   \n",
       "4616    IN      140      415   409-6884        no         no          0   \n",
       "\n",
       "      Day_Mins  Day_Calls  Day_Chg   ...     Eve_Calls  Eve_Chg  Ngt_Mins  \\\n",
       "4612     144.0         81    24.48   ...           112    15.91     158.6   \n",
       "4613     189.0         91    32.13   ...            96    25.76     163.6   \n",
       "4614     127.5        126    21.68   ...           129    25.17     200.9   \n",
       "4615     168.9         98    28.71   ...           117    19.24     165.5   \n",
       "4616     204.7        100    34.80   ...           107    10.78     202.8   \n",
       "\n",
       "      Ngt_Calls  Ngt_Chg  Intl_Mins  Intl_Calls  Intl_Chg  CustServ_Calls  \\\n",
       "4612        122     7.14        8.5           6      2.30               3   \n",
       "4613        116     7.36       15.7           1      4.24               3   \n",
       "4614         91     9.04       13.0           3      3.51               1   \n",
       "4615         96     7.45       14.3           3      3.86               0   \n",
       "4616        115     9.13       12.1           4      3.27               2   \n",
       "\n",
       "        Churn  \n",
       "4612   False.  \n",
       "4613   False.  \n",
       "4614   False.  \n",
       "4615   False.  \n",
       "4616   False.  \n",
       "\n",
       "[5 rows x 21 columns]"
      ]
     },
     "execution_count": 10,
     "metadata": {},
     "output_type": "execute_result"
    }
   ],
   "source": [
    "telData_copy.tail()"
   ]
  },
  {
   "cell_type": "code",
   "execution_count": 11,
   "metadata": {
    "collapsed": true
   },
   "outputs": [],
   "source": [
    "from IPython import InteractiveShell\n",
    "InteractiveShell.ast_node_interactivity = 'all'"
   ]
  },
  {
   "cell_type": "code",
   "execution_count": 12,
   "metadata": {
    "scrolled": true
   },
   "outputs": [
    {
     "name": "stdout",
     "output_type": "stream",
     "text": [
      "(4617, 21) \n",
      "\n",
      "2 \n",
      "\n",
      "State              object\n",
      "Acc_Len             int64\n",
      "Area_Cd             int64\n",
      "Phn                object\n",
      "Intl_Plan          object\n",
      "VMail_Plan         object\n",
      "Vmail_Msg           int64\n",
      "Day_Mins          float64\n",
      "Day_Calls           int64\n",
      "Day_Chg           float64\n",
      "Eve_Mins          float64\n",
      "Eve_Calls           int64\n",
      "Eve_Chg           float64\n",
      "Ngt_Mins          float64\n",
      "Ngt_Calls           int64\n",
      "Ngt_Chg           float64\n",
      "Intl_Mins         float64\n",
      "Intl_Calls          int64\n",
      "Intl_Chg          float64\n",
      "CustServ_Calls      int64\n",
      "Churn              object\n",
      "dtype: object\n"
     ]
    }
   ],
   "source": [
    "print(telData_copy.shape,'\\n')\n",
    "print(telData_copy.ndim,'\\n')\n",
    "print(telData_copy.dtypes)"
   ]
  },
  {
   "cell_type": "code",
   "execution_count": 13,
   "metadata": {},
   "outputs": [
    {
     "data": {
      "text/html": [
       "<div>\n",
       "<style>\n",
       "    .dataframe thead tr:only-child th {\n",
       "        text-align: right;\n",
       "    }\n",
       "\n",
       "    .dataframe thead th {\n",
       "        text-align: left;\n",
       "    }\n",
       "\n",
       "    .dataframe tbody tr th {\n",
       "        vertical-align: top;\n",
       "    }\n",
       "</style>\n",
       "<table border=\"1\" class=\"dataframe\">\n",
       "  <thead>\n",
       "    <tr style=\"text-align: right;\">\n",
       "      <th></th>\n",
       "      <th>Acc_Len</th>\n",
       "      <th>Area_Cd</th>\n",
       "      <th>Vmail_Msg</th>\n",
       "      <th>Day_Mins</th>\n",
       "      <th>Day_Calls</th>\n",
       "      <th>Day_Chg</th>\n",
       "      <th>Eve_Mins</th>\n",
       "      <th>Eve_Calls</th>\n",
       "      <th>Eve_Chg</th>\n",
       "      <th>Ngt_Mins</th>\n",
       "      <th>Ngt_Calls</th>\n",
       "      <th>Ngt_Chg</th>\n",
       "      <th>Intl_Mins</th>\n",
       "      <th>Intl_Calls</th>\n",
       "      <th>Intl_Chg</th>\n",
       "      <th>CustServ_Calls</th>\n",
       "    </tr>\n",
       "  </thead>\n",
       "  <tbody>\n",
       "    <tr>\n",
       "      <th>count</th>\n",
       "      <td>4617.00</td>\n",
       "      <td>4617.00</td>\n",
       "      <td>4617.00</td>\n",
       "      <td>4617.00</td>\n",
       "      <td>4617.00</td>\n",
       "      <td>4617.00</td>\n",
       "      <td>4617.00</td>\n",
       "      <td>4617.00</td>\n",
       "      <td>4617.00</td>\n",
       "      <td>4617.00</td>\n",
       "      <td>4617.00</td>\n",
       "      <td>4617.00</td>\n",
       "      <td>4617.00</td>\n",
       "      <td>4617.00</td>\n",
       "      <td>4617.00</td>\n",
       "      <td>4617.00</td>\n",
       "    </tr>\n",
       "    <tr>\n",
       "      <th>mean</th>\n",
       "      <td>100.65</td>\n",
       "      <td>437.05</td>\n",
       "      <td>7.85</td>\n",
       "      <td>180.45</td>\n",
       "      <td>100.05</td>\n",
       "      <td>30.68</td>\n",
       "      <td>200.43</td>\n",
       "      <td>100.18</td>\n",
       "      <td>17.04</td>\n",
       "      <td>200.62</td>\n",
       "      <td>99.94</td>\n",
       "      <td>9.03</td>\n",
       "      <td>10.28</td>\n",
       "      <td>4.43</td>\n",
       "      <td>2.78</td>\n",
       "      <td>1.57</td>\n",
       "    </tr>\n",
       "    <tr>\n",
       "      <th>std</th>\n",
       "      <td>39.60</td>\n",
       "      <td>42.29</td>\n",
       "      <td>13.59</td>\n",
       "      <td>53.98</td>\n",
       "      <td>19.88</td>\n",
       "      <td>9.18</td>\n",
       "      <td>50.56</td>\n",
       "      <td>19.82</td>\n",
       "      <td>4.30</td>\n",
       "      <td>50.54</td>\n",
       "      <td>19.94</td>\n",
       "      <td>2.27</td>\n",
       "      <td>2.76</td>\n",
       "      <td>2.46</td>\n",
       "      <td>0.74</td>\n",
       "      <td>1.31</td>\n",
       "    </tr>\n",
       "    <tr>\n",
       "      <th>min</th>\n",
       "      <td>1.00</td>\n",
       "      <td>408.00</td>\n",
       "      <td>0.00</td>\n",
       "      <td>0.00</td>\n",
       "      <td>0.00</td>\n",
       "      <td>0.00</td>\n",
       "      <td>0.00</td>\n",
       "      <td>0.00</td>\n",
       "      <td>0.00</td>\n",
       "      <td>23.20</td>\n",
       "      <td>12.00</td>\n",
       "      <td>1.04</td>\n",
       "      <td>0.00</td>\n",
       "      <td>0.00</td>\n",
       "      <td>0.00</td>\n",
       "      <td>0.00</td>\n",
       "    </tr>\n",
       "    <tr>\n",
       "      <th>25%</th>\n",
       "      <td>74.00</td>\n",
       "      <td>408.00</td>\n",
       "      <td>0.00</td>\n",
       "      <td>143.70</td>\n",
       "      <td>87.00</td>\n",
       "      <td>24.43</td>\n",
       "      <td>165.90</td>\n",
       "      <td>87.00</td>\n",
       "      <td>14.10</td>\n",
       "      <td>167.10</td>\n",
       "      <td>87.00</td>\n",
       "      <td>7.52</td>\n",
       "      <td>8.60</td>\n",
       "      <td>3.00</td>\n",
       "      <td>2.32</td>\n",
       "      <td>1.00</td>\n",
       "    </tr>\n",
       "    <tr>\n",
       "      <th>50%</th>\n",
       "      <td>100.00</td>\n",
       "      <td>415.00</td>\n",
       "      <td>0.00</td>\n",
       "      <td>180.00</td>\n",
       "      <td>100.00</td>\n",
       "      <td>30.60</td>\n",
       "      <td>200.80</td>\n",
       "      <td>101.00</td>\n",
       "      <td>17.07</td>\n",
       "      <td>200.80</td>\n",
       "      <td>100.00</td>\n",
       "      <td>9.04</td>\n",
       "      <td>10.30</td>\n",
       "      <td>4.00</td>\n",
       "      <td>2.78</td>\n",
       "      <td>1.00</td>\n",
       "    </tr>\n",
       "    <tr>\n",
       "      <th>75%</th>\n",
       "      <td>127.00</td>\n",
       "      <td>510.00</td>\n",
       "      <td>17.00</td>\n",
       "      <td>216.80</td>\n",
       "      <td>113.00</td>\n",
       "      <td>36.86</td>\n",
       "      <td>234.00</td>\n",
       "      <td>114.00</td>\n",
       "      <td>19.89</td>\n",
       "      <td>234.90</td>\n",
       "      <td>113.00</td>\n",
       "      <td>10.57</td>\n",
       "      <td>12.10</td>\n",
       "      <td>6.00</td>\n",
       "      <td>3.27</td>\n",
       "      <td>2.00</td>\n",
       "    </tr>\n",
       "    <tr>\n",
       "      <th>max</th>\n",
       "      <td>243.00</td>\n",
       "      <td>510.00</td>\n",
       "      <td>51.00</td>\n",
       "      <td>351.50</td>\n",
       "      <td>165.00</td>\n",
       "      <td>59.76</td>\n",
       "      <td>363.70</td>\n",
       "      <td>170.00</td>\n",
       "      <td>30.91</td>\n",
       "      <td>395.00</td>\n",
       "      <td>175.00</td>\n",
       "      <td>17.77</td>\n",
       "      <td>20.00</td>\n",
       "      <td>20.00</td>\n",
       "      <td>5.40</td>\n",
       "      <td>9.00</td>\n",
       "    </tr>\n",
       "  </tbody>\n",
       "</table>\n",
       "</div>"
      ],
      "text/plain": [
       "       Acc_Len  Area_Cd  Vmail_Msg  Day_Mins  Day_Calls  Day_Chg  Eve_Mins  \\\n",
       "count  4617.00  4617.00    4617.00   4617.00    4617.00  4617.00   4617.00   \n",
       "mean    100.65   437.05       7.85    180.45     100.05    30.68    200.43   \n",
       "std      39.60    42.29      13.59     53.98      19.88     9.18     50.56   \n",
       "min       1.00   408.00       0.00      0.00       0.00     0.00      0.00   \n",
       "25%      74.00   408.00       0.00    143.70      87.00    24.43    165.90   \n",
       "50%     100.00   415.00       0.00    180.00     100.00    30.60    200.80   \n",
       "75%     127.00   510.00      17.00    216.80     113.00    36.86    234.00   \n",
       "max     243.00   510.00      51.00    351.50     165.00    59.76    363.70   \n",
       "\n",
       "       Eve_Calls  Eve_Chg  Ngt_Mins  Ngt_Calls  Ngt_Chg  Intl_Mins  \\\n",
       "count    4617.00  4617.00   4617.00    4617.00  4617.00    4617.00   \n",
       "mean      100.18    17.04    200.62      99.94     9.03      10.28   \n",
       "std        19.82     4.30     50.54      19.94     2.27       2.76   \n",
       "min         0.00     0.00     23.20      12.00     1.04       0.00   \n",
       "25%        87.00    14.10    167.10      87.00     7.52       8.60   \n",
       "50%       101.00    17.07    200.80     100.00     9.04      10.30   \n",
       "75%       114.00    19.89    234.90     113.00    10.57      12.10   \n",
       "max       170.00    30.91    395.00     175.00    17.77      20.00   \n",
       "\n",
       "       Intl_Calls  Intl_Chg  CustServ_Calls  \n",
       "count     4617.00   4617.00         4617.00  \n",
       "mean         4.43      2.78            1.57  \n",
       "std          2.46      0.74            1.31  \n",
       "min          0.00      0.00            0.00  \n",
       "25%          3.00      2.32            1.00  \n",
       "50%          4.00      2.78            1.00  \n",
       "75%          6.00      3.27            2.00  \n",
       "max         20.00      5.40            9.00  "
      ]
     },
     "execution_count": 13,
     "metadata": {},
     "output_type": "execute_result"
    }
   ],
   "source": [
    "#telData.info()\n",
    "np.round(telData_copy.describe(),2)"
   ]
  },
  {
   "cell_type": "code",
   "execution_count": 14,
   "metadata": {
    "scrolled": true
   },
   "outputs": [
    {
     "name": "stdout",
     "output_type": "stream",
     "text": [
      "51\n"
     ]
    },
    {
     "data": {
      "text/plain": [
       "AK     69\n",
       "AL    114\n",
       "AR     77\n",
       "AZ     81\n",
       "CA     44\n",
       "CO     91\n",
       "CT     92\n",
       "DC     82\n",
       "DE     89\n",
       "FL     85\n",
       "GA     77\n",
       "HI     79\n",
       "IA     65\n",
       "ID    110\n",
       "IL     79\n",
       "IN     89\n",
       "KS     96\n",
       "KY     90\n",
       "LA     73\n",
       "MA     97\n",
       "MD     92\n",
       "ME     95\n",
       "MI     98\n",
       "MN    112\n",
       "MO     84\n",
       "MS     91\n",
       "MT     92\n",
       "NC     83\n",
       "ND     80\n",
       "NE     79\n",
       "NH     91\n",
       "NJ    106\n",
       "NM     84\n",
       "NV     89\n",
       "NY    109\n",
       "OH    110\n",
       "OK     80\n",
       "OR    107\n",
       "PA     68\n",
       "RI     90\n",
       "SC     83\n",
       "SD     76\n",
       "TN     83\n",
       "TX    105\n",
       "UT    104\n",
       "VA    109\n",
       "VT     95\n",
       "WA     89\n",
       "WI     99\n",
       "WV    149\n",
       "WY    106\n",
       "Name: State, dtype: int64"
      ]
     },
     "execution_count": 14,
     "metadata": {},
     "output_type": "execute_result"
    }
   ],
   "source": [
    "# Get total unique States\n",
    "print(len(telData_copy.State.value_counts().sort_index()))\n",
    "\n",
    "# Check all States\n",
    "telData_copy.State.value_counts().sort_index()"
   ]
  },
  {
   "cell_type": "code",
   "execution_count": 15,
   "metadata": {
    "scrolled": true
   },
   "outputs": [
    {
     "data": {
      "text/plain": [
       "State             0\n",
       "Acc_Len           0\n",
       "Area_Cd           0\n",
       "Phn               0\n",
       "Intl_Plan         0\n",
       "VMail_Plan        0\n",
       "Vmail_Msg         0\n",
       "Day_Mins          0\n",
       "Day_Calls         0\n",
       "Day_Chg           0\n",
       "Eve_Mins          0\n",
       "Eve_Calls         0\n",
       "Eve_Chg           0\n",
       "Ngt_Mins          0\n",
       "Ngt_Calls         0\n",
       "Ngt_Chg           0\n",
       "Intl_Mins         0\n",
       "Intl_Calls        0\n",
       "Intl_Chg          0\n",
       "CustServ_Calls    0\n",
       "Churn             0\n",
       "dtype: int64"
      ]
     },
     "execution_count": 15,
     "metadata": {},
     "output_type": "execute_result"
    }
   ],
   "source": [
    "# Checking NULL\n",
    "telData_copy.isnull().sum()"
   ]
  },
  {
   "cell_type": "markdown",
   "metadata": {},
   "source": [
    "No Null records"
   ]
  },
  {
   "cell_type": "code",
   "execution_count": 16,
   "metadata": {},
   "outputs": [
    {
     "data": {
      "text/plain": [
       " False.    3961\n",
       " True.      656\n",
       "Name: Churn, dtype: int64"
      ]
     },
     "execution_count": 16,
     "metadata": {},
     "output_type": "execute_result"
    }
   ],
   "source": [
    "telData_copy.Churn.value_counts()"
   ]
  },
  {
   "cell_type": "code",
   "execution_count": 17,
   "metadata": {
    "collapsed": true
   },
   "outputs": [],
   "source": [
    "telData_copy.Churn.replace(' False.', 'F', inplace= True)\n",
    "telData_copy.Churn.replace(' True.', 'T', inplace= True)"
   ]
  },
  {
   "cell_type": "code",
   "execution_count": 18,
   "metadata": {},
   "outputs": [
    {
     "data": {
      "text/plain": [
       "F    3961\n",
       "T     656\n",
       "Name: Churn, dtype: int64"
      ]
     },
     "execution_count": 18,
     "metadata": {},
     "output_type": "execute_result"
    }
   ],
   "source": [
    "telData_copy.Churn.value_counts().sort_index()"
   ]
  },
  {
   "cell_type": "code",
   "execution_count": 19,
   "metadata": {},
   "outputs": [
    {
     "data": {
      "text/plain": [
       " no     4171\n",
       " yes     446\n",
       "Name: Intl_Plan, dtype: int64"
      ]
     },
     "execution_count": 19,
     "metadata": {},
     "output_type": "execute_result"
    }
   ],
   "source": [
    "telData_copy.Intl_Plan.value_counts()"
   ]
  },
  {
   "cell_type": "code",
   "execution_count": 20,
   "metadata": {
    "collapsed": true
   },
   "outputs": [],
   "source": [
    "telData_copy.Intl_Plan.replace(' no', 'no', inplace=True)\n",
    "telData_copy.Intl_Plan.replace(' yes', 'yes', inplace=True)"
   ]
  },
  {
   "cell_type": "code",
   "execution_count": 21,
   "metadata": {},
   "outputs": [
    {
     "data": {
      "text/plain": [
       "no     4171\n",
       "yes     446\n",
       "Name: Intl_Plan, dtype: int64"
      ]
     },
     "execution_count": 21,
     "metadata": {},
     "output_type": "execute_result"
    }
   ],
   "source": [
    "telData_copy.Intl_Plan.value_counts()"
   ]
  },
  {
   "cell_type": "code",
   "execution_count": 22,
   "metadata": {},
   "outputs": [
    {
     "data": {
      "text/plain": [
       " no     3381\n",
       " yes    1236\n",
       "Name: VMail_Plan, dtype: int64"
      ]
     },
     "execution_count": 22,
     "metadata": {},
     "output_type": "execute_result"
    }
   ],
   "source": [
    "telData_copy.VMail_Plan.value_counts()"
   ]
  },
  {
   "cell_type": "code",
   "execution_count": 23,
   "metadata": {
    "collapsed": true
   },
   "outputs": [],
   "source": [
    "telData_copy.VMail_Plan.replace(' no', 'no', inplace= True)\n",
    "telData_copy.VMail_Plan.replace(' yes', 'yes', inplace= True)"
   ]
  },
  {
   "cell_type": "code",
   "execution_count": 24,
   "metadata": {},
   "outputs": [
    {
     "data": {
      "text/plain": [
       "no     3381\n",
       "yes    1236\n",
       "Name: VMail_Plan, dtype: int64"
      ]
     },
     "execution_count": 24,
     "metadata": {},
     "output_type": "execute_result"
    }
   ],
   "source": [
    "telData_copy.VMail_Plan.value_counts()"
   ]
  },
  {
   "cell_type": "code",
   "execution_count": 29,
   "metadata": {},
   "outputs": [
    {
     "data": {
      "text/plain": [
       "State              object\n",
       "Acc_Len             int64\n",
       "Area_Cd             int64\n",
       "Phn                object\n",
       "Intl_Plan          object\n",
       "VMail_Plan         object\n",
       "Vmail_Msg           int64\n",
       "Day_Mins          float64\n",
       "Day_Calls           int64\n",
       "Day_Chg           float64\n",
       "Eve_Mins          float64\n",
       "Eve_Calls           int64\n",
       "Eve_Chg           float64\n",
       "Ngt_Mins          float64\n",
       "Ngt_Calls           int64\n",
       "Ngt_Chg           float64\n",
       "Intl_Mins         float64\n",
       "Intl_Calls          int64\n",
       "Intl_Chg          float64\n",
       "CustServ_Calls      int64\n",
       "Churn              object\n",
       "dtype: object"
      ]
     },
     "execution_count": 29,
     "metadata": {},
     "output_type": "execute_result"
    }
   ],
   "source": [
    "telData_copy.dtypes"
   ]
  },
  {
   "cell_type": "code",
   "execution_count": 33,
   "metadata": {
    "scrolled": true
   },
   "outputs": [
    {
     "data": {
      "text/plain": [
       "('State', 51)"
      ]
     },
     "execution_count": 33,
     "metadata": {},
     "output_type": "execute_result"
    },
    {
     "data": {
      "text/plain": [
       "AK     69\n",
       "AL    114\n",
       "AR     77\n",
       "AZ     81\n",
       "CA     44\n",
       "CO     91\n",
       "CT     92\n",
       "DC     82\n",
       "DE     89\n",
       "FL     85\n",
       "GA     77\n",
       "HI     79\n",
       "IA     65\n",
       "ID    110\n",
       "IL     79\n",
       "IN     89\n",
       "KS     96\n",
       "KY     90\n",
       "LA     73\n",
       "MA     97\n",
       "MD     92\n",
       "ME     95\n",
       "MI     98\n",
       "MN    112\n",
       "MO     84\n",
       "MS     91\n",
       "MT     92\n",
       "NC     83\n",
       "ND     80\n",
       "NE     79\n",
       "NH     91\n",
       "NJ    106\n",
       "NM     84\n",
       "NV     89\n",
       "NY    109\n",
       "OH    110\n",
       "OK     80\n",
       "OR    107\n",
       "PA     68\n",
       "RI     90\n",
       "SC     83\n",
       "SD     76\n",
       "TN     83\n",
       "TX    105\n",
       "UT    104\n",
       "VA    109\n",
       "VT     95\n",
       "WA     89\n",
       "WI     99\n",
       "WV    149\n",
       "WY    106\n",
       "Name: State, dtype: int64"
      ]
     },
     "execution_count": 33,
     "metadata": {},
     "output_type": "execute_result"
    },
    {
     "data": {
      "text/plain": [
       "('Acc_Len', 218)"
      ]
     },
     "execution_count": 33,
     "metadata": {},
     "output_type": "execute_result"
    },
    {
     "data": {
      "text/plain": [
       "1      10\n",
       "2       1\n",
       "3       8\n",
       "4       3\n",
       "5       2\n",
       "6       2\n",
       "7       4\n",
       "8       2\n",
       "9       3\n",
       "10      3\n",
       "11      6\n",
       "12      5\n",
       "13     10\n",
       "14      1\n",
       "15      4\n",
       "16      8\n",
       "17      6\n",
       "18      3\n",
       "19      8\n",
       "20      4\n",
       "21     10\n",
       "22      8\n",
       "23      5\n",
       "24      9\n",
       "25     11\n",
       "26      3\n",
       "27     10\n",
       "28      8\n",
       "29      9\n",
       "30      8\n",
       "       ..\n",
       "189     6\n",
       "190     8\n",
       "191     1\n",
       "192     4\n",
       "193     6\n",
       "194     5\n",
       "195     3\n",
       "196     2\n",
       "197     3\n",
       "199     1\n",
       "200     1\n",
       "201     4\n",
       "202     1\n",
       "204     2\n",
       "205     2\n",
       "208     1\n",
       "209     3\n",
       "210     2\n",
       "212     2\n",
       "215     1\n",
       "216     1\n",
       "217     2\n",
       "221     1\n",
       "222     1\n",
       "224     2\n",
       "225     2\n",
       "232     2\n",
       "233     1\n",
       "238     1\n",
       "243     1\n",
       "Name: Acc_Len, Length: 218, dtype: int64"
      ]
     },
     "execution_count": 33,
     "metadata": {},
     "output_type": "execute_result"
    },
    {
     "data": {
      "text/plain": [
       "('Area_Cd', 3)"
      ]
     },
     "execution_count": 33,
     "metadata": {},
     "output_type": "execute_result"
    },
    {
     "data": {
      "text/plain": [
       "408    1161\n",
       "415    2299\n",
       "510    1157\n",
       "Name: Area_Cd, dtype: int64"
      ]
     },
     "execution_count": 33,
     "metadata": {},
     "output_type": "execute_result"
    },
    {
     "data": {
      "text/plain": [
       "('Phn', 4617)"
      ]
     },
     "execution_count": 33,
     "metadata": {},
     "output_type": "execute_result"
    },
    {
     "data": {
      "text/plain": [
       " 327-1058    1\n",
       " 327-1319    1\n",
       " 327-2040    1\n",
       " 327-2475    1\n",
       " 327-3053    1\n",
       " 327-3587    1\n",
       " 327-3850    1\n",
       " 327-3954    1\n",
       " 327-4579    1\n",
       " 327-4795    1\n",
       " 327-5525    1\n",
       " 327-5816    1\n",
       " 327-5817    1\n",
       " 327-6087    1\n",
       " 327-6179    1\n",
       " 327-6194    1\n",
       " 327-6764    1\n",
       " 327-6947    1\n",
       " 327-6989    1\n",
       " 327-7615    1\n",
       " 327-8495    1\n",
       " 327-8514    1\n",
       " 327-8732    1\n",
       " 327-9289    1\n",
       " 327-9341    1\n",
       " 327-9613    1\n",
       " 327-9957    1\n",
       " 328-1206    1\n",
       " 328-1222    1\n",
       " 328-1373    1\n",
       "            ..\n",
       " 421-8537    1\n",
       " 421-9034    1\n",
       " 421-9144    1\n",
       " 421-9401    1\n",
       " 421-9683    1\n",
       " 421-9747    1\n",
       " 421-9752    1\n",
       " 421-9846    1\n",
       " 422-1471    1\n",
       " 422-1799    1\n",
       " 422-2571    1\n",
       " 422-3052    1\n",
       " 422-3454    1\n",
       " 422-4241    1\n",
       " 422-4394    1\n",
       " 422-4956    1\n",
       " 422-5264    1\n",
       " 422-5350    1\n",
       " 422-5865    1\n",
       " 422-5874    1\n",
       " 422-6685    1\n",
       " 422-6690    1\n",
       " 422-7728    1\n",
       " 422-8152    1\n",
       " 422-8268    1\n",
       " 422-8333    1\n",
       " 422-8344    1\n",
       " 422-8472    1\n",
       " 422-9831    1\n",
       " 422-9964    1\n",
       "Name: Phn, Length: 4617, dtype: int64"
      ]
     },
     "execution_count": 33,
     "metadata": {},
     "output_type": "execute_result"
    },
    {
     "data": {
      "text/plain": [
       "('Intl_Plan', 2)"
      ]
     },
     "execution_count": 33,
     "metadata": {},
     "output_type": "execute_result"
    },
    {
     "data": {
      "text/plain": [
       "no     4171\n",
       "yes     446\n",
       "Name: Intl_Plan, dtype: int64"
      ]
     },
     "execution_count": 33,
     "metadata": {},
     "output_type": "execute_result"
    },
    {
     "data": {
      "text/plain": [
       "('VMail_Plan', 2)"
      ]
     },
     "execution_count": 33,
     "metadata": {},
     "output_type": "execute_result"
    },
    {
     "data": {
      "text/plain": [
       "no     3381\n",
       "yes    1236\n",
       "Name: VMail_Plan, dtype: int64"
      ]
     },
     "execution_count": 33,
     "metadata": {},
     "output_type": "execute_result"
    },
    {
     "data": {
      "text/plain": [
       "('Vmail_Msg', 47)"
      ]
     },
     "execution_count": 33,
     "metadata": {},
     "output_type": "execute_result"
    },
    {
     "data": {
      "text/plain": [
       "0     3381\n",
       "4        1\n",
       "6        2\n",
       "8        2\n",
       "9        2\n",
       "10       4\n",
       "11       2\n",
       "12      10\n",
       "13       4\n",
       "14       9\n",
       "15      12\n",
       "16      16\n",
       "17      18\n",
       "18      14\n",
       "19      26\n",
       "20      30\n",
       "21      40\n",
       "22      45\n",
       "23      48\n",
       "24      57\n",
       "25      49\n",
       "26      55\n",
       "27      57\n",
       "28      62\n",
       "29      64\n",
       "30      54\n",
       "31      80\n",
       "32      52\n",
       "33      61\n",
       "34      39\n",
       "35      40\n",
       "36      45\n",
       "37      42\n",
       "38      37\n",
       "39      40\n",
       "40      26\n",
       "41      21\n",
       "42      19\n",
       "43      13\n",
       "44       7\n",
       "45      10\n",
       "46       8\n",
       "47       4\n",
       "48       3\n",
       "49       3\n",
       "50       2\n",
       "51       1\n",
       "Name: Vmail_Msg, dtype: int64"
      ]
     },
     "execution_count": 33,
     "metadata": {},
     "output_type": "execute_result"
    },
    {
     "data": {
      "text/plain": [
       "('Day_Mins', 1901)"
      ]
     },
     "execution_count": 33,
     "metadata": {},
     "output_type": "execute_result"
    },
    {
     "data": {
      "text/plain": [
       "0.0      2\n",
       "2.6      1\n",
       "7.8      1\n",
       "7.9      1\n",
       "12.5     1\n",
       "17.6     1\n",
       "18.9     1\n",
       "19.5     1\n",
       "25.9     1\n",
       "27.0     1\n",
       "29.9     1\n",
       "30.9     1\n",
       "34.0     1\n",
       "35.1     1\n",
       "37.7     1\n",
       "37.8     1\n",
       "39.5     1\n",
       "40.4     1\n",
       "40.9     1\n",
       "41.2     1\n",
       "41.9     1\n",
       "42.1     1\n",
       "44.9     1\n",
       "45.0     1\n",
       "46.5     1\n",
       "47.4     1\n",
       "47.7     1\n",
       "47.8     1\n",
       "48.4     2\n",
       "49.2     1\n",
       "        ..\n",
       "314.1    1\n",
       "314.6    1\n",
       "315.6    1\n",
       "317.1    1\n",
       "317.8    1\n",
       "321.1    1\n",
       "321.3    1\n",
       "321.6    1\n",
       "322.3    2\n",
       "322.4    1\n",
       "322.5    1\n",
       "324.3    1\n",
       "324.7    1\n",
       "325.4    1\n",
       "325.5    1\n",
       "326.1    1\n",
       "326.3    1\n",
       "326.5    1\n",
       "328.1    1\n",
       "329.8    1\n",
       "332.1    1\n",
       "332.9    1\n",
       "334.3    1\n",
       "335.5    1\n",
       "337.4    1\n",
       "338.4    1\n",
       "345.3    1\n",
       "346.8    1\n",
       "350.8    1\n",
       "351.5    1\n",
       "Name: Day_Mins, Length: 1901, dtype: int64"
      ]
     },
     "execution_count": 33,
     "metadata": {},
     "output_type": "execute_result"
    },
    {
     "data": {
      "text/plain": [
       "('Day_Calls', 123)"
      ]
     },
     "execution_count": 33,
     "metadata": {},
     "output_type": "execute_result"
    },
    {
     "data": {
      "text/plain": [
       "0       2\n",
       "30      1\n",
       "34      1\n",
       "35      1\n",
       "36      1\n",
       "39      1\n",
       "40      2\n",
       "42      2\n",
       "44      4\n",
       "45      3\n",
       "46      1\n",
       "47      3\n",
       "48      4\n",
       "49      2\n",
       "50      1\n",
       "51      5\n",
       "52      6\n",
       "53      5\n",
       "54      7\n",
       "55      7\n",
       "56      9\n",
       "57     12\n",
       "58     10\n",
       "59      9\n",
       "60     13\n",
       "61     19\n",
       "62     11\n",
       "63     18\n",
       "64     11\n",
       "65     25\n",
       "       ..\n",
       "129    29\n",
       "130    29\n",
       "131    18\n",
       "132    21\n",
       "133    27\n",
       "134    27\n",
       "135    13\n",
       "136    11\n",
       "137    16\n",
       "138    18\n",
       "139    10\n",
       "140    14\n",
       "141    18\n",
       "142    11\n",
       "143    10\n",
       "144     7\n",
       "145    10\n",
       "146     6\n",
       "147     8\n",
       "148     6\n",
       "149     2\n",
       "150     6\n",
       "151     7\n",
       "152     2\n",
       "156     3\n",
       "157     2\n",
       "158     3\n",
       "160     2\n",
       "163     1\n",
       "165     1\n",
       "Name: Day_Calls, Length: 123, dtype: int64"
      ]
     },
     "execution_count": 33,
     "metadata": {},
     "output_type": "execute_result"
    },
    {
     "data": {
      "text/plain": [
       "('Day_Chg', 1901)"
      ]
     },
     "execution_count": 33,
     "metadata": {},
     "output_type": "execute_result"
    },
    {
     "data": {
      "text/plain": [
       "0.00     2\n",
       "0.44     1\n",
       "1.33     1\n",
       "1.34     1\n",
       "2.13     1\n",
       "2.99     1\n",
       "3.21     1\n",
       "3.32     1\n",
       "4.40     1\n",
       "4.59     1\n",
       "5.08     1\n",
       "5.25     1\n",
       "5.78     1\n",
       "5.97     1\n",
       "6.41     1\n",
       "6.43     1\n",
       "6.72     1\n",
       "6.87     1\n",
       "6.95     1\n",
       "7.00     1\n",
       "7.12     1\n",
       "7.16     1\n",
       "7.63     1\n",
       "7.65     1\n",
       "7.91     1\n",
       "8.06     1\n",
       "8.11     1\n",
       "8.13     1\n",
       "8.23     2\n",
       "8.36     1\n",
       "        ..\n",
       "53.40    1\n",
       "53.48    1\n",
       "53.65    1\n",
       "53.91    1\n",
       "54.03    1\n",
       "54.59    1\n",
       "54.62    1\n",
       "54.67    1\n",
       "54.79    2\n",
       "54.81    1\n",
       "54.83    1\n",
       "55.13    1\n",
       "55.20    1\n",
       "55.32    1\n",
       "55.34    1\n",
       "55.44    1\n",
       "55.47    1\n",
       "55.51    1\n",
       "55.78    1\n",
       "56.07    1\n",
       "56.46    1\n",
       "56.59    1\n",
       "56.83    1\n",
       "57.04    1\n",
       "57.36    1\n",
       "57.53    1\n",
       "58.70    1\n",
       "58.96    1\n",
       "59.64    1\n",
       "59.76    1\n",
       "Name: Day_Chg, Length: 1901, dtype: int64"
      ]
     },
     "execution_count": 33,
     "metadata": {},
     "output_type": "execute_result"
    },
    {
     "data": {
      "text/plain": [
       "('Eve_Mins', 1833)"
      ]
     },
     "execution_count": 33,
     "metadata": {},
     "output_type": "execute_result"
    },
    {
     "data": {
      "text/plain": [
       "0.0      1\n",
       "22.3     1\n",
       "31.2     1\n",
       "37.8     1\n",
       "41.7     1\n",
       "42.2     1\n",
       "42.5     1\n",
       "43.9     1\n",
       "47.3     1\n",
       "48.1     1\n",
       "49.2     1\n",
       "52.9     1\n",
       "53.2     1\n",
       "56.0     1\n",
       "58.3     1\n",
       "58.6     1\n",
       "58.9     1\n",
       "60.0     1\n",
       "60.8     1\n",
       "61.9     1\n",
       "64.3     1\n",
       "65.2     1\n",
       "66.0     1\n",
       "66.5     1\n",
       "67.0     1\n",
       "67.5     1\n",
       "69.2     1\n",
       "70.9     1\n",
       "71.0     1\n",
       "72.9     1\n",
       "        ..\n",
       "327.0    2\n",
       "327.1    1\n",
       "328.2    1\n",
       "328.7    1\n",
       "329.3    1\n",
       "329.8    1\n",
       "330.6    1\n",
       "331.3    1\n",
       "332.1    1\n",
       "332.8    1\n",
       "334.1    1\n",
       "335.0    1\n",
       "335.7    1\n",
       "336.0    1\n",
       "337.1    1\n",
       "339.9    1\n",
       "341.3    1\n",
       "344.0    1\n",
       "344.9    1\n",
       "347.3    1\n",
       "348.5    1\n",
       "348.9    1\n",
       "349.4    1\n",
       "350.5    1\n",
       "350.9    1\n",
       "351.6    1\n",
       "352.1    1\n",
       "354.2    1\n",
       "361.8    1\n",
       "363.7    1\n",
       "Name: Eve_Mins, Length: 1833, dtype: int64"
      ]
     },
     "execution_count": 33,
     "metadata": {},
     "output_type": "execute_result"
    },
    {
     "data": {
      "text/plain": [
       "('Eve_Calls', 125)"
      ]
     },
     "execution_count": 33,
     "metadata": {},
     "output_type": "execute_result"
    },
    {
     "data": {
      "text/plain": [
       "0       1\n",
       "12      1\n",
       "36      1\n",
       "37      1\n",
       "42      1\n",
       "43      1\n",
       "44      1\n",
       "45      1\n",
       "46      5\n",
       "47      2\n",
       "48      6\n",
       "49      1\n",
       "50      4\n",
       "51      6\n",
       "52      5\n",
       "53      6\n",
       "54      7\n",
       "55      4\n",
       "56     10\n",
       "57      4\n",
       "58     13\n",
       "59      8\n",
       "60     14\n",
       "61     14\n",
       "62     16\n",
       "63     16\n",
       "64     19\n",
       "65     27\n",
       "66     16\n",
       "67     26\n",
       "       ..\n",
       "133    24\n",
       "134    21\n",
       "135    11\n",
       "136    25\n",
       "137    14\n",
       "138    17\n",
       "139     9\n",
       "140    11\n",
       "141     9\n",
       "142    15\n",
       "143    13\n",
       "144    10\n",
       "145     4\n",
       "146     5\n",
       "147     7\n",
       "148     4\n",
       "149     7\n",
       "150     6\n",
       "151     4\n",
       "152     8\n",
       "153     1\n",
       "154     4\n",
       "155     5\n",
       "156     1\n",
       "157     1\n",
       "159     1\n",
       "164     1\n",
       "168     1\n",
       "169     1\n",
       "170     1\n",
       "Name: Eve_Calls, Length: 125, dtype: int64"
      ]
     },
     "execution_count": 33,
     "metadata": {},
     "output_type": "execute_result"
    },
    {
     "data": {
      "text/plain": [
       "('Eve_Chg', 1621)"
      ]
     },
     "execution_count": 33,
     "metadata": {},
     "output_type": "execute_result"
    },
    {
     "data": {
      "text/plain": [
       "0.00     1\n",
       "1.90     1\n",
       "2.65     1\n",
       "3.21     1\n",
       "3.54     1\n",
       "3.59     1\n",
       "3.61     1\n",
       "3.73     1\n",
       "4.02     1\n",
       "4.09     1\n",
       "4.18     1\n",
       "4.50     1\n",
       "4.52     1\n",
       "4.76     1\n",
       "4.96     1\n",
       "4.98     1\n",
       "5.01     1\n",
       "5.10     1\n",
       "5.17     1\n",
       "5.26     1\n",
       "5.47     1\n",
       "5.54     1\n",
       "5.61     1\n",
       "5.65     1\n",
       "5.70     1\n",
       "5.74     1\n",
       "5.88     1\n",
       "6.03     1\n",
       "6.04     1\n",
       "6.20     1\n",
       "        ..\n",
       "27.72    1\n",
       "27.80    3\n",
       "27.90    1\n",
       "27.94    1\n",
       "27.99    1\n",
       "28.03    1\n",
       "28.10    1\n",
       "28.16    1\n",
       "28.23    1\n",
       "28.29    1\n",
       "28.40    1\n",
       "28.48    1\n",
       "28.53    1\n",
       "28.56    1\n",
       "28.65    1\n",
       "28.89    1\n",
       "29.01    1\n",
       "29.24    1\n",
       "29.32    1\n",
       "29.52    1\n",
       "29.62    1\n",
       "29.66    1\n",
       "29.70    1\n",
       "29.79    1\n",
       "29.83    1\n",
       "29.89    1\n",
       "29.93    1\n",
       "30.11    1\n",
       "30.75    1\n",
       "30.91    1\n",
       "Name: Eve_Chg, Length: 1621, dtype: int64"
      ]
     },
     "execution_count": 33,
     "metadata": {},
     "output_type": "execute_result"
    },
    {
     "data": {
      "text/plain": [
       "('Ngt_Mins', 1813)"
      ]
     },
     "execution_count": 33,
     "metadata": {},
     "output_type": "execute_result"
    },
    {
     "data": {
      "text/plain": [
       "23.2     1\n",
       "43.7     1\n",
       "45.0     1\n",
       "46.7     1\n",
       "47.4     1\n",
       "50.1     2\n",
       "50.9     1\n",
       "53.3     1\n",
       "54.0     1\n",
       "54.5     1\n",
       "56.6     1\n",
       "57.5     1\n",
       "59.5     1\n",
       "61.4     1\n",
       "63.3     1\n",
       "63.6     1\n",
       "64.2     1\n",
       "65.2     1\n",
       "65.7     1\n",
       "65.8     1\n",
       "67.1     1\n",
       "67.7     1\n",
       "70.6     1\n",
       "71.1     2\n",
       "72.2     1\n",
       "72.4     1\n",
       "73.2     2\n",
       "73.7     1\n",
       "75.3     1\n",
       "75.8     1\n",
       "        ..\n",
       "325.9    1\n",
       "326.0    1\n",
       "326.4    1\n",
       "328.5    1\n",
       "328.8    1\n",
       "329.2    2\n",
       "329.3    1\n",
       "332.2    1\n",
       "332.7    1\n",
       "332.8    1\n",
       "333.5    2\n",
       "334.7    1\n",
       "336.1    1\n",
       "342.8    1\n",
       "344.3    1\n",
       "345.8    1\n",
       "349.2    1\n",
       "349.7    1\n",
       "350.2    1\n",
       "352.2    1\n",
       "352.5    1\n",
       "354.9    1\n",
       "359.9    1\n",
       "364.3    1\n",
       "364.9    1\n",
       "367.7    1\n",
       "377.5    1\n",
       "381.6    1\n",
       "381.9    1\n",
       "395.0    1\n",
       "Name: Ngt_Mins, Length: 1813, dtype: int64"
      ]
     },
     "execution_count": 33,
     "metadata": {},
     "output_type": "execute_result"
    },
    {
     "data": {
      "text/plain": [
       "('Ngt_Calls', 130)"
      ]
     },
     "execution_count": 33,
     "metadata": {},
     "output_type": "execute_result"
    },
    {
     "data": {
      "text/plain": [
       "12      1\n",
       "33      1\n",
       "36      1\n",
       "38      2\n",
       "40      1\n",
       "41      1\n",
       "42      4\n",
       "43      1\n",
       "44      1\n",
       "46      3\n",
       "48      2\n",
       "49      4\n",
       "50      5\n",
       "51      2\n",
       "52      4\n",
       "53     10\n",
       "54      3\n",
       "55      7\n",
       "56      7\n",
       "57     10\n",
       "58      9\n",
       "59     12\n",
       "60     12\n",
       "61     16\n",
       "62     10\n",
       "63     16\n",
       "64     17\n",
       "65     25\n",
       "66     19\n",
       "67     28\n",
       "       ..\n",
       "138    12\n",
       "139    16\n",
       "140    12\n",
       "141    11\n",
       "142     6\n",
       "143     7\n",
       "144     4\n",
       "145     9\n",
       "146     8\n",
       "147     6\n",
       "148     6\n",
       "149     2\n",
       "150     4\n",
       "151     7\n",
       "152     3\n",
       "153     3\n",
       "154     3\n",
       "155     4\n",
       "156     2\n",
       "157     2\n",
       "158     2\n",
       "159     2\n",
       "160     1\n",
       "161     1\n",
       "164     1\n",
       "165     1\n",
       "166     1\n",
       "168     1\n",
       "170     1\n",
       "175     1\n",
       "Name: Ngt_Calls, Length: 130, dtype: int64"
      ]
     },
     "execution_count": 33,
     "metadata": {},
     "output_type": "execute_result"
    },
    {
     "data": {
      "text/plain": [
       "('Ngt_Chg', 1012)"
      ]
     },
     "execution_count": 33,
     "metadata": {},
     "output_type": "execute_result"
    },
    {
     "data": {
      "text/plain": [
       "1.04     1\n",
       "1.97     1\n",
       "2.03     1\n",
       "2.10     1\n",
       "2.13     1\n",
       "2.25     2\n",
       "2.29     1\n",
       "2.40     1\n",
       "2.43     1\n",
       "2.45     1\n",
       "2.55     1\n",
       "2.59     1\n",
       "2.68     1\n",
       "2.76     1\n",
       "2.85     1\n",
       "2.86     1\n",
       "2.89     1\n",
       "2.93     1\n",
       "2.96     2\n",
       "3.02     1\n",
       "3.05     1\n",
       "3.18     1\n",
       "3.20     2\n",
       "3.25     1\n",
       "3.26     1\n",
       "3.29     2\n",
       "3.32     1\n",
       "3.39     1\n",
       "3.41     1\n",
       "3.44     3\n",
       "        ..\n",
       "14.65    2\n",
       "14.67    2\n",
       "14.69    1\n",
       "14.78    1\n",
       "14.80    1\n",
       "14.81    2\n",
       "14.82    1\n",
       "14.95    1\n",
       "14.97    1\n",
       "14.98    1\n",
       "15.01    2\n",
       "15.06    1\n",
       "15.12    1\n",
       "15.43    1\n",
       "15.49    1\n",
       "15.56    1\n",
       "15.71    1\n",
       "15.74    1\n",
       "15.76    1\n",
       "15.85    1\n",
       "15.86    1\n",
       "15.97    1\n",
       "16.20    1\n",
       "16.39    1\n",
       "16.42    1\n",
       "16.55    1\n",
       "16.99    1\n",
       "17.17    1\n",
       "17.19    1\n",
       "17.77    1\n",
       "Name: Ngt_Chg, Length: 1012, dtype: int64"
      ]
     },
     "execution_count": 33,
     "metadata": {},
     "output_type": "execute_result"
    },
    {
     "data": {
      "text/plain": [
       "('Intl_Mins', 168)"
      ]
     },
     "execution_count": 33,
     "metadata": {},
     "output_type": "execute_result"
    },
    {
     "data": {
      "text/plain": [
       "0.0     23\n",
       "0.4      1\n",
       "1.1      1\n",
       "1.3      1\n",
       "2.0      2\n",
       "2.1      2\n",
       "2.2      2\n",
       "2.4      1\n",
       "2.5      1\n",
       "2.6      1\n",
       "2.7      1\n",
       "2.9      2\n",
       "3.1      2\n",
       "3.3      2\n",
       "3.4      1\n",
       "3.5      4\n",
       "3.6      2\n",
       "3.7      5\n",
       "3.8      6\n",
       "3.9      3\n",
       "4.0      2\n",
       "4.1      4\n",
       "4.2      9\n",
       "4.3      5\n",
       "4.4      7\n",
       "4.5      7\n",
       "4.6      9\n",
       "4.7      8\n",
       "4.8      5\n",
       "4.9      8\n",
       "        ..\n",
       "15.8     7\n",
       "15.9     5\n",
       "16.0     4\n",
       "16.1     9\n",
       "16.2     6\n",
       "16.3     4\n",
       "16.4     6\n",
       "16.5     5\n",
       "16.6     6\n",
       "16.7     3\n",
       "16.8     3\n",
       "16.9     5\n",
       "17.0     4\n",
       "17.1     1\n",
       "17.2     3\n",
       "17.3     3\n",
       "17.5     3\n",
       "17.6     2\n",
       "17.8     3\n",
       "17.9     1\n",
       "18.0     3\n",
       "18.2     2\n",
       "18.3     1\n",
       "18.4     1\n",
       "18.7     1\n",
       "18.9     2\n",
       "19.2     1\n",
       "19.3     1\n",
       "19.7     1\n",
       "20.0     1\n",
       "Name: Intl_Mins, Length: 168, dtype: int64"
      ]
     },
     "execution_count": 33,
     "metadata": {},
     "output_type": "execute_result"
    },
    {
     "data": {
      "text/plain": [
       "('Intl_Calls', 21)"
      ]
     },
     "execution_count": 33,
     "metadata": {},
     "output_type": "execute_result"
    },
    {
     "data": {
      "text/plain": [
       "0      23\n",
       "1     245\n",
       "2     680\n",
       "3     925\n",
       "4     881\n",
       "5     646\n",
       "6     460\n",
       "7     283\n",
       "8     156\n",
       "9     141\n",
       "10     70\n",
       "11     38\n",
       "12     21\n",
       "13     19\n",
       "14      6\n",
       "15      9\n",
       "16      6\n",
       "17      1\n",
       "18      4\n",
       "19      2\n",
       "20      1\n",
       "Name: Intl_Calls, dtype: int64"
      ]
     },
     "execution_count": 33,
     "metadata": {},
     "output_type": "execute_result"
    },
    {
     "data": {
      "text/plain": [
       "('Intl_Chg', 168)"
      ]
     },
     "execution_count": 33,
     "metadata": {},
     "output_type": "execute_result"
    },
    {
     "data": {
      "text/plain": [
       "0.00    23\n",
       "0.11     1\n",
       "0.30     1\n",
       "0.35     1\n",
       "0.54     2\n",
       "0.57     2\n",
       "0.59     2\n",
       "0.65     1\n",
       "0.68     1\n",
       "0.70     1\n",
       "0.73     1\n",
       "0.78     2\n",
       "0.84     2\n",
       "0.89     2\n",
       "0.92     1\n",
       "0.95     4\n",
       "0.97     2\n",
       "1.00     5\n",
       "1.03     6\n",
       "1.05     3\n",
       "1.08     2\n",
       "1.11     4\n",
       "1.13     9\n",
       "1.16     5\n",
       "1.19     7\n",
       "1.22     7\n",
       "1.24     9\n",
       "1.27     8\n",
       "1.30     5\n",
       "1.32     8\n",
       "        ..\n",
       "4.27     7\n",
       "4.29     5\n",
       "4.32     4\n",
       "4.35     9\n",
       "4.37     6\n",
       "4.40     4\n",
       "4.43     6\n",
       "4.46     5\n",
       "4.48     6\n",
       "4.51     3\n",
       "4.54     3\n",
       "4.56     5\n",
       "4.59     4\n",
       "4.62     1\n",
       "4.64     3\n",
       "4.67     3\n",
       "4.73     3\n",
       "4.75     2\n",
       "4.81     3\n",
       "4.83     1\n",
       "4.86     3\n",
       "4.91     2\n",
       "4.94     1\n",
       "4.97     1\n",
       "5.05     1\n",
       "5.10     2\n",
       "5.18     1\n",
       "5.21     1\n",
       "5.32     1\n",
       "5.40     1\n",
       "Name: Intl_Chg, Length: 168, dtype: int64"
      ]
     },
     "execution_count": 33,
     "metadata": {},
     "output_type": "execute_result"
    },
    {
     "data": {
      "text/plain": [
       "('CustServ_Calls', 10)"
      ]
     },
     "execution_count": 33,
     "metadata": {},
     "output_type": "execute_result"
    },
    {
     "data": {
      "text/plain": [
       "0     951\n",
       "1    1651\n",
       "2    1031\n",
       "3     616\n",
       "4     234\n",
       "5      89\n",
       "6      28\n",
       "7      13\n",
       "8       2\n",
       "9       2\n",
       "Name: CustServ_Calls, dtype: int64"
      ]
     },
     "execution_count": 33,
     "metadata": {},
     "output_type": "execute_result"
    },
    {
     "data": {
      "text/plain": [
       "('Churn', 2)"
      ]
     },
     "execution_count": 33,
     "metadata": {},
     "output_type": "execute_result"
    },
    {
     "data": {
      "text/plain": [
       "F    3961\n",
       "T     656\n",
       "Name: Churn, dtype: int64"
      ]
     },
     "execution_count": 33,
     "metadata": {},
     "output_type": "execute_result"
    }
   ],
   "source": [
    "for i in telData_copy.columns:\n",
    "    i, len(telData_copy[i].value_counts().sort_index())\n",
    "    telData_copy[i].value_counts().sort_index()"
   ]
  },
  {
   "cell_type": "code",
   "execution_count": 41,
   "metadata": {
    "scrolled": true
   },
   "outputs": [
    {
     "data": {
      "text/plain": [
       "'Area_Cd'"
      ]
     },
     "execution_count": 41,
     "metadata": {},
     "output_type": "execute_result"
    },
    {
     "data": {
      "text/plain": [
       "<matplotlib.axes._subplots.AxesSubplot at 0x273f6a9dc88>"
      ]
     },
     "execution_count": 41,
     "metadata": {},
     "output_type": "execute_result"
    },
    {
     "data": {
      "image/png": "[encoded data removed]",
      "text/plain": [
       "<matplotlib.figure.Figure at 0x273f6de5e10>"
      ]
     },
     "metadata": {},
     "output_type": "display_data"
    },
    {
     "data": {
      "text/plain": [
       "'Intl_Plan'"
      ]
     },
     "execution_count": 41,
     "metadata": {},
     "output_type": "execute_result"
    },
    {
     "data": {
      "text/plain": [
       "<matplotlib.axes._subplots.AxesSubplot at 0x273f76eb2b0>"
      ]
     },
     "execution_count": 41,
     "metadata": {},
     "output_type": "execute_result"
    },
    {
     "data": {
      "image/png": "[encoded data removed]",
      "text/plain": [
       "<matplotlib.figure.Figure at 0x273f76d7ef0>"
      ]
     },
     "metadata": {},
     "output_type": "display_data"
    },
    {
     "data": {
      "text/plain": [
       "'VMail_Plan'"
      ]
     },
     "execution_count": 41,
     "metadata": {},
     "output_type": "execute_result"
    },
    {
     "data": {
      "text/plain": [
       "<matplotlib.axes._subplots.AxesSubplot at 0x273f7709048>"
      ]
     },
     "execution_count": 41,
     "metadata": {},
     "output_type": "execute_result"
    },
    {
     "data": {
      "image/png": "[encoded data removed]",
      "text/plain": [
       "<matplotlib.figure.Figure at 0x273f6d9dfd0>"
      ]
     },
     "metadata": {},
     "output_type": "display_data"
    },
    {
     "data": {
      "text/plain": [
       "'CustServ_Calls'"
      ]
     },
     "execution_count": 41,
     "metadata": {},
     "output_type": "execute_result"
    },
    {
     "data": {
      "text/plain": [
       "<matplotlib.axes._subplots.AxesSubplot at 0x273f67150b8>"
      ]
     },
     "execution_count": 41,
     "metadata": {},
     "output_type": "execute_result"
    },
    {
     "data": {
      "image/png": "[encoded data removed]",
      "text/plain": [
       "<matplotlib.figure.Figure at 0x273f7675160>"
      ]
     },
     "metadata": {},
     "output_type": "display_data"
    },
    {
     "data": {
      "text/plain": [
       "'Churn'"
      ]
     },
     "execution_count": 41,
     "metadata": {},
     "output_type": "execute_result"
    },
    {
     "data": {
      "text/plain": [
       "<matplotlib.axes._subplots.AxesSubplot at 0x273f747be10>"
      ]
     },
     "execution_count": 41,
     "metadata": {},
     "output_type": "execute_result"
    },
    {
     "data": {
      "image/png": "[encoded data removed]",
      "text/plain": [
       "<matplotlib.figure.Figure at 0x273f76d8048>"
      ]
     },
     "metadata": {},
     "output_type": "display_data"
    }
   ],
   "source": [
    "plt.rcParams['figure.figsize'] = 6,4\n",
    "for i in ['Area_Cd', 'Intl_Plan', 'VMail_Plan', 'CustServ_Calls', 'Churn']:\n",
    "    i\n",
    "    telData_copy[i].value_counts().plot.bar()\n",
    "    plt.show()"
   ]
  },
  {
   "cell_type": "code",
   "execution_count": 77,
   "metadata": {
    "scrolled": true
   },
   "outputs": [
    {
     "data": {
      "text/plain": [
       "State              object\n",
       "Acc_Len             int64\n",
       "Area_Cd             int64\n",
       "Phn                object\n",
       "Intl_Plan          object\n",
       "VMail_Plan         object\n",
       "Vmail_Msg           int64\n",
       "Day_Mins          float64\n",
       "Day_Calls           int64\n",
       "Day_Chg           float64\n",
       "Eve_Mins          float64\n",
       "Eve_Calls           int64\n",
       "Eve_Chg           float64\n",
       "Ngt_Mins          float64\n",
       "Ngt_Calls           int64\n",
       "Ngt_Chg           float64\n",
       "Intl_Mins         float64\n",
       "Intl_Calls          int64\n",
       "Intl_Chg          float64\n",
       "CustServ_Calls      int64\n",
       "Churn              object\n",
       "dtype: object"
      ]
     },
     "execution_count": 77,
     "metadata": {},
     "output_type": "execute_result"
    },
    {
     "data": {
      "text/plain": [
       "21"
      ]
     },
     "execution_count": 77,
     "metadata": {},
     "output_type": "execute_result"
    },
    {
     "data": {
      "text/plain": [
       "Index(['Acc_Len', 'Area_Cd', 'Vmail_Msg', 'Day_Mins', 'Day_Calls', 'Day_Chg',\n",
       "       'Eve_Mins', 'Eve_Calls', 'Eve_Chg', 'Ngt_Mins', 'Ngt_Calls', 'Ngt_Chg',\n",
       "       'Intl_Mins', 'Intl_Calls', 'Intl_Chg', 'CustServ_Calls'],\n",
       "      dtype='object')"
      ]
     },
     "execution_count": 77,
     "metadata": {},
     "output_type": "execute_result"
    },
    {
     "data": {
      "text/plain": [
       "16"
      ]
     },
     "execution_count": 77,
     "metadata": {},
     "output_type": "execute_result"
    },
    {
     "data": {
      "text/plain": [
       "Index(['State', 'Phn', 'Intl_Plan', 'VMail_Plan', 'Churn'], dtype='object')"
      ]
     },
     "execution_count": 77,
     "metadata": {},
     "output_type": "execute_result"
    }
   ],
   "source": [
    "telData_copy.dtypes\n",
    "len(telData_copy.dtypes)\n",
    "telData_copy.columns[telData_copy.dtypes != 'object']\n",
    "len(telData_copy.columns[telData_copy.dtypes != 'object'])\n",
    "telData_copy.columns[telData_copy.dtypes == 'object']"
   ]
  },
  {
   "cell_type": "code",
   "execution_count": 78,
   "metadata": {},
   "outputs": [
    {
     "data": {
      "text/plain": [
       "'Acc_Len'"
      ]
     },
     "execution_count": 78,
     "metadata": {},
     "output_type": "execute_result"
    },
    {
     "data": {
      "text/plain": [
       "<matplotlib.axes._subplots.AxesSubplot at 0x273f7339940>"
      ]
     },
     "execution_count": 78,
     "metadata": {},
     "output_type": "execute_result"
    },
    {
     "data": {
      "image/png": "[encoded data removed]",
      "text/plain": [
       "<matplotlib.figure.Figure at 0x273f72bfcc0>"
      ]
     },
     "metadata": {},
     "output_type": "display_data"
    },
    {
     "data": {
      "text/plain": [
       "'Area_Cd'"
      ]
     },
     "execution_count": 78,
     "metadata": {},
     "output_type": "execute_result"
    },
    {
     "data": {
      "text/plain": [
       "<matplotlib.axes._subplots.AxesSubplot at 0x273facff9b0>"
      ]
     },
     "execution_count": 78,
     "metadata": {},
     "output_type": "execute_result"
    },
    {
     "data": {
      "image/png": "[encoded data removed]",
      "text/plain": [
       "<matplotlib.figure.Figure at 0x273f9b216d8>"
      ]
     },
     "metadata": {},
     "output_type": "display_data"
    },
    {
     "data": {
      "text/plain": [
       "'Vmail_Msg'"
      ]
     },
     "execution_count": 78,
     "metadata": {},
     "output_type": "execute_result"
    },
    {
     "data": {
      "text/plain": [
       "<matplotlib.axes._subplots.AxesSubplot at 0x273f76f4160>"
      ]
     },
     "execution_count": 78,
     "metadata": {},
     "output_type": "execute_result"
    },
    {
     "data": {
      "image/png": "[encoded data removed]",
      "text/plain": [
       "<matplotlib.figure.Figure at 0x273f735d358>"
      ]
     },
     "metadata": {},
     "output_type": "display_data"
    },
    {
     "data": {
      "text/plain": [
       "'Day_Mins'"
      ]
     },
     "execution_count": 78,
     "metadata": {},
     "output_type": "execute_result"
    },
    {
     "data": {
      "text/plain": [
       "<matplotlib.axes._subplots.AxesSubplot at 0x273f74dbb00>"
      ]
     },
     "execution_count": 78,
     "metadata": {},
     "output_type": "execute_result"
    },
    {
     "data": {
      "image/png": "[encoded data removed]",
      "text/plain": [
       "<matplotlib.figure.Figure at 0x273f735d278>"
      ]
     },
     "metadata": {},
     "output_type": "display_data"
    },
    {
     "data": {
      "text/plain": [
       "'Day_Calls'"
      ]
     },
     "execution_count": 78,
     "metadata": {},
     "output_type": "execute_result"
    },
    {
     "data": {
      "text/plain": [
       "<matplotlib.axes._subplots.AxesSubplot at 0x273f98ad7b8>"
      ]
     },
     "execution_count": 78,
     "metadata": {},
     "output_type": "execute_result"
    },
    {
     "data": {
      "image/png": "[encoded data removed]",
      "text/plain": [
       "<matplotlib.figure.Figure at 0x273f76d7240>"
      ]
     },
     "metadata": {},
     "output_type": "display_data"
    },
    {
     "data": {
      "text/plain": [
       "'Day_Chg'"
      ]
     },
     "execution_count": 78,
     "metadata": {},
     "output_type": "execute_result"
    },
    {
     "data": {
      "text/plain": [
       "<matplotlib.axes._subplots.AxesSubplot at 0x273f6d817f0>"
      ]
     },
     "execution_count": 78,
     "metadata": {},
     "output_type": "execute_result"
    },
    {
     "data": {
      "image/png": "[encoded data removed]",
      "text/plain": [
       "<matplotlib.figure.Figure at 0x273fc0a2b00>"
      ]
     },
     "metadata": {},
     "output_type": "display_data"
    },
    {
     "data": {
      "text/plain": [
       "'Eve_Mins'"
      ]
     },
     "execution_count": 78,
     "metadata": {},
     "output_type": "execute_result"
    },
    {
     "data": {
      "text/plain": [
       "<matplotlib.axes._subplots.AxesSubplot at 0x273fbfe07f0>"
      ]
     },
     "execution_count": 78,
     "metadata": {},
     "output_type": "execute_result"
    },
    {
     "data": {
      "image/png": "[encoded data removed]",
      "text/plain": [
       "<matplotlib.figure.Figure at 0x273f988dfd0>"
      ]
     },
     "metadata": {},
     "output_type": "display_data"
    },
    {
     "data": {
      "text/plain": [
       "'Eve_Calls'"
      ]
     },
     "execution_count": 78,
     "metadata": {},
     "output_type": "execute_result"
    },
    {
     "data": {
      "text/plain": [
       "<matplotlib.axes._subplots.AxesSubplot at 0x273fc168470>"
      ]
     },
     "execution_count": 78,
     "metadata": {},
     "output_type": "execute_result"
    },
    {
     "data": {
      "image/png": "[encoded data removed]",
      "text/plain": [
       "<matplotlib.figure.Figure at 0x273fbff0278>"
      ]
     },
     "metadata": {},
     "output_type": "display_data"
    },
    {
     "data": {
      "text/plain": [
       "'Eve_Chg'"
      ]
     },
     "execution_count": 78,
     "metadata": {},
     "output_type": "execute_result"
    },
    {
     "data": {
      "text/plain": [
       "<matplotlib.axes._subplots.AxesSubplot at 0x273f729b6d8>"
      ]
     },
     "execution_count": 78,
     "metadata": {},
     "output_type": "execute_result"
    },
    {
     "data": {
      "image/png": "[encoded data removed]",
      "text/plain": [
       "<matplotlib.figure.Figure at 0x273f72cf668>"
      ]
     },
     "metadata": {},
     "output_type": "display_data"
    },
    {
     "data": {
      "text/plain": [
       "'Ngt_Mins'"
      ]
     },
     "execution_count": 78,
     "metadata": {},
     "output_type": "execute_result"
    },
    {
     "data": {
      "text/plain": [
       "<matplotlib.axes._subplots.AxesSubplot at 0x273fbe707b8>"
      ]
     },
     "execution_count": 78,
     "metadata": {},
     "output_type": "execute_result"
    },
    {
     "data": {
      "image/png": "[encoded data removed]",
      "text/plain": [
       "<matplotlib.figure.Figure at 0x273f99828d0>"
      ]
     },
     "metadata": {},
     "output_type": "display_data"
    },
    {
     "data": {
      "text/plain": [
       "'Ngt_Calls'"
      ]
     },
     "execution_count": 78,
     "metadata": {},
     "output_type": "execute_result"
    },
    {
     "data": {
      "text/plain": [
       "<matplotlib.axes._subplots.AxesSubplot at 0x273f67b01d0>"
      ]
     },
     "execution_count": 78,
     "metadata": {},
     "output_type": "execute_result"
    },
    {
     "data": {
      "image/png": "[encoded data removed]",
      "text/plain": [
       "<matplotlib.figure.Figure at 0x273f9847ac8>"
      ]
     },
     "metadata": {},
     "output_type": "display_data"
    },
    {
     "data": {
      "text/plain": [
       "'Ngt_Chg'"
      ]
     },
     "execution_count": 78,
     "metadata": {},
     "output_type": "execute_result"
    },
    {
     "data": {
      "text/plain": [
       "<matplotlib.axes._subplots.AxesSubplot at 0x273f98476a0>"
      ]
     },
     "execution_count": 78,
     "metadata": {},
     "output_type": "execute_result"
    },
    {
     "data": {
      "image/png": "[encoded data removed]",
      "text/plain": [
       "<matplotlib.figure.Figure at 0x273f99ac5c0>"
      ]
     },
     "metadata": {},
     "output_type": "display_data"
    },
    {
     "data": {
      "text/plain": [
       "'Intl_Mins'"
      ]
     },
     "execution_count": 78,
     "metadata": {},
     "output_type": "execute_result"
    },
    {
     "data": {
      "text/plain": [
       "<matplotlib.axes._subplots.AxesSubplot at 0x273f76a05f8>"
      ]
     },
     "execution_count": 78,
     "metadata": {},
     "output_type": "execute_result"
    },
    {
     "data": {
      "image/png": "[encoded data removed]",
      "text/plain": [
       "<matplotlib.figure.Figure at 0x273f71c15f8>"
      ]
     },
     "metadata": {},
     "output_type": "display_data"
    },
    {
     "data": {
      "text/plain": [
       "'Intl_Calls'"
      ]
     },
     "execution_count": 78,
     "metadata": {},
     "output_type": "execute_result"
    },
    {
     "data": {
      "text/plain": [
       "<matplotlib.axes._subplots.AxesSubplot at 0x273fc373080>"
      ]
     },
     "execution_count": 78,
     "metadata": {},
     "output_type": "execute_result"
    },
    {
     "data": {
      "image/png": "[encoded data removed]",
      "text/plain": [
       "<matplotlib.figure.Figure at 0x273f71c8780>"
      ]
     },
     "metadata": {},
     "output_type": "display_data"
    },
    {
     "data": {
      "text/plain": [
       "'Intl_Chg'"
      ]
     },
     "execution_count": 78,
     "metadata": {},
     "output_type": "execute_result"
    },
    {
     "data": {
      "text/plain": [
       "<matplotlib.axes._subplots.AxesSubplot at 0x273fc38b518>"
      ]
     },
     "execution_count": 78,
     "metadata": {},
     "output_type": "execute_result"
    },
    {
     "data": {
      "image/png": "[encoded data removed]",
      "text/plain": [
       "<matplotlib.figure.Figure at 0x273fc365908>"
      ]
     },
     "metadata": {},
     "output_type": "display_data"
    },
    {
     "data": {
      "text/plain": [
       "'CustServ_Calls'"
      ]
     },
     "execution_count": 78,
     "metadata": {},
     "output_type": "execute_result"
    },
    {
     "data": {
      "text/plain": [
       "<matplotlib.axes._subplots.AxesSubplot at 0x273f71c8940>"
      ]
     },
     "execution_count": 78,
     "metadata": {},
     "output_type": "execute_result"
    },
    {
     "data": {
      "image/png": "[encoded data removed]",
      "text/plain": [
       "<matplotlib.figure.Figure at 0x273fc37be10>"
      ]
     },
     "metadata": {},
     "output_type": "display_data"
    }
   ],
   "source": [
    "# Distribution of all Numeric Features\n",
    "plt.rcParams['figure.figsize'] = 10,3\n",
    "for i in telData_copy.columns[telData_copy.dtypes != 'object']:\n",
    "    i\n",
    "    sns.distplot(telData_copy[i])\n",
    "    plt.show()"
   ]
  },
  {
   "cell_type": "code",
   "execution_count": 79,
   "metadata": {
    "scrolled": true
   },
   "outputs": [
    {
     "data": {
      "text/plain": [
       "'Acc_Len'"
      ]
     },
     "execution_count": 79,
     "metadata": {},
     "output_type": "execute_result"
    },
    {
     "data": {
      "text/plain": [
       "<matplotlib.axes._subplots.AxesSubplot at 0x273fc15d4a8>"
      ]
     },
     "execution_count": 79,
     "metadata": {},
     "output_type": "execute_result"
    },
    {
     "data": {
      "image/png": "[encoded data removed]",
      "text/plain": [
       "<matplotlib.figure.Figure at 0x273fc122160>"
      ]
     },
     "metadata": {},
     "output_type": "display_data"
    },
    {
     "data": {
      "text/plain": [
       "'Area_Cd'"
      ]
     },
     "execution_count": 79,
     "metadata": {},
     "output_type": "execute_result"
    },
    {
     "data": {
      "text/plain": [
       "<matplotlib.axes._subplots.AxesSubplot at 0x273fc110550>"
      ]
     },
     "execution_count": 79,
     "metadata": {},
     "output_type": "execute_result"
    },
    {
     "data": {
      "image/png": "[encoded data removed]",
      "text/plain": [
       "<matplotlib.figure.Figure at 0x273fc099dd8>"
      ]
     },
     "metadata": {},
     "output_type": "display_data"
    },
    {
     "data": {
      "text/plain": [
       "'Vmail_Msg'"
      ]
     },
     "execution_count": 79,
     "metadata": {},
     "output_type": "execute_result"
    },
    {
     "data": {
      "text/plain": [
       "<matplotlib.axes._subplots.AxesSubplot at 0x273fbeb4198>"
      ]
     },
     "execution_count": 79,
     "metadata": {},
     "output_type": "execute_result"
    },
    {
     "data": {
      "image/png": "[encoded data removed]",
      "text/plain": [
       "<matplotlib.figure.Figure at 0x273fbf19dd8>"
      ]
     },
     "metadata": {},
     "output_type": "display_data"
    },
    {
     "data": {
      "text/plain": [
       "'Day_Mins'"
      ]
     },
     "execution_count": 79,
     "metadata": {},
     "output_type": "execute_result"
    },
    {
     "data": {
      "text/plain": [
       "<matplotlib.axes._subplots.AxesSubplot at 0x273f6d93470>"
      ]
     },
     "execution_count": 79,
     "metadata": {},
     "output_type": "execute_result"
    },
    {
     "data": {
      "image/png": "[encoded data removed]",
      "text/plain": [
       "<matplotlib.figure.Figure at 0x273f7322e80>"
      ]
     },
     "metadata": {},
     "output_type": "display_data"
    },
    {
     "data": {
      "text/plain": [
       "'Day_Calls'"
      ]
     },
     "execution_count": 79,
     "metadata": {},
     "output_type": "execute_result"
    },
    {
     "data": {
      "text/plain": [
       "<matplotlib.axes._subplots.AxesSubplot at 0x273f7724a58>"
      ]
     },
     "execution_count": 79,
     "metadata": {},
     "output_type": "execute_result"
    },
    {
     "data": {
      "image/png": "[encoded data removed]",
      "text/plain": [
       "<matplotlib.figure.Figure at 0x273f67032b0>"
      ]
     },
     "metadata": {},
     "output_type": "display_data"
    },
    {
     "data": {
      "text/plain": [
       "'Day_Chg'"
      ]
     },
     "execution_count": 79,
     "metadata": {},
     "output_type": "execute_result"
    },
    {
     "data": {
      "text/plain": [
       "<matplotlib.axes._subplots.AxesSubplot at 0x273f98ade48>"
      ]
     },
     "execution_count": 79,
     "metadata": {},
     "output_type": "execute_result"
    },
    {
     "data": {
      "image/png": "[encoded data removed]",
      "text/plain": [
       "<matplotlib.figure.Figure at 0x273f9b69e48>"
      ]
     },
     "metadata": {},
     "output_type": "display_data"
    },
    {
     "data": {
      "text/plain": [
       "'Eve_Mins'"
      ]
     },
     "execution_count": 79,
     "metadata": {},
     "output_type": "execute_result"
    },
    {
     "data": {
      "text/plain": [
       "<matplotlib.axes._subplots.AxesSubplot at 0x273f6a9dda0>"
      ]
     },
     "execution_count": 79,
     "metadata": {},
     "output_type": "execute_result"
    },
    {
     "data": {
      "image/png": "[encoded data removed]",
      "text/plain": [
       "<matplotlib.figure.Figure at 0x273f9b2f908>"
      ]
     },
     "metadata": {},
     "output_type": "display_data"
    },
    {
     "data": {
      "text/plain": [
       "'Eve_Calls'"
      ]
     },
     "execution_count": 79,
     "metadata": {},
     "output_type": "execute_result"
    },
    {
     "data": {
      "text/plain": [
       "<matplotlib.axes._subplots.AxesSubplot at 0x273f67cc8d0>"
      ]
     },
     "execution_count": 79,
     "metadata": {},
     "output_type": "execute_result"
    },
    {
     "data": {
      "image/png": "[encoded data removed]",
      "text/plain": [
       "<matplotlib.figure.Figure at 0x273f769d4e0>"
      ]
     },
     "metadata": {},
     "output_type": "display_data"
    },
    {
     "data": {
      "text/plain": [
       "'Eve_Chg'"
      ]
     },
     "execution_count": 79,
     "metadata": {},
     "output_type": "execute_result"
    },
    {
     "data": {
      "text/plain": [
       "<matplotlib.axes._subplots.AxesSubplot at 0x273f726e7f0>"
      ]
     },
     "execution_count": 79,
     "metadata": {},
     "output_type": "execute_result"
    },
    {
     "data": {
      "image/png": "[encoded data removed]",
      "text/plain": [
       "<matplotlib.figure.Figure at 0x273f73a09e8>"
      ]
     },
     "metadata": {},
     "output_type": "display_data"
    },
    {
     "data": {
      "text/plain": [
       "'Ngt_Mins'"
      ]
     },
     "execution_count": 79,
     "metadata": {},
     "output_type": "execute_result"
    },
    {
     "data": {
      "text/plain": [
       "<matplotlib.axes._subplots.AxesSubplot at 0x273f765ef98>"
      ]
     },
     "execution_count": 79,
     "metadata": {},
     "output_type": "execute_result"
    },
    {
     "data": {
      "image/png": "[encoded data removed]",
      "text/plain": [
       "<matplotlib.figure.Figure at 0x273fc274240>"
      ]
     },
     "metadata": {},
     "output_type": "display_data"
    },
    {
     "data": {
      "text/plain": [
       "'Ngt_Calls'"
      ]
     },
     "execution_count": 79,
     "metadata": {},
     "output_type": "execute_result"
    },
    {
     "data": {
      "text/plain": [
       "<matplotlib.axes._subplots.AxesSubplot at 0x273fc2a6a58>"
      ]
     },
     "execution_count": 79,
     "metadata": {},
     "output_type": "execute_result"
    },
    {
     "data": {
      "image/png": "[encoded data removed]",
      "text/plain": [
       "<matplotlib.figure.Figure at 0x273fbedcbe0>"
      ]
     },
     "metadata": {},
     "output_type": "display_data"
    },
    {
     "data": {
      "text/plain": [
       "'Ngt_Chg'"
      ]
     },
     "execution_count": 79,
     "metadata": {},
     "output_type": "execute_result"
    },
    {
     "data": {
      "text/plain": [
       "<matplotlib.axes._subplots.AxesSubplot at 0x273f985ec50>"
      ]
     },
     "execution_count": 79,
     "metadata": {},
     "output_type": "execute_result"
    },
    {
     "data": {
      "image/png": "[encoded data removed]",
      "text/plain": [
       "<matplotlib.figure.Figure at 0x273f73c91d0>"
      ]
     },
     "metadata": {},
     "output_type": "display_data"
    },
    {
     "data": {
      "text/plain": [
       "'Intl_Mins'"
      ]
     },
     "execution_count": 79,
     "metadata": {},
     "output_type": "execute_result"
    },
    {
     "data": {
      "text/plain": [
       "<matplotlib.axes._subplots.AxesSubplot at 0x273fac6c470>"
      ]
     },
     "execution_count": 79,
     "metadata": {},
     "output_type": "execute_result"
    },
    {
     "data": {
      "image/png": "[encoded data removed]",
      "text/plain": [
       "<matplotlib.figure.Figure at 0x273fabf6438>"
      ]
     },
     "metadata": {},
     "output_type": "display_data"
    },
    {
     "data": {
      "text/plain": [
       "'Intl_Calls'"
      ]
     },
     "execution_count": 79,
     "metadata": {},
     "output_type": "execute_result"
    },
    {
     "data": {
      "text/plain": [
       "<matplotlib.axes._subplots.AxesSubplot at 0x273f9a98048>"
      ]
     },
     "execution_count": 79,
     "metadata": {},
     "output_type": "execute_result"
    },
    {
     "data": {
      "image/png": "[encoded data removed]",
      "text/plain": [
       "<matplotlib.figure.Figure at 0x273fc3b1208>"
      ]
     },
     "metadata": {},
     "output_type": "display_data"
    },
    {
     "data": {
      "text/plain": [
       "'Intl_Chg'"
      ]
     },
     "execution_count": 79,
     "metadata": {},
     "output_type": "execute_result"
    },
    {
     "data": {
      "text/plain": [
       "<matplotlib.axes._subplots.AxesSubplot at 0x273fad6d7f0>"
      ]
     },
     "execution_count": 79,
     "metadata": {},
     "output_type": "execute_result"
    },
    {
     "data": {
      "image/png": "[encoded data removed]",
      "text/plain": [
       "<matplotlib.figure.Figure at 0x273fc1473c8>"
      ]
     },
     "metadata": {},
     "output_type": "display_data"
    },
    {
     "data": {
      "text/plain": [
       "'CustServ_Calls'"
      ]
     },
     "execution_count": 79,
     "metadata": {},
     "output_type": "execute_result"
    },
    {
     "data": {
      "text/plain": [
       "<matplotlib.axes._subplots.AxesSubplot at 0x273f73ff0b8>"
      ]
     },
     "execution_count": 79,
     "metadata": {},
     "output_type": "execute_result"
    },
    {
     "data": {
      "image/png": "[encoded data removed]",
      "text/plain": [
       "<matplotlib.figure.Figure at 0x273fc16d978>"
      ]
     },
     "metadata": {},
     "output_type": "display_data"
    }
   ],
   "source": [
    "# Boxplot for all Numerci features w.r.t. Churn as target variable\n",
    "plt.rcParams['figure.figsize'] = 10,3\n",
    "for i in telData_copy.columns[telData_copy.dtypes != 'object']:\n",
    "    i\n",
    "    sns.boxplot(x=i, y='Churn', data=telData_copy)\n",
    "    plt.show()"
   ]
  },
  {
   "cell_type": "code",
   "execution_count": 82,
   "metadata": {
    "collapsed": true
   },
   "outputs": [],
   "source": [
    "# Columns not needed\n",
    "colToDrop = ['State', 'Acc_Len', 'Area_Cd', 'Phn']"
   ]
  },
  {
   "cell_type": "code",
   "execution_count": 83,
   "metadata": {
    "collapsed": true
   },
   "outputs": [],
   "source": [
    "telData_final = telData_copy.drop(colToDrop, axis=1)"
   ]
  },
  {
   "cell_type": "code",
   "execution_count": 84,
   "metadata": {},
   "outputs": [
    {
     "data": {
      "text/plain": [
       "Index(['Intl_Plan', 'VMail_Plan', 'Vmail_Msg', 'Day_Mins', 'Day_Calls',\n",
       "       'Day_Chg', 'Eve_Mins', 'Eve_Calls', 'Eve_Chg', 'Ngt_Mins', 'Ngt_Calls',\n",
       "       'Ngt_Chg', 'Intl_Mins', 'Intl_Calls', 'Intl_Chg', 'CustServ_Calls',\n",
       "       'Churn'],\n",
       "      dtype='object')"
      ]
     },
     "execution_count": 84,
     "metadata": {},
     "output_type": "execute_result"
    }
   ],
   "source": [
    "telData_final.columns"
   ]
  },
  {
   "cell_type": "code",
   "execution_count": 22,
   "metadata": {
    "scrolled": true
   },
   "outputs": [
    {
     "data": {
      "text/html": [
       "<div>\n",
       "<style>\n",
       "    .dataframe thead tr:only-child th {\n",
       "        text-align: right;\n",
       "    }\n",
       "\n",
       "    .dataframe thead th {\n",
       "        text-align: left;\n",
       "    }\n",
       "\n",
       "    .dataframe tbody tr th {\n",
       "        vertical-align: top;\n",
       "    }\n",
       "</style>\n",
       "<table border=\"1\" class=\"dataframe\">\n",
       "  <thead>\n",
       "    <tr style=\"text-align: right;\">\n",
       "      <th></th>\n",
       "      <th>Intl_Plan</th>\n",
       "      <th>VMail_Plan</th>\n",
       "      <th>Vmail_Msg</th>\n",
       "      <th>Day_Mins</th>\n",
       "      <th>Day_Calls</th>\n",
       "      <th>Day_Chg</th>\n",
       "      <th>Eve_Mins</th>\n",
       "      <th>Eve_Calls</th>\n",
       "      <th>Eve_Chg</th>\n",
       "      <th>Ngt_Mins</th>\n",
       "      <th>Ngt_Calls</th>\n",
       "      <th>Ngt_Chg</th>\n",
       "      <th>Intl_Mins</th>\n",
       "      <th>Intl_Calls</th>\n",
       "      <th>Intl_Chg</th>\n",
       "      <th>CustServ_Calls</th>\n",
       "      <th>Churn</th>\n",
       "    </tr>\n",
       "  </thead>\n",
       "  <tbody>\n",
       "    <tr>\n",
       "      <th>4612</th>\n",
       "      <td>no</td>\n",
       "      <td>yes</td>\n",
       "      <td>25</td>\n",
       "      <td>144.0</td>\n",
       "      <td>81</td>\n",
       "      <td>24.48</td>\n",
       "      <td>187.2</td>\n",
       "      <td>112</td>\n",
       "      <td>15.91</td>\n",
       "      <td>158.6</td>\n",
       "      <td>122</td>\n",
       "      <td>7.14</td>\n",
       "      <td>8.5</td>\n",
       "      <td>6</td>\n",
       "      <td>2.30</td>\n",
       "      <td>3</td>\n",
       "      <td>F</td>\n",
       "    </tr>\n",
       "    <tr>\n",
       "      <th>4613</th>\n",
       "      <td>no</td>\n",
       "      <td>yes</td>\n",
       "      <td>29</td>\n",
       "      <td>189.0</td>\n",
       "      <td>91</td>\n",
       "      <td>32.13</td>\n",
       "      <td>303.1</td>\n",
       "      <td>96</td>\n",
       "      <td>25.76</td>\n",
       "      <td>163.6</td>\n",
       "      <td>116</td>\n",
       "      <td>7.36</td>\n",
       "      <td>15.7</td>\n",
       "      <td>1</td>\n",
       "      <td>4.24</td>\n",
       "      <td>3</td>\n",
       "      <td>F</td>\n",
       "    </tr>\n",
       "    <tr>\n",
       "      <th>4614</th>\n",
       "      <td>no</td>\n",
       "      <td>yes</td>\n",
       "      <td>33</td>\n",
       "      <td>127.5</td>\n",
       "      <td>126</td>\n",
       "      <td>21.68</td>\n",
       "      <td>296.1</td>\n",
       "      <td>129</td>\n",
       "      <td>25.17</td>\n",
       "      <td>200.9</td>\n",
       "      <td>91</td>\n",
       "      <td>9.04</td>\n",
       "      <td>13.0</td>\n",
       "      <td>3</td>\n",
       "      <td>3.51</td>\n",
       "      <td>1</td>\n",
       "      <td>F</td>\n",
       "    </tr>\n",
       "    <tr>\n",
       "      <th>4615</th>\n",
       "      <td>no</td>\n",
       "      <td>yes</td>\n",
       "      <td>23</td>\n",
       "      <td>168.9</td>\n",
       "      <td>98</td>\n",
       "      <td>28.71</td>\n",
       "      <td>226.3</td>\n",
       "      <td>117</td>\n",
       "      <td>19.24</td>\n",
       "      <td>165.5</td>\n",
       "      <td>96</td>\n",
       "      <td>7.45</td>\n",
       "      <td>14.3</td>\n",
       "      <td>3</td>\n",
       "      <td>3.86</td>\n",
       "      <td>0</td>\n",
       "      <td>F</td>\n",
       "    </tr>\n",
       "    <tr>\n",
       "      <th>4616</th>\n",
       "      <td>no</td>\n",
       "      <td>no</td>\n",
       "      <td>0</td>\n",
       "      <td>204.7</td>\n",
       "      <td>100</td>\n",
       "      <td>34.80</td>\n",
       "      <td>126.8</td>\n",
       "      <td>107</td>\n",
       "      <td>10.78</td>\n",
       "      <td>202.8</td>\n",
       "      <td>115</td>\n",
       "      <td>9.13</td>\n",
       "      <td>12.1</td>\n",
       "      <td>4</td>\n",
       "      <td>3.27</td>\n",
       "      <td>2</td>\n",
       "      <td>F</td>\n",
       "    </tr>\n",
       "  </tbody>\n",
       "</table>\n",
       "</div>"
      ],
      "text/plain": [
       "     Intl_Plan VMail_Plan  Vmail_Msg  Day_Mins  Day_Calls  Day_Chg  Eve_Mins  \\\n",
       "4612        no        yes         25     144.0         81    24.48     187.2   \n",
       "4613        no        yes         29     189.0         91    32.13     303.1   \n",
       "4614        no        yes         33     127.5        126    21.68     296.1   \n",
       "4615        no        yes         23     168.9         98    28.71     226.3   \n",
       "4616        no         no          0     204.7        100    34.80     126.8   \n",
       "\n",
       "      Eve_Calls  Eve_Chg  Ngt_Mins  Ngt_Calls  Ngt_Chg  Intl_Mins  Intl_Calls  \\\n",
       "4612        112    15.91     158.6        122     7.14        8.5           6   \n",
       "4613         96    25.76     163.6        116     7.36       15.7           1   \n",
       "4614        129    25.17     200.9         91     9.04       13.0           3   \n",
       "4615        117    19.24     165.5         96     7.45       14.3           3   \n",
       "4616        107    10.78     202.8        115     9.13       12.1           4   \n",
       "\n",
       "      Intl_Chg  CustServ_Calls Churn  \n",
       "4612      2.30               3     F  \n",
       "4613      4.24               3     F  \n",
       "4614      3.51               1     F  \n",
       "4615      3.86               0     F  \n",
       "4616      3.27               2     F  "
      ]
     },
     "execution_count": 22,
     "metadata": {},
     "output_type": "execute_result"
    }
   ],
   "source": [
    "telData_final.tail()"
   ]
  },
  {
   "cell_type": "markdown",
   "metadata": {},
   "source": [
    "Only 2 columns besides Churn are now Categorical - Intl_Plan and VMail_Plan : will also convert these into numeric"
   ]
  },
  {
   "cell_type": "code",
   "execution_count": 86,
   "metadata": {
    "collapsed": true
   },
   "outputs": [],
   "source": [
    "col_object = ['Intl_Plan', 'VMail_Plan', 'Churn']"
   ]
  },
  {
   "cell_type": "code",
   "execution_count": 87,
   "metadata": {
    "collapsed": true,
    "scrolled": true
   },
   "outputs": [],
   "source": [
    "telData_final = pd.get_dummies(telData_final, columns=col_object, drop_first=True)"
   ]
  },
  {
   "cell_type": "code",
   "execution_count": 88,
   "metadata": {},
   "outputs": [
    {
     "data": {
      "text/html": [
       "<div>\n",
       "<style>\n",
       "    .dataframe thead tr:only-child th {\n",
       "        text-align: right;\n",
       "    }\n",
       "\n",
       "    .dataframe thead th {\n",
       "        text-align: left;\n",
       "    }\n",
       "\n",
       "    .dataframe tbody tr th {\n",
       "        vertical-align: top;\n",
       "    }\n",
       "</style>\n",
       "<table border=\"1\" class=\"dataframe\">\n",
       "  <thead>\n",
       "    <tr style=\"text-align: right;\">\n",
       "      <th></th>\n",
       "      <th>Vmail_Msg</th>\n",
       "      <th>Day_Mins</th>\n",
       "      <th>Day_Calls</th>\n",
       "      <th>Day_Chg</th>\n",
       "      <th>Eve_Mins</th>\n",
       "      <th>Eve_Calls</th>\n",
       "      <th>Eve_Chg</th>\n",
       "      <th>Ngt_Mins</th>\n",
       "      <th>Ngt_Calls</th>\n",
       "      <th>Ngt_Chg</th>\n",
       "      <th>Intl_Mins</th>\n",
       "      <th>Intl_Calls</th>\n",
       "      <th>Intl_Chg</th>\n",
       "      <th>CustServ_Calls</th>\n",
       "      <th>Intl_Plan_yes</th>\n",
       "      <th>VMail_Plan_yes</th>\n",
       "      <th>Churn_T</th>\n",
       "    </tr>\n",
       "  </thead>\n",
       "  <tbody>\n",
       "    <tr>\n",
       "      <th>4398</th>\n",
       "      <td>0</td>\n",
       "      <td>200.7</td>\n",
       "      <td>151</td>\n",
       "      <td>34.12</td>\n",
       "      <td>290.8</td>\n",
       "      <td>127</td>\n",
       "      <td>24.72</td>\n",
       "      <td>186.7</td>\n",
       "      <td>105</td>\n",
       "      <td>8.40</td>\n",
       "      <td>10.2</td>\n",
       "      <td>9</td>\n",
       "      <td>2.75</td>\n",
       "      <td>1</td>\n",
       "      <td>0</td>\n",
       "      <td>0</td>\n",
       "      <td>0</td>\n",
       "    </tr>\n",
       "    <tr>\n",
       "      <th>2515</th>\n",
       "      <td>0</td>\n",
       "      <td>123.1</td>\n",
       "      <td>88</td>\n",
       "      <td>20.93</td>\n",
       "      <td>213.9</td>\n",
       "      <td>84</td>\n",
       "      <td>18.18</td>\n",
       "      <td>184.9</td>\n",
       "      <td>88</td>\n",
       "      <td>8.32</td>\n",
       "      <td>12.0</td>\n",
       "      <td>2</td>\n",
       "      <td>3.24</td>\n",
       "      <td>5</td>\n",
       "      <td>0</td>\n",
       "      <td>0</td>\n",
       "      <td>1</td>\n",
       "    </tr>\n",
       "    <tr>\n",
       "      <th>1712</th>\n",
       "      <td>0</td>\n",
       "      <td>174.5</td>\n",
       "      <td>73</td>\n",
       "      <td>29.67</td>\n",
       "      <td>213.7</td>\n",
       "      <td>114</td>\n",
       "      <td>18.16</td>\n",
       "      <td>164.7</td>\n",
       "      <td>116</td>\n",
       "      <td>7.41</td>\n",
       "      <td>10.3</td>\n",
       "      <td>5</td>\n",
       "      <td>2.78</td>\n",
       "      <td>4</td>\n",
       "      <td>0</td>\n",
       "      <td>0</td>\n",
       "      <td>0</td>\n",
       "    </tr>\n",
       "    <tr>\n",
       "      <th>1036</th>\n",
       "      <td>32</td>\n",
       "      <td>142.6</td>\n",
       "      <td>77</td>\n",
       "      <td>24.24</td>\n",
       "      <td>208.2</td>\n",
       "      <td>126</td>\n",
       "      <td>17.70</td>\n",
       "      <td>171.0</td>\n",
       "      <td>102</td>\n",
       "      <td>7.69</td>\n",
       "      <td>12.0</td>\n",
       "      <td>2</td>\n",
       "      <td>3.24</td>\n",
       "      <td>3</td>\n",
       "      <td>0</td>\n",
       "      <td>1</td>\n",
       "      <td>0</td>\n",
       "    </tr>\n",
       "  </tbody>\n",
       "</table>\n",
       "</div>"
      ],
      "text/plain": [
       "      Vmail_Msg  Day_Mins  Day_Calls  Day_Chg  Eve_Mins  Eve_Calls  Eve_Chg  \\\n",
       "4398          0     200.7        151    34.12     290.8        127    24.72   \n",
       "2515          0     123.1         88    20.93     213.9         84    18.18   \n",
       "1712          0     174.5         73    29.67     213.7        114    18.16   \n",
       "1036         32     142.6         77    24.24     208.2        126    17.70   \n",
       "\n",
       "      Ngt_Mins  Ngt_Calls  Ngt_Chg  Intl_Mins  Intl_Calls  Intl_Chg  \\\n",
       "4398     186.7        105     8.40       10.2           9      2.75   \n",
       "2515     184.9         88     8.32       12.0           2      3.24   \n",
       "1712     164.7        116     7.41       10.3           5      2.78   \n",
       "1036     171.0        102     7.69       12.0           2      3.24   \n",
       "\n",
       "      CustServ_Calls  Intl_Plan_yes  VMail_Plan_yes  Churn_T  \n",
       "4398               1              0               0        0  \n",
       "2515               5              0               0        1  \n",
       "1712               4              0               0        0  \n",
       "1036               3              0               1        0  "
      ]
     },
     "execution_count": 88,
     "metadata": {},
     "output_type": "execute_result"
    }
   ],
   "source": [
    "telData_final.sample(4, random_state=5)"
   ]
  },
  {
   "cell_type": "markdown",
   "metadata": {},
   "source": [
    "All columns are now Integer/Float"
   ]
  },
  {
   "cell_type": "code",
   "execution_count": 96,
   "metadata": {},
   "outputs": [
    {
     "data": {
      "text/plain": [
       "'Vmail_Msg'"
      ]
     },
     "execution_count": 96,
     "metadata": {},
     "output_type": "execute_result"
    },
    {
     "data": {
      "text/plain": [
       "<matplotlib.axes._subplots.AxesSubplot at 0x273f729b2e8>"
      ]
     },
     "execution_count": 96,
     "metadata": {},
     "output_type": "execute_result"
    },
    {
     "data": {
      "image/png": "[encoded data removed]",
      "text/plain": [
       "<matplotlib.figure.Figure at 0x273f7240358>"
      ]
     },
     "metadata": {},
     "output_type": "display_data"
    },
    {
     "data": {
      "text/plain": [
       "'Day_Mins'"
      ]
     },
     "execution_count": 96,
     "metadata": {},
     "output_type": "execute_result"
    },
    {
     "data": {
      "text/plain": [
       "<matplotlib.axes._subplots.AxesSubplot at 0x273fbfd4668>"
      ]
     },
     "execution_count": 96,
     "metadata": {},
     "output_type": "execute_result"
    },
    {
     "data": {
      "image/png": "[encoded data removed]",
      "text/plain": [
       "<matplotlib.figure.Figure at 0x273fc2b9c88>"
      ]
     },
     "metadata": {},
     "output_type": "display_data"
    },
    {
     "data": {
      "text/plain": [
       "'Day_Calls'"
      ]
     },
     "execution_count": 96,
     "metadata": {},
     "output_type": "execute_result"
    },
    {
     "data": {
      "text/plain": [
       "<matplotlib.axes._subplots.AxesSubplot at 0x273fc43bfd0>"
      ]
     },
     "execution_count": 96,
     "metadata": {},
     "output_type": "execute_result"
    },
    {
     "data": {
      "image/png": "[encoded data removed]",
      "text/plain": [
       "<matplotlib.figure.Figure at 0x273fbe797f0>"
      ]
     },
     "metadata": {},
     "output_type": "display_data"
    },
    {
     "data": {
      "text/plain": [
       "'Day_Chg'"
      ]
     },
     "execution_count": 96,
     "metadata": {},
     "output_type": "execute_result"
    },
    {
     "data": {
      "text/plain": [
       "<matplotlib.axes._subplots.AxesSubplot at 0x273fc1ced68>"
      ]
     },
     "execution_count": 96,
     "metadata": {},
     "output_type": "execute_result"
    },
    {
     "data": {
      "image/png": "[encoded data removed]",
      "text/plain": [
       "<matplotlib.figure.Figure at 0x273fad6d320>"
      ]
     },
     "metadata": {},
     "output_type": "display_data"
    },
    {
     "data": {
      "text/plain": [
       "'Eve_Mins'"
      ]
     },
     "execution_count": 96,
     "metadata": {},
     "output_type": "execute_result"
    },
    {
     "data": {
      "text/plain": [
       "<matplotlib.axes._subplots.AxesSubplot at 0x273f9aaa940>"
      ]
     },
     "execution_count": 96,
     "metadata": {},
     "output_type": "execute_result"
    },
    {
     "data": {
      "image/png": "[encoded data removed]",
      "text/plain": [
       "<matplotlib.figure.Figure at 0x273fc3d1f98>"
      ]
     },
     "metadata": {},
     "output_type": "display_data"
    },
    {
     "data": {
      "text/plain": [
       "'Eve_Calls'"
      ]
     },
     "execution_count": 96,
     "metadata": {},
     "output_type": "execute_result"
    },
    {
     "data": {
      "text/plain": [
       "<matplotlib.axes._subplots.AxesSubplot at 0x273facff748>"
      ]
     },
     "execution_count": 96,
     "metadata": {},
     "output_type": "execute_result"
    },
    {
     "data": {
      "image/png": "[encoded data removed]",
      "text/plain": [
       "<matplotlib.figure.Figure at 0x273fc2aa9e8>"
      ]
     },
     "metadata": {},
     "output_type": "display_data"
    },
    {
     "data": {
      "text/plain": [
       "'Eve_Chg'"
      ]
     },
     "execution_count": 96,
     "metadata": {},
     "output_type": "execute_result"
    },
    {
     "data": {
      "text/plain": [
       "<matplotlib.axes._subplots.AxesSubplot at 0x273f76837f0>"
      ]
     },
     "execution_count": 96,
     "metadata": {},
     "output_type": "execute_result"
    },
    {
     "data": {
      "image/png": "[encoded data removed]",
      "text/plain": [
       "<matplotlib.figure.Figure at 0x273f73341d0>"
      ]
     },
     "metadata": {},
     "output_type": "display_data"
    },
    {
     "data": {
      "text/plain": [
       "'Ngt_Mins'"
      ]
     },
     "execution_count": 96,
     "metadata": {},
     "output_type": "execute_result"
    },
    {
     "data": {
      "text/plain": [
       "<matplotlib.axes._subplots.AxesSubplot at 0x273f72b7b70>"
      ]
     },
     "execution_count": 96,
     "metadata": {},
     "output_type": "execute_result"
    },
    {
     "data": {
      "image/png": "[encoded data removed]",
      "text/plain": [
       "<matplotlib.figure.Figure at 0x273f9a261d0>"
      ]
     },
     "metadata": {},
     "output_type": "display_data"
    },
    {
     "data": {
      "text/plain": [
       "'Ngt_Calls'"
      ]
     },
     "execution_count": 96,
     "metadata": {},
     "output_type": "execute_result"
    },
    {
     "data": {
      "text/plain": [
       "<matplotlib.axes._subplots.AxesSubplot at 0x273f9b2f128>"
      ]
     },
     "execution_count": 96,
     "metadata": {},
     "output_type": "execute_result"
    },
    {
     "data": {
      "image/png": "[encoded data removed]",
      "text/plain": [
       "<matplotlib.figure.Figure at 0x273fad5df60>"
      ]
     },
     "metadata": {},
     "output_type": "display_data"
    },
    {
     "data": {
      "text/plain": [
       "'Ngt_Chg'"
      ]
     },
     "execution_count": 96,
     "metadata": {},
     "output_type": "execute_result"
    },
    {
     "data": {
      "text/plain": [
       "<matplotlib.axes._subplots.AxesSubplot at 0x273f70224e0>"
      ]
     },
     "execution_count": 96,
     "metadata": {},
     "output_type": "execute_result"
    },
    {
     "data": {
      "image/png": "[encoded data removed]",
      "text/plain": [
       "<matplotlib.figure.Figure at 0x273f69c8160>"
      ]
     },
     "metadata": {},
     "output_type": "display_data"
    },
    {
     "data": {
      "text/plain": [
       "'Intl_Mins'"
      ]
     },
     "execution_count": 96,
     "metadata": {},
     "output_type": "execute_result"
    },
    {
     "data": {
      "text/plain": [
       "<matplotlib.axes._subplots.AxesSubplot at 0x273f7709898>"
      ]
     },
     "execution_count": 96,
     "metadata": {},
     "output_type": "execute_result"
    },
    {
     "data": {
      "image/png": "[encoded data removed]",
      "text/plain": [
       "<matplotlib.figure.Figure at 0x273f98c87f0>"
      ]
     },
     "metadata": {},
     "output_type": "display_data"
    },
    {
     "data": {
      "text/plain": [
       "'Intl_Calls'"
      ]
     },
     "execution_count": 96,
     "metadata": {},
     "output_type": "execute_result"
    },
    {
     "data": {
      "text/plain": [
       "<matplotlib.axes._subplots.AxesSubplot at 0x273fbe4afd0>"
      ]
     },
     "execution_count": 96,
     "metadata": {},
     "output_type": "execute_result"
    },
    {
     "data": {
      "image/png": "[encoded data removed]",
      "text/plain": [
       "<matplotlib.figure.Figure at 0x273fc04b6a0>"
      ]
     },
     "metadata": {},
     "output_type": "display_data"
    },
    {
     "data": {
      "text/plain": [
       "'Intl_Chg'"
      ]
     },
     "execution_count": 96,
     "metadata": {},
     "output_type": "execute_result"
    },
    {
     "data": {
      "text/plain": [
       "<matplotlib.axes._subplots.AxesSubplot at 0x273f985e748>"
      ]
     },
     "execution_count": 96,
     "metadata": {},
     "output_type": "execute_result"
    },
    {
     "data": {
      "image/png": "[encoded data removed]",
      "text/plain": [
       "<matplotlib.figure.Figure at 0x273fc37b128>"
      ]
     },
     "metadata": {},
     "output_type": "display_data"
    },
    {
     "data": {
      "text/plain": [
       "'CustServ_Calls'"
      ]
     },
     "execution_count": 96,
     "metadata": {},
     "output_type": "execute_result"
    },
    {
     "data": {
      "text/plain": [
       "<matplotlib.axes._subplots.AxesSubplot at 0x273fbf26358>"
      ]
     },
     "execution_count": 96,
     "metadata": {},
     "output_type": "execute_result"
    },
    {
     "data": {
      "image/png": "[encoded data removed]",
      "text/plain": [
       "<matplotlib.figure.Figure at 0x273fd5dbb38>"
      ]
     },
     "metadata": {},
     "output_type": "display_data"
    },
    {
     "data": {
      "text/plain": [
       "'Intl_Plan_yes'"
      ]
     },
     "execution_count": 96,
     "metadata": {},
     "output_type": "execute_result"
    },
    {
     "data": {
      "text/plain": [
       "<matplotlib.axes._subplots.AxesSubplot at 0x273fc4c2d30>"
      ]
     },
     "execution_count": 96,
     "metadata": {},
     "output_type": "execute_result"
    },
    {
     "data": {
      "image/png": "[encoded data removed]",
      "text/plain": [
       "<matplotlib.figure.Figure at 0x273fc172a58>"
      ]
     },
     "metadata": {},
     "output_type": "display_data"
    },
    {
     "data": {
      "text/plain": [
       "'VMail_Plan_yes'"
      ]
     },
     "execution_count": 96,
     "metadata": {},
     "output_type": "execute_result"
    },
    {
     "data": {
      "text/plain": [
       "<matplotlib.axes._subplots.AxesSubplot at 0x273fc498780>"
      ]
     },
     "execution_count": 96,
     "metadata": {},
     "output_type": "execute_result"
    },
    {
     "data": {
      "image/png": "[encoded data removed]",
      "text/plain": [
       "<matplotlib.figure.Figure at 0x273fc327a20>"
      ]
     },
     "metadata": {},
     "output_type": "display_data"
    }
   ],
   "source": [
    "# Scatter plot w.r.t. Churn for all other Variables\n",
    "plt.rcParams['figure.figsize'] = 7,2\n",
    "for i in telData_final.columns[:-1]:\n",
    "    i\n",
    "    telData_final.plot(kind='scatter', x=i, y='Churn_T')\n",
    "    plt.show()"
   ]
  },
  {
   "cell_type": "code",
   "execution_count": 97,
   "metadata": {},
   "outputs": [
    {
     "data": {
      "text/html": [
       "<div>\n",
       "<style>\n",
       "    .dataframe thead tr:only-child th {\n",
       "        text-align: right;\n",
       "    }\n",
       "\n",
       "    .dataframe thead th {\n",
       "        text-align: left;\n",
       "    }\n",
       "\n",
       "    .dataframe tbody tr th {\n",
       "        vertical-align: top;\n",
       "    }\n",
       "</style>\n",
       "<table border=\"1\" class=\"dataframe\">\n",
       "  <thead>\n",
       "    <tr style=\"text-align: right;\">\n",
       "      <th></th>\n",
       "      <th>Vmail_Msg</th>\n",
       "      <th>Day_Mins</th>\n",
       "      <th>Day_Calls</th>\n",
       "      <th>Day_Chg</th>\n",
       "      <th>Eve_Mins</th>\n",
       "      <th>Eve_Calls</th>\n",
       "      <th>Eve_Chg</th>\n",
       "      <th>Ngt_Mins</th>\n",
       "      <th>Ngt_Calls</th>\n",
       "      <th>Ngt_Chg</th>\n",
       "      <th>Intl_Mins</th>\n",
       "      <th>Intl_Calls</th>\n",
       "      <th>Intl_Chg</th>\n",
       "      <th>CustServ_Calls</th>\n",
       "      <th>Intl_Plan_yes</th>\n",
       "      <th>VMail_Plan_yes</th>\n",
       "      <th>Churn_T</th>\n",
       "    </tr>\n",
       "  </thead>\n",
       "  <tbody>\n",
       "    <tr>\n",
       "      <th>count</th>\n",
       "      <td>4617.000</td>\n",
       "      <td>4617.000</td>\n",
       "      <td>4617.000</td>\n",
       "      <td>4617.000</td>\n",
       "      <td>4617.000</td>\n",
       "      <td>4617.000</td>\n",
       "      <td>4617.000</td>\n",
       "      <td>4617.000</td>\n",
       "      <td>4617.000</td>\n",
       "      <td>4617.000</td>\n",
       "      <td>4617.000</td>\n",
       "      <td>4617.000</td>\n",
       "      <td>4617.000</td>\n",
       "      <td>4617.000</td>\n",
       "      <td>4617.000</td>\n",
       "      <td>4617.000</td>\n",
       "      <td>4617.000</td>\n",
       "    </tr>\n",
       "    <tr>\n",
       "      <th>mean</th>\n",
       "      <td>7.850</td>\n",
       "      <td>180.447</td>\n",
       "      <td>100.054</td>\n",
       "      <td>30.677</td>\n",
       "      <td>200.429</td>\n",
       "      <td>100.180</td>\n",
       "      <td>17.037</td>\n",
       "      <td>200.624</td>\n",
       "      <td>99.944</td>\n",
       "      <td>9.028</td>\n",
       "      <td>10.279</td>\n",
       "      <td>4.434</td>\n",
       "      <td>2.776</td>\n",
       "      <td>1.567</td>\n",
       "      <td>0.097</td>\n",
       "      <td>0.268</td>\n",
       "      <td>0.142</td>\n",
       "    </tr>\n",
       "    <tr>\n",
       "      <th>std</th>\n",
       "      <td>13.592</td>\n",
       "      <td>53.984</td>\n",
       "      <td>19.883</td>\n",
       "      <td>9.177</td>\n",
       "      <td>50.557</td>\n",
       "      <td>19.821</td>\n",
       "      <td>4.297</td>\n",
       "      <td>50.544</td>\n",
       "      <td>19.935</td>\n",
       "      <td>2.274</td>\n",
       "      <td>2.757</td>\n",
       "      <td>2.458</td>\n",
       "      <td>0.744</td>\n",
       "      <td>1.307</td>\n",
       "      <td>0.295</td>\n",
       "      <td>0.443</td>\n",
       "      <td>0.349</td>\n",
       "    </tr>\n",
       "    <tr>\n",
       "      <th>min</th>\n",
       "      <td>0.000</td>\n",
       "      <td>0.000</td>\n",
       "      <td>0.000</td>\n",
       "      <td>0.000</td>\n",
       "      <td>0.000</td>\n",
       "      <td>0.000</td>\n",
       "      <td>0.000</td>\n",
       "      <td>23.200</td>\n",
       "      <td>12.000</td>\n",
       "      <td>1.040</td>\n",
       "      <td>0.000</td>\n",
       "      <td>0.000</td>\n",
       "      <td>0.000</td>\n",
       "      <td>0.000</td>\n",
       "      <td>0.000</td>\n",
       "      <td>0.000</td>\n",
       "      <td>0.000</td>\n",
       "    </tr>\n",
       "    <tr>\n",
       "      <th>25%</th>\n",
       "      <td>0.000</td>\n",
       "      <td>143.700</td>\n",
       "      <td>87.000</td>\n",
       "      <td>24.430</td>\n",
       "      <td>165.900</td>\n",
       "      <td>87.000</td>\n",
       "      <td>14.100</td>\n",
       "      <td>167.100</td>\n",
       "      <td>87.000</td>\n",
       "      <td>7.520</td>\n",
       "      <td>8.600</td>\n",
       "      <td>3.000</td>\n",
       "      <td>2.320</td>\n",
       "      <td>1.000</td>\n",
       "      <td>0.000</td>\n",
       "      <td>0.000</td>\n",
       "      <td>0.000</td>\n",
       "    </tr>\n",
       "    <tr>\n",
       "      <th>50%</th>\n",
       "      <td>0.000</td>\n",
       "      <td>180.000</td>\n",
       "      <td>100.000</td>\n",
       "      <td>30.600</td>\n",
       "      <td>200.800</td>\n",
       "      <td>101.000</td>\n",
       "      <td>17.070</td>\n",
       "      <td>200.800</td>\n",
       "      <td>100.000</td>\n",
       "      <td>9.040</td>\n",
       "      <td>10.300</td>\n",
       "      <td>4.000</td>\n",
       "      <td>2.780</td>\n",
       "      <td>1.000</td>\n",
       "      <td>0.000</td>\n",
       "      <td>0.000</td>\n",
       "      <td>0.000</td>\n",
       "    </tr>\n",
       "    <tr>\n",
       "      <th>75%</th>\n",
       "      <td>17.000</td>\n",
       "      <td>216.800</td>\n",
       "      <td>113.000</td>\n",
       "      <td>36.860</td>\n",
       "      <td>234.000</td>\n",
       "      <td>114.000</td>\n",
       "      <td>19.890</td>\n",
       "      <td>234.900</td>\n",
       "      <td>113.000</td>\n",
       "      <td>10.570</td>\n",
       "      <td>12.100</td>\n",
       "      <td>6.000</td>\n",
       "      <td>3.270</td>\n",
       "      <td>2.000</td>\n",
       "      <td>0.000</td>\n",
       "      <td>1.000</td>\n",
       "      <td>0.000</td>\n",
       "    </tr>\n",
       "    <tr>\n",
       "      <th>max</th>\n",
       "      <td>51.000</td>\n",
       "      <td>351.500</td>\n",
       "      <td>165.000</td>\n",
       "      <td>59.760</td>\n",
       "      <td>363.700</td>\n",
       "      <td>170.000</td>\n",
       "      <td>30.910</td>\n",
       "      <td>395.000</td>\n",
       "      <td>175.000</td>\n",
       "      <td>17.770</td>\n",
       "      <td>20.000</td>\n",
       "      <td>20.000</td>\n",
       "      <td>5.400</td>\n",
       "      <td>9.000</td>\n",
       "      <td>1.000</td>\n",
       "      <td>1.000</td>\n",
       "      <td>1.000</td>\n",
       "    </tr>\n",
       "  </tbody>\n",
       "</table>\n",
       "</div>"
      ],
      "text/plain": [
       "       Vmail_Msg  Day_Mins  Day_Calls   Day_Chg  Eve_Mins  Eve_Calls  \\\n",
       "count   4617.000  4617.000   4617.000  4617.000  4617.000   4617.000   \n",
       "mean       7.850   180.447    100.054    30.677   200.429    100.180   \n",
       "std       13.592    53.984     19.883     9.177    50.557     19.821   \n",
       "min        0.000     0.000      0.000     0.000     0.000      0.000   \n",
       "25%        0.000   143.700     87.000    24.430   165.900     87.000   \n",
       "50%        0.000   180.000    100.000    30.600   200.800    101.000   \n",
       "75%       17.000   216.800    113.000    36.860   234.000    114.000   \n",
       "max       51.000   351.500    165.000    59.760   363.700    170.000   \n",
       "\n",
       "        Eve_Chg  Ngt_Mins  Ngt_Calls   Ngt_Chg  Intl_Mins  Intl_Calls  \\\n",
       "count  4617.000  4617.000   4617.000  4617.000   4617.000    4617.000   \n",
       "mean     17.037   200.624     99.944     9.028     10.279       4.434   \n",
       "std       4.297    50.544     19.935     2.274      2.757       2.458   \n",
       "min       0.000    23.200     12.000     1.040      0.000       0.000   \n",
       "25%      14.100   167.100     87.000     7.520      8.600       3.000   \n",
       "50%      17.070   200.800    100.000     9.040     10.300       4.000   \n",
       "75%      19.890   234.900    113.000    10.570     12.100       6.000   \n",
       "max      30.910   395.000    175.000    17.770     20.000      20.000   \n",
       "\n",
       "       Intl_Chg  CustServ_Calls  Intl_Plan_yes  VMail_Plan_yes   Churn_T  \n",
       "count  4617.000        4617.000       4617.000        4617.000  4617.000  \n",
       "mean      2.776           1.567          0.097           0.268     0.142  \n",
       "std       0.744           1.307          0.295           0.443     0.349  \n",
       "min       0.000           0.000          0.000           0.000     0.000  \n",
       "25%       2.320           1.000          0.000           0.000     0.000  \n",
       "50%       2.780           1.000          0.000           0.000     0.000  \n",
       "75%       3.270           2.000          0.000           1.000     0.000  \n",
       "max       5.400           9.000          1.000           1.000     1.000  "
      ]
     },
     "execution_count": 97,
     "metadata": {},
     "output_type": "execute_result"
    }
   ],
   "source": [
    "np.round(telData_final.describe(),3)"
   ]
  },
  {
   "cell_type": "code",
   "execution_count": 98,
   "metadata": {},
   "outputs": [
    {
     "data": {
      "text/html": [
       "<div>\n",
       "<style>\n",
       "    .dataframe thead tr:only-child th {\n",
       "        text-align: right;\n",
       "    }\n",
       "\n",
       "    .dataframe thead th {\n",
       "        text-align: left;\n",
       "    }\n",
       "\n",
       "    .dataframe tbody tr th {\n",
       "        vertical-align: top;\n",
       "    }\n",
       "</style>\n",
       "<table border=\"1\" class=\"dataframe\">\n",
       "  <thead>\n",
       "    <tr style=\"text-align: right;\">\n",
       "      <th></th>\n",
       "      <th>Vmail_Msg</th>\n",
       "      <th>Day_Mins</th>\n",
       "      <th>Day_Calls</th>\n",
       "      <th>Day_Chg</th>\n",
       "      <th>Eve_Mins</th>\n",
       "      <th>Eve_Calls</th>\n",
       "      <th>Eve_Chg</th>\n",
       "      <th>Ngt_Mins</th>\n",
       "      <th>Ngt_Calls</th>\n",
       "      <th>Ngt_Chg</th>\n",
       "      <th>Intl_Mins</th>\n",
       "      <th>Intl_Calls</th>\n",
       "      <th>Intl_Chg</th>\n",
       "      <th>CustServ_Calls</th>\n",
       "      <th>Intl_Plan_yes</th>\n",
       "      <th>VMail_Plan_yes</th>\n",
       "      <th>Churn_T</th>\n",
       "    </tr>\n",
       "  </thead>\n",
       "  <tbody>\n",
       "    <tr>\n",
       "      <th>Vmail_Msg</th>\n",
       "      <td>1.000</td>\n",
       "      <td>0.009</td>\n",
       "      <td>-0.004</td>\n",
       "      <td>0.009</td>\n",
       "      <td>0.018</td>\n",
       "      <td>-0.007</td>\n",
       "      <td>0.018</td>\n",
       "      <td>0.005</td>\n",
       "      <td>0.001</td>\n",
       "      <td>0.005</td>\n",
       "      <td>0.005</td>\n",
       "      <td>0.007</td>\n",
       "      <td>0.005</td>\n",
       "      <td>-0.007</td>\n",
       "      <td>0.012</td>\n",
       "      <td>0.955</td>\n",
       "      <td>-0.097</td>\n",
       "    </tr>\n",
       "    <tr>\n",
       "      <th>Day_Mins</th>\n",
       "      <td>0.009</td>\n",
       "      <td>1.000</td>\n",
       "      <td>-0.003</td>\n",
       "      <td>1.000</td>\n",
       "      <td>-0.010</td>\n",
       "      <td>0.013</td>\n",
       "      <td>-0.010</td>\n",
       "      <td>0.010</td>\n",
       "      <td>0.005</td>\n",
       "      <td>0.010</td>\n",
       "      <td>-0.012</td>\n",
       "      <td>0.000</td>\n",
       "      <td>-0.012</td>\n",
       "      <td>-0.008</td>\n",
       "      <td>0.028</td>\n",
       "      <td>0.004</td>\n",
       "      <td>0.202</td>\n",
       "    </tr>\n",
       "    <tr>\n",
       "      <th>Day_Calls</th>\n",
       "      <td>-0.004</td>\n",
       "      <td>-0.003</td>\n",
       "      <td>1.000</td>\n",
       "      <td>-0.003</td>\n",
       "      <td>-0.006</td>\n",
       "      <td>0.004</td>\n",
       "      <td>-0.006</td>\n",
       "      <td>0.011</td>\n",
       "      <td>-0.013</td>\n",
       "      <td>0.011</td>\n",
       "      <td>0.013</td>\n",
       "      <td>0.011</td>\n",
       "      <td>0.013</td>\n",
       "      <td>-0.009</td>\n",
       "      <td>0.007</td>\n",
       "      <td>-0.006</td>\n",
       "      <td>0.016</td>\n",
       "    </tr>\n",
       "    <tr>\n",
       "      <th>Day_Chg</th>\n",
       "      <td>0.009</td>\n",
       "      <td>1.000</td>\n",
       "      <td>-0.003</td>\n",
       "      <td>1.000</td>\n",
       "      <td>-0.010</td>\n",
       "      <td>0.013</td>\n",
       "      <td>-0.010</td>\n",
       "      <td>0.010</td>\n",
       "      <td>0.005</td>\n",
       "      <td>0.010</td>\n",
       "      <td>-0.012</td>\n",
       "      <td>0.000</td>\n",
       "      <td>-0.012</td>\n",
       "      <td>-0.008</td>\n",
       "      <td>0.028</td>\n",
       "      <td>0.004</td>\n",
       "      <td>0.202</td>\n",
       "    </tr>\n",
       "    <tr>\n",
       "      <th>Eve_Mins</th>\n",
       "      <td>0.018</td>\n",
       "      <td>-0.010</td>\n",
       "      <td>-0.006</td>\n",
       "      <td>-0.010</td>\n",
       "      <td>1.000</td>\n",
       "      <td>0.001</td>\n",
       "      <td>1.000</td>\n",
       "      <td>-0.019</td>\n",
       "      <td>0.014</td>\n",
       "      <td>-0.019</td>\n",
       "      <td>0.000</td>\n",
       "      <td>0.006</td>\n",
       "      <td>0.000</td>\n",
       "      <td>-0.016</td>\n",
       "      <td>0.024</td>\n",
       "      <td>0.022</td>\n",
       "      <td>0.087</td>\n",
       "    </tr>\n",
       "    <tr>\n",
       "      <th>Eve_Calls</th>\n",
       "      <td>-0.007</td>\n",
       "      <td>0.013</td>\n",
       "      <td>0.004</td>\n",
       "      <td>0.013</td>\n",
       "      <td>0.001</td>\n",
       "      <td>1.000</td>\n",
       "      <td>0.001</td>\n",
       "      <td>0.003</td>\n",
       "      <td>-0.015</td>\n",
       "      <td>0.003</td>\n",
       "      <td>-0.003</td>\n",
       "      <td>0.005</td>\n",
       "      <td>-0.003</td>\n",
       "      <td>0.008</td>\n",
       "      <td>0.003</td>\n",
       "      <td>-0.006</td>\n",
       "      <td>0.002</td>\n",
       "    </tr>\n",
       "    <tr>\n",
       "      <th>Eve_Chg</th>\n",
       "      <td>0.018</td>\n",
       "      <td>-0.010</td>\n",
       "      <td>-0.006</td>\n",
       "      <td>-0.010</td>\n",
       "      <td>1.000</td>\n",
       "      <td>0.001</td>\n",
       "      <td>1.000</td>\n",
       "      <td>-0.019</td>\n",
       "      <td>0.014</td>\n",
       "      <td>-0.019</td>\n",
       "      <td>0.000</td>\n",
       "      <td>0.006</td>\n",
       "      <td>0.000</td>\n",
       "      <td>-0.016</td>\n",
       "      <td>0.024</td>\n",
       "      <td>0.022</td>\n",
       "      <td>0.087</td>\n",
       "    </tr>\n",
       "    <tr>\n",
       "      <th>Ngt_Mins</th>\n",
       "      <td>0.005</td>\n",
       "      <td>0.010</td>\n",
       "      <td>0.011</td>\n",
       "      <td>0.010</td>\n",
       "      <td>-0.019</td>\n",
       "      <td>0.003</td>\n",
       "      <td>-0.019</td>\n",
       "      <td>1.000</td>\n",
       "      <td>0.026</td>\n",
       "      <td>1.000</td>\n",
       "      <td>-0.005</td>\n",
       "      <td>-0.015</td>\n",
       "      <td>-0.004</td>\n",
       "      <td>-0.014</td>\n",
       "      <td>-0.026</td>\n",
       "      <td>0.006</td>\n",
       "      <td>0.043</td>\n",
       "    </tr>\n",
       "    <tr>\n",
       "      <th>Ngt_Calls</th>\n",
       "      <td>0.001</td>\n",
       "      <td>0.005</td>\n",
       "      <td>-0.013</td>\n",
       "      <td>0.005</td>\n",
       "      <td>0.014</td>\n",
       "      <td>-0.015</td>\n",
       "      <td>0.014</td>\n",
       "      <td>0.026</td>\n",
       "      <td>1.000</td>\n",
       "      <td>0.026</td>\n",
       "      <td>-0.006</td>\n",
       "      <td>0.003</td>\n",
       "      <td>-0.006</td>\n",
       "      <td>-0.010</td>\n",
       "      <td>0.007</td>\n",
       "      <td>0.008</td>\n",
       "      <td>-0.007</td>\n",
       "    </tr>\n",
       "    <tr>\n",
       "      <th>Ngt_Chg</th>\n",
       "      <td>0.005</td>\n",
       "      <td>0.010</td>\n",
       "      <td>0.011</td>\n",
       "      <td>0.010</td>\n",
       "      <td>-0.019</td>\n",
       "      <td>0.003</td>\n",
       "      <td>-0.019</td>\n",
       "      <td>1.000</td>\n",
       "      <td>0.026</td>\n",
       "      <td>1.000</td>\n",
       "      <td>-0.005</td>\n",
       "      <td>-0.015</td>\n",
       "      <td>-0.004</td>\n",
       "      <td>-0.014</td>\n",
       "      <td>-0.026</td>\n",
       "      <td>0.006</td>\n",
       "      <td>0.043</td>\n",
       "    </tr>\n",
       "    <tr>\n",
       "      <th>Intl_Mins</th>\n",
       "      <td>0.005</td>\n",
       "      <td>-0.012</td>\n",
       "      <td>0.013</td>\n",
       "      <td>-0.012</td>\n",
       "      <td>0.000</td>\n",
       "      <td>-0.003</td>\n",
       "      <td>0.000</td>\n",
       "      <td>-0.005</td>\n",
       "      <td>-0.006</td>\n",
       "      <td>-0.005</td>\n",
       "      <td>1.000</td>\n",
       "      <td>0.021</td>\n",
       "      <td>1.000</td>\n",
       "      <td>-0.016</td>\n",
       "      <td>0.037</td>\n",
       "      <td>0.006</td>\n",
       "      <td>0.065</td>\n",
       "    </tr>\n",
       "    <tr>\n",
       "      <th>Intl_Calls</th>\n",
       "      <td>0.007</td>\n",
       "      <td>0.000</td>\n",
       "      <td>0.011</td>\n",
       "      <td>0.000</td>\n",
       "      <td>0.006</td>\n",
       "      <td>0.005</td>\n",
       "      <td>0.006</td>\n",
       "      <td>-0.015</td>\n",
       "      <td>0.003</td>\n",
       "      <td>-0.015</td>\n",
       "      <td>0.021</td>\n",
       "      <td>1.000</td>\n",
       "      <td>0.022</td>\n",
       "      <td>-0.017</td>\n",
       "      <td>0.007</td>\n",
       "      <td>-0.000</td>\n",
       "      <td>-0.046</td>\n",
       "    </tr>\n",
       "    <tr>\n",
       "      <th>Intl_Chg</th>\n",
       "      <td>0.005</td>\n",
       "      <td>-0.012</td>\n",
       "      <td>0.013</td>\n",
       "      <td>-0.012</td>\n",
       "      <td>0.000</td>\n",
       "      <td>-0.003</td>\n",
       "      <td>0.000</td>\n",
       "      <td>-0.004</td>\n",
       "      <td>-0.006</td>\n",
       "      <td>-0.004</td>\n",
       "      <td>1.000</td>\n",
       "      <td>0.022</td>\n",
       "      <td>1.000</td>\n",
       "      <td>-0.016</td>\n",
       "      <td>0.037</td>\n",
       "      <td>0.006</td>\n",
       "      <td>0.065</td>\n",
       "    </tr>\n",
       "    <tr>\n",
       "      <th>CustServ_Calls</th>\n",
       "      <td>-0.007</td>\n",
       "      <td>-0.008</td>\n",
       "      <td>-0.009</td>\n",
       "      <td>-0.008</td>\n",
       "      <td>-0.016</td>\n",
       "      <td>0.008</td>\n",
       "      <td>-0.016</td>\n",
       "      <td>-0.014</td>\n",
       "      <td>-0.010</td>\n",
       "      <td>-0.014</td>\n",
       "      <td>-0.016</td>\n",
       "      <td>-0.017</td>\n",
       "      <td>-0.016</td>\n",
       "      <td>1.000</td>\n",
       "      <td>-0.013</td>\n",
       "      <td>-0.015</td>\n",
       "      <td>0.209</td>\n",
       "    </tr>\n",
       "    <tr>\n",
       "      <th>Intl_Plan_yes</th>\n",
       "      <td>0.012</td>\n",
       "      <td>0.028</td>\n",
       "      <td>0.007</td>\n",
       "      <td>0.028</td>\n",
       "      <td>0.024</td>\n",
       "      <td>0.003</td>\n",
       "      <td>0.024</td>\n",
       "      <td>-0.026</td>\n",
       "      <td>0.007</td>\n",
       "      <td>-0.026</td>\n",
       "      <td>0.037</td>\n",
       "      <td>0.007</td>\n",
       "      <td>0.037</td>\n",
       "      <td>-0.013</td>\n",
       "      <td>1.000</td>\n",
       "      <td>0.009</td>\n",
       "      <td>0.258</td>\n",
       "    </tr>\n",
       "    <tr>\n",
       "      <th>VMail_Plan_yes</th>\n",
       "      <td>0.955</td>\n",
       "      <td>0.004</td>\n",
       "      <td>-0.006</td>\n",
       "      <td>0.004</td>\n",
       "      <td>0.022</td>\n",
       "      <td>-0.006</td>\n",
       "      <td>0.022</td>\n",
       "      <td>0.006</td>\n",
       "      <td>0.008</td>\n",
       "      <td>0.006</td>\n",
       "      <td>0.006</td>\n",
       "      <td>-0.000</td>\n",
       "      <td>0.006</td>\n",
       "      <td>-0.015</td>\n",
       "      <td>0.009</td>\n",
       "      <td>1.000</td>\n",
       "      <td>-0.110</td>\n",
       "    </tr>\n",
       "    <tr>\n",
       "      <th>Churn_T</th>\n",
       "      <td>-0.097</td>\n",
       "      <td>0.202</td>\n",
       "      <td>0.016</td>\n",
       "      <td>0.202</td>\n",
       "      <td>0.087</td>\n",
       "      <td>0.002</td>\n",
       "      <td>0.087</td>\n",
       "      <td>0.043</td>\n",
       "      <td>-0.007</td>\n",
       "      <td>0.043</td>\n",
       "      <td>0.065</td>\n",
       "      <td>-0.046</td>\n",
       "      <td>0.065</td>\n",
       "      <td>0.209</td>\n",
       "      <td>0.258</td>\n",
       "      <td>-0.110</td>\n",
       "      <td>1.000</td>\n",
       "    </tr>\n",
       "  </tbody>\n",
       "</table>\n",
       "</div>"
      ],
      "text/plain": [
       "                Vmail_Msg  Day_Mins  Day_Calls  Day_Chg  Eve_Mins  Eve_Calls  \\\n",
       "Vmail_Msg           1.000     0.009     -0.004    0.009     0.018     -0.007   \n",
       "Day_Mins            0.009     1.000     -0.003    1.000    -0.010      0.013   \n",
       "Day_Calls          -0.004    -0.003      1.000   -0.003    -0.006      0.004   \n",
       "Day_Chg             0.009     1.000     -0.003    1.000    -0.010      0.013   \n",
       "Eve_Mins            0.018    -0.010     -0.006   -0.010     1.000      0.001   \n",
       "Eve_Calls          -0.007     0.013      0.004    0.013     0.001      1.000   \n",
       "Eve_Chg             0.018    -0.010     -0.006   -0.010     1.000      0.001   \n",
       "Ngt_Mins            0.005     0.010      0.011    0.010    -0.019      0.003   \n",
       "Ngt_Calls           0.001     0.005     -0.013    0.005     0.014     -0.015   \n",
       "Ngt_Chg             0.005     0.010      0.011    0.010    -0.019      0.003   \n",
       "Intl_Mins           0.005    -0.012      0.013   -0.012     0.000     -0.003   \n",
       "Intl_Calls          0.007     0.000      0.011    0.000     0.006      0.005   \n",
       "Intl_Chg            0.005    -0.012      0.013   -0.012     0.000     -0.003   \n",
       "CustServ_Calls     -0.007    -0.008     -0.009   -0.008    -0.016      0.008   \n",
       "Intl_Plan_yes       0.012     0.028      0.007    0.028     0.024      0.003   \n",
       "VMail_Plan_yes      0.955     0.004     -0.006    0.004     0.022     -0.006   \n",
       "Churn_T            -0.097     0.202      0.016    0.202     0.087      0.002   \n",
       "\n",
       "                Eve_Chg  Ngt_Mins  Ngt_Calls  Ngt_Chg  Intl_Mins  Intl_Calls  \\\n",
       "Vmail_Msg         0.018     0.005      0.001    0.005      0.005       0.007   \n",
       "Day_Mins         -0.010     0.010      0.005    0.010     -0.012       0.000   \n",
       "Day_Calls        -0.006     0.011     -0.013    0.011      0.013       0.011   \n",
       "Day_Chg          -0.010     0.010      0.005    0.010     -0.012       0.000   \n",
       "Eve_Mins          1.000    -0.019      0.014   -0.019      0.000       0.006   \n",
       "Eve_Calls         0.001     0.003     -0.015    0.003     -0.003       0.005   \n",
       "Eve_Chg           1.000    -0.019      0.014   -0.019      0.000       0.006   \n",
       "Ngt_Mins         -0.019     1.000      0.026    1.000     -0.005      -0.015   \n",
       "Ngt_Calls         0.014     0.026      1.000    0.026     -0.006       0.003   \n",
       "Ngt_Chg          -0.019     1.000      0.026    1.000     -0.005      -0.015   \n",
       "Intl_Mins         0.000    -0.005     -0.006   -0.005      1.000       0.021   \n",
       "Intl_Calls        0.006    -0.015      0.003   -0.015      0.021       1.000   \n",
       "Intl_Chg          0.000    -0.004     -0.006   -0.004      1.000       0.022   \n",
       "CustServ_Calls   -0.016    -0.014     -0.010   -0.014     -0.016      -0.017   \n",
       "Intl_Plan_yes     0.024    -0.026      0.007   -0.026      0.037       0.007   \n",
       "VMail_Plan_yes    0.022     0.006      0.008    0.006      0.006      -0.000   \n",
       "Churn_T           0.087     0.043     -0.007    0.043      0.065      -0.046   \n",
       "\n",
       "                Intl_Chg  CustServ_Calls  Intl_Plan_yes  VMail_Plan_yes  \\\n",
       "Vmail_Msg          0.005          -0.007          0.012           0.955   \n",
       "Day_Mins          -0.012          -0.008          0.028           0.004   \n",
       "Day_Calls          0.013          -0.009          0.007          -0.006   \n",
       "Day_Chg           -0.012          -0.008          0.028           0.004   \n",
       "Eve_Mins           0.000          -0.016          0.024           0.022   \n",
       "Eve_Calls         -0.003           0.008          0.003          -0.006   \n",
       "Eve_Chg            0.000          -0.016          0.024           0.022   \n",
       "Ngt_Mins          -0.004          -0.014         -0.026           0.006   \n",
       "Ngt_Calls         -0.006          -0.010          0.007           0.008   \n",
       "Ngt_Chg           -0.004          -0.014         -0.026           0.006   \n",
       "Intl_Mins          1.000          -0.016          0.037           0.006   \n",
       "Intl_Calls         0.022          -0.017          0.007          -0.000   \n",
       "Intl_Chg           1.000          -0.016          0.037           0.006   \n",
       "CustServ_Calls    -0.016           1.000         -0.013          -0.015   \n",
       "Intl_Plan_yes      0.037          -0.013          1.000           0.009   \n",
       "VMail_Plan_yes     0.006          -0.015          0.009           1.000   \n",
       "Churn_T            0.065           0.209          0.258          -0.110   \n",
       "\n",
       "                Churn_T  \n",
       "Vmail_Msg        -0.097  \n",
       "Day_Mins          0.202  \n",
       "Day_Calls         0.016  \n",
       "Day_Chg           0.202  \n",
       "Eve_Mins          0.087  \n",
       "Eve_Calls         0.002  \n",
       "Eve_Chg           0.087  \n",
       "Ngt_Mins          0.043  \n",
       "Ngt_Calls        -0.007  \n",
       "Ngt_Chg           0.043  \n",
       "Intl_Mins         0.065  \n",
       "Intl_Calls       -0.046  \n",
       "Intl_Chg          0.065  \n",
       "CustServ_Calls    0.209  \n",
       "Intl_Plan_yes     0.258  \n",
       "VMail_Plan_yes   -0.110  \n",
       "Churn_T           1.000  "
      ]
     },
     "execution_count": 98,
     "metadata": {},
     "output_type": "execute_result"
    }
   ],
   "source": [
    "telData_corr = np.round(telData_final.corr(),3)\n",
    "telData_corr"
   ]
  },
  {
   "cell_type": "code",
   "execution_count": 103,
   "metadata": {},
   "outputs": [
    {
     "data": {
      "text/plain": [
       "<matplotlib.axes._subplots.AxesSubplot at 0x273fc2c7e80>"
      ]
     },
     "execution_count": 103,
     "metadata": {},
     "output_type": "execute_result"
    },
    {
     "data": {
      "image/png": "[encoded data removed]",
      "text/plain": [
       "<matplotlib.figure.Figure at 0x273fad134a8>"
      ]
     },
     "metadata": {},
     "output_type": "display_data"
    }
   ],
   "source": [
    "plt.rcParams['figure.figsize'] = 8,5\n",
    "sns.heatmap(telData_corr,\n",
    "           xticklabels=telData_corr.columns.values,\n",
    "           yticklabels=telData_corr.columns.values)"
   ]
  },
  {
   "cell_type": "code",
   "execution_count": 104,
   "metadata": {},
   "outputs": [
    {
     "data": {
      "text/plain": [
       "(17,)"
      ]
     },
     "execution_count": 104,
     "metadata": {},
     "output_type": "execute_result"
    }
   ],
   "source": [
    "cols_to_consider = telData_final.columns\n",
    "cols_to_consider.shape"
   ]
  },
  {
   "cell_type": "code",
   "execution_count": 105,
   "metadata": {
    "collapsed": true
   },
   "outputs": [],
   "source": [
    "cols_to_consider = cols_to_consider.drop('Churn_T')"
   ]
  },
  {
   "cell_type": "code",
   "execution_count": 106,
   "metadata": {},
   "outputs": [
    {
     "data": {
      "text/plain": [
       "numpy.ndarray"
      ]
     },
     "execution_count": 106,
     "metadata": {},
     "output_type": "execute_result"
    },
    {
     "data": {
      "text/plain": [
       "array(['Vmail_Msg', 'Day_Mins', 'Day_Calls', 'Day_Chg', 'Eve_Mins',\n",
       "       'Eve_Calls', 'Eve_Chg', 'Ngt_Mins', 'Ngt_Calls', 'Ngt_Chg',\n",
       "       'Intl_Mins', 'Intl_Calls', 'Intl_Chg', 'CustServ_Calls',\n",
       "       'Intl_Plan_yes', 'VMail_Plan_yes'], dtype=object)"
      ]
     },
     "execution_count": 106,
     "metadata": {},
     "output_type": "execute_result"
    }
   ],
   "source": [
    "cols_to_consider = np.array(cols_to_consider)\n",
    "type(cols_to_consider)\n",
    "cols_to_consider"
   ]
  },
  {
   "cell_type": "code",
   "execution_count": 107,
   "metadata": {
    "collapsed": true,
    "scrolled": true
   },
   "outputs": [],
   "source": [
    "# predictors to hold all Input Variables\n",
    "X = predictors = telData_final.iloc[:,:-1].values.astype(float)\n",
    "\n",
    "# labels to hold ony target variable\n",
    "Y = labels = telData_final.Churn_T.values"
   ]
  },
  {
   "cell_type": "code",
   "execution_count": 109,
   "metadata": {},
   "outputs": [
    {
     "data": {
      "text/plain": [
       "array([[  25. ,  265.1,  110. , ...,    1. ,    0. ,    1. ],\n",
       "       [  26. ,  161.6,  123. , ...,    1. ,    0. ,    1. ],\n",
       "       [   0. ,  243.4,  114. , ...,    0. ,    0. ,    0. ],\n",
       "       ..., \n",
       "       [  33. ,  127.5,  126. , ...,    1. ,    0. ,    1. ],\n",
       "       [  23. ,  168.9,   98. , ...,    0. ,    0. ,    1. ],\n",
       "       [   0. ,  204.7,  100. , ...,    2. ,    0. ,    0. ]])"
      ]
     },
     "execution_count": 109,
     "metadata": {},
     "output_type": "execute_result"
    },
    {
     "data": {
      "text/plain": [
       "array([0, 0, 0, ..., 0, 0, 0], dtype=uint8)"
      ]
     },
     "execution_count": 109,
     "metadata": {},
     "output_type": "execute_result"
    }
   ],
   "source": [
    "X\n",
    "Y"
   ]
  },
  {
   "cell_type": "code",
   "execution_count": 110,
   "metadata": {},
   "outputs": [
    {
     "data": {
      "text/plain": [
       "(4617, 16)"
      ]
     },
     "execution_count": 110,
     "metadata": {},
     "output_type": "execute_result"
    },
    {
     "data": {
      "text/plain": [
       "(4617,)"
      ]
     },
     "execution_count": 110,
     "metadata": {},
     "output_type": "execute_result"
    }
   ],
   "source": [
    "X.shape\n",
    "Y.shape"
   ]
  },
  {
   "cell_type": "markdown",
   "metadata": {},
   "source": [
    "**Will try to apply models on this X and Y first without transforming **"
   ]
  },
  {
   "cell_type": "markdown",
   "metadata": {},
   "source": [
    "Logistic Regression with & without Cross-Validation"
   ]
  },
  {
   "cell_type": "code",
   "execution_count": 111,
   "metadata": {},
   "outputs": [
    {
     "data": {
      "text/plain": [
       "LogisticRegression(C=1000000000.0, class_weight=None, dual=False,\n",
       "          fit_intercept=True, intercept_scaling=1, max_iter=100,\n",
       "          multi_class='ovr', n_jobs=1, penalty='l2', random_state=None,\n",
       "          solver='liblinear', tol=0.0001, verbose=0, warm_start=False)"
      ]
     },
     "execution_count": 111,
     "metadata": {},
     "output_type": "execute_result"
    }
   ],
   "source": [
    "logReg = LogisticRegression(C=1e9)\n",
    "\n",
    "logReg.fit(X, Y)"
   ]
  },
  {
   "cell_type": "code",
   "execution_count": 112,
   "metadata": {
    "collapsed": true
   },
   "outputs": [],
   "source": [
    "# Predict\n",
    "Y_pred_logReg = logReg.predict(X)"
   ]
  },
  {
   "cell_type": "code",
   "execution_count": 113,
   "metadata": {
    "collapsed": true
   },
   "outputs": [],
   "source": [
    "from sklearn import metrics"
   ]
  },
  {
   "cell_type": "code",
   "execution_count": 114,
   "metadata": {
    "scrolled": true
   },
   "outputs": [
    {
     "data": {
      "text/plain": [
       "0.86463071258392898"
      ]
     },
     "execution_count": 114,
     "metadata": {},
     "output_type": "execute_result"
    },
    {
     "data": {
      "text/plain": [
       "0.86463071258392898"
      ]
     },
     "execution_count": 114,
     "metadata": {},
     "output_type": "execute_result"
    },
    {
     "data": {
      "text/plain": [
       "array([-8.12889972])"
      ]
     },
     "execution_count": 114,
     "metadata": {},
     "output_type": "execute_result"
    },
    {
     "data": {
      "text/plain": [
       "array([[  3.66120540e-02,   1.97936827e-02,   2.40129502e-03,\n",
       "         -3.85207239e-02,   7.16315373e-03,  -5.47046869e-04,\n",
       "         -4.99447303e-03,   4.17860124e-03,  -1.82539539e-03,\n",
       "         -5.12173759e-03,   7.68827804e-02,  -6.90640701e-02,\n",
       "          2.80913625e-02,   5.06815409e-01,   2.04016242e+00,\n",
       "         -2.18922870e+00]])"
      ]
     },
     "execution_count": 114,
     "metadata": {},
     "output_type": "execute_result"
    },
    {
     "data": {
      "text/plain": [
       "[('Vmail_Msg', 0.036612054012907333),\n",
       " ('Day_Mins', 0.019793682665199274),\n",
       " ('Day_Calls', 0.0024012950200643546),\n",
       " ('Day_Chg', -0.038520723892086398),\n",
       " ('Eve_Mins', 0.0071631537328641593),\n",
       " ('Eve_Calls', -0.00054704686897249827),\n",
       " ('Eve_Chg', -0.0049944730334842606),\n",
       " ('Ngt_Mins', 0.0041786012413880108),\n",
       " ('Ngt_Calls', -0.0018253953856611784),\n",
       " ('Ngt_Chg', -0.005121737594806137),\n",
       " ('Intl_Mins', 0.076882780435866119),\n",
       " ('Intl_Calls', -0.069064070054458054),\n",
       " ('Intl_Chg', 0.028091362533620261),\n",
       " ('CustServ_Calls', 0.50681540879930487),\n",
       " ('Intl_Plan_yes', 2.0401624222135903),\n",
       " ('VMail_Plan_yes', -2.1892287041098846)]"
      ]
     },
     "execution_count": 114,
     "metadata": {},
     "output_type": "execute_result"
    }
   ],
   "source": [
    "score_logReg = logReg.score(X,Y)\n",
    "score_logReg\n",
    "metrics.accuracy_score(Y, Y_pred_logReg)\n",
    "# Above score is same as METRICS ACCURACY\n",
    "\n",
    "logReg.intercept_\n",
    "logReg.coef_\n",
    "list(zip(cols_to_consider, logReg.coef_[0]))"
   ]
  },
  {
   "cell_type": "markdown",
   "metadata": {},
   "source": [
    "Getting 86.46% ACCURACY Score when simple LOGISTIC REGRESSION is applied without CROSS Validation on complete Dataset "
   ]
  },
  {
   "cell_type": "code",
   "execution_count": 115,
   "metadata": {
    "collapsed": true
   },
   "outputs": [],
   "source": [
    "Y_df = pd.DataFrame(Y)\n",
    "Y_df.columns = ['Churn_T']\n",
    "Y_df['Churn_T_pred_logReg'] = Y_pred_logReg"
   ]
  },
  {
   "cell_type": "code",
   "execution_count": 118,
   "metadata": {},
   "outputs": [
    {
     "data": {
      "text/plain": [
       "0    3961\n",
       "1     656\n",
       "Name: Churn_T, dtype: int64"
      ]
     },
     "execution_count": 118,
     "metadata": {},
     "output_type": "execute_result"
    },
    {
     "data": {
      "text/plain": [
       "0    4394\n",
       "1     223\n",
       "Name: Churn_T_pred_logReg, dtype: int64"
      ]
     },
     "execution_count": 118,
     "metadata": {},
     "output_type": "execute_result"
    }
   ],
   "source": [
    "Y_df.Churn_T.value_counts()\n",
    "Y_df.Churn_T_pred_logReg.value_counts()"
   ]
  },
  {
   "cell_type": "code",
   "execution_count": 119,
   "metadata": {},
   "outputs": [
    {
     "data": {
      "text/plain": [
       "array([[3865,   96],\n",
       "       [ 529,  127]], dtype=int64)"
      ]
     },
     "execution_count": 119,
     "metadata": {},
     "output_type": "execute_result"
    },
    {
     "data": {
      "image/png": "[encoded data removed]",
      "text/plain": [
       "<matplotlib.figure.Figure at 0x273f77478d0>"
      ]
     },
     "metadata": {},
     "output_type": "display_data"
    }
   ],
   "source": [
    "conf_logReg = confusion_matrix(Y, Y_pred_logReg)\n",
    "conf_logReg\n",
    "plt.rcParams['figure.figsize'] = 4,3\n",
    "fun_plot_confusion_matrix(conf_logReg)"
   ]
  },
  {
   "cell_type": "code",
   "execution_count": 120,
   "metadata": {},
   "outputs": [
    {
     "name": "stdout",
     "output_type": "stream",
     "text": [
      "Overall Accuracy: 86.46\n",
      "TPRate or Recall or Sensitivity i.e. (TP / Actual YES): 19.36\n",
      "FPRate i.e. (FP / Actyal NO): 2.42\n",
      "Specificity i.e. (TN / Actual NO): 97.58\n",
      "Precision i.e. (TP / Predicted YES): 56.95\n"
     ]
    }
   ],
   "source": [
    "fun_conf_mat_calc(conf_logReg)"
   ]
  },
  {
   "cell_type": "code",
   "execution_count": 121,
   "metadata": {
    "scrolled": true
   },
   "outputs": [
    {
     "data": {
      "text/plain": [
       "array([ 0.85529158,  0.88744589,  0.85281385,  0.84632035,  0.88095238,\n",
       "        0.86147186,  0.85683297,  0.86984816,  0.86550976,  0.86550976])"
      ]
     },
     "execution_count": 121,
     "metadata": {},
     "output_type": "execute_result"
    },
    {
     "data": {
      "text/plain": [
       "0.86419965564374146"
      ]
     },
     "execution_count": 121,
     "metadata": {},
     "output_type": "execute_result"
    }
   ],
   "source": [
    "# Applying 10 Fold CROSS-Validation on this LOGISTIC Regression\n",
    "score_logReg_CV = cross_val_score(logReg, X, Y, cv=10, scoring='accuracy') # Calculating Accuracy Score\n",
    "score_logReg_CV\n",
    "score_logReg_CV.mean()"
   ]
  },
  {
   "cell_type": "markdown",
   "metadata": {},
   "source": [
    "Getting 86.41% ACCURACY Score when simple LOGISTIC REGRESSION is applied with 10 fold CROSS Validation on complete Dataset\n",
    "\n",
    "This somewhat helps in avoiding OVERFITTING"
   ]
  },
  {
   "cell_type": "code",
   "execution_count": 122,
   "metadata": {
    "collapsed": true
   },
   "outputs": [],
   "source": [
    "Y_pred_logReg_cv = cross_val_predict(logReg, X, Y, cv=10)"
   ]
  },
  {
   "cell_type": "code",
   "execution_count": 123,
   "metadata": {},
   "outputs": [
    {
     "data": {
      "text/plain": [
       "0    3961\n",
       "1     656\n",
       "Name: Churn_T, dtype: int64"
      ]
     },
     "execution_count": 123,
     "metadata": {},
     "output_type": "execute_result"
    },
    {
     "data": {
      "text/plain": [
       "0    4394\n",
       "1     223\n",
       "Name: Churn_T_pred_logReg, dtype: int64"
      ]
     },
     "execution_count": 123,
     "metadata": {},
     "output_type": "execute_result"
    },
    {
     "data": {
      "text/plain": [
       "0    4392\n",
       "1     225\n",
       "Name: Churn_T_pred_logReg_CV, dtype: int64"
      ]
     },
     "execution_count": 123,
     "metadata": {},
     "output_type": "execute_result"
    }
   ],
   "source": [
    "Y_df['Churn_T_pred_logReg_CV'] = Y_pred_logReg_cv\n",
    "for i in Y_df.columns:\n",
    "    Y_df[i].value_counts()"
   ]
  },
  {
   "cell_type": "code",
   "execution_count": 124,
   "metadata": {},
   "outputs": [
    {
     "data": {
      "text/plain": [
       "array([[3865,   96],\n",
       "       [ 529,  127]], dtype=int64)"
      ]
     },
     "execution_count": 124,
     "metadata": {},
     "output_type": "execute_result"
    },
    {
     "data": {
      "text/plain": [
       "array([[3863,   98],\n",
       "       [ 529,  127]], dtype=int64)"
      ]
     },
     "execution_count": 124,
     "metadata": {},
     "output_type": "execute_result"
    },
    {
     "data": {
      "image/png": "[encoded data removed]",
      "text/plain": [
       "<matplotlib.figure.Figure at 0x273fd5470f0>"
      ]
     },
     "metadata": {},
     "output_type": "display_data"
    }
   ],
   "source": [
    "conf_logReg_CV = confusion_matrix(Y, Y_pred_logReg_cv)\n",
    "conf_logReg\n",
    "conf_logReg_CV\n",
    "plt.rcParams['figure.figsize'] = 4,3\n",
    "fun_plot_confusion_matrix(conf_logReg_CV)"
   ]
  },
  {
   "cell_type": "code",
   "execution_count": 125,
   "metadata": {},
   "outputs": [
    {
     "name": "stdout",
     "output_type": "stream",
     "text": [
      "Overall Accuracy: 86.42\n",
      "TPRate or Recall or Sensitivity i.e. (TP / Actual YES): 19.36\n",
      "FPRate i.e. (FP / Actyal NO): 2.47\n",
      "Specificity i.e. (TN / Actual NO): 97.53\n",
      "Precision i.e. (TP / Predicted YES): 56.44\n"
     ]
    }
   ],
   "source": [
    "fun_conf_mat_calc(conf_logReg_CV)"
   ]
  },
  {
   "cell_type": "markdown",
   "metadata": {},
   "source": [
    "**Appying kNN** with and without Cross-Validation"
   ]
  },
  {
   "cell_type": "code",
   "execution_count": 127,
   "metadata": {},
   "outputs": [
    {
     "name": "stdout",
     "output_type": "stream",
     "text": [
      "[0.82477659161129702, 0.88108749209745729, 0.87633354894895454, 0.88954173375119494, 0.88932622055305866, 0.89040425201062945, 0.89343924621703708, 0.89235184254814792, 0.89300353472919447, 0.8917034289171113, 0.89387027261330942, 0.89083621745339392, 0.89105594824803236, 0.88953657508002215, 0.89126958740954054, 0.88888722240249352, 0.89040519105712157, 0.8891041421421898, 0.889971351577729, 0.88758945609392814, 0.88889050298068162, 0.88650673346025266, 0.88823974376159265, 0.88758758002912186]\n"
     ]
    }
   ],
   "source": [
    "# Find optimal k value in knn\n",
    "k_range = range(1, 25)\n",
    "k_scores = []\n",
    "for k in k_range:\n",
    "    knn = KNeighborsClassifier(n_neighbors = k)\n",
    "    scores = cross_val_score(knn, X, Y, cv = 10, scoring = 'accuracy')\n",
    "    k_scores.append(scores.mean())\n",
    "print(k_scores)"
   ]
  },
  {
   "cell_type": "code",
   "execution_count": 128,
   "metadata": {},
   "outputs": [
    {
     "data": {
      "text/plain": [
       "[<matplotlib.lines.Line2D at 0x273f7747438>]"
      ]
     },
     "execution_count": 128,
     "metadata": {},
     "output_type": "execute_result"
    },
    {
     "data": {
      "text/plain": [
       "Text(0.5,0,'Value of K for KNN')"
      ]
     },
     "execution_count": 128,
     "metadata": {},
     "output_type": "execute_result"
    },
    {
     "data": {
      "text/plain": [
       "Text(0,0.5,'Cross-Validated Accuracy')"
      ]
     },
     "execution_count": 128,
     "metadata": {},
     "output_type": "execute_result"
    },
    {
     "data": {
      "image/png": "[encoded data removed]",
      "text/plain": [
       "<matplotlib.figure.Figure at 0x273fd670320>"
      ]
     },
     "metadata": {},
     "output_type": "display_data"
    }
   ],
   "source": [
    "# Plot the value of k for KNN vs cross-validated accuracy\n",
    "plt.rcParams['figure.figsize'] = 7,6\n",
    "plt.plot(k_range, k_scores)\n",
    "plt.xlabel('Value of K for KNN')\n",
    "plt.ylabel('Cross-Validated Accuracy')"
   ]
  },
  {
   "cell_type": "markdown",
   "metadata": {},
   "source": [
    "Looks that for K = 12 in KNN, accuracy score basis cross-validation is good"
   ]
  },
  {
   "cell_type": "code",
   "execution_count": 129,
   "metadata": {},
   "outputs": [
    {
     "data": {
      "text/plain": [
       "KNeighborsClassifier(algorithm='auto', leaf_size=30, metric='minkowski',\n",
       "           metric_params=None, n_jobs=1, n_neighbors=12, p=2,\n",
       "           weights='uniform')"
      ]
     },
     "execution_count": 129,
     "metadata": {},
     "output_type": "execute_result"
    }
   ],
   "source": [
    "# KNN without Cross-Validation\n",
    "knn = KNeighborsClassifier(n_neighbors=12)\n",
    "knn.fit(X, Y)"
   ]
  },
  {
   "cell_type": "code",
   "execution_count": 130,
   "metadata": {},
   "outputs": [
    {
     "data": {
      "text/plain": [
       "0.8990686593025774"
      ]
     },
     "execution_count": 130,
     "metadata": {},
     "output_type": "execute_result"
    }
   ],
   "source": [
    "score_knn = knn.score(X,Y)\n",
    "score_knn"
   ]
  },
  {
   "cell_type": "markdown",
   "metadata": {},
   "source": [
    "89.9% Accuracy with KNN is certainly more than Logistic Regression with or without CV"
   ]
  },
  {
   "cell_type": "code",
   "execution_count": 134,
   "metadata": {
    "collapsed": true
   },
   "outputs": [],
   "source": [
    "Y_pred_knn = knn.predict(X)\n",
    "Y_df['Churn_T_pred_knn'] = Y_pred_knn"
   ]
  },
  {
   "cell_type": "code",
   "execution_count": 135,
   "metadata": {},
   "outputs": [
    {
     "data": {
      "text/plain": [
       "array([[3940,   21],\n",
       "       [ 445,  211]], dtype=int64)"
      ]
     },
     "execution_count": 135,
     "metadata": {},
     "output_type": "execute_result"
    },
    {
     "data": {
      "image/png": "[encoded data removed]",
      "text/plain": [
       "<matplotlib.figure.Figure at 0x273fd5ce898>"
      ]
     },
     "metadata": {},
     "output_type": "display_data"
    },
    {
     "name": "stdout",
     "output_type": "stream",
     "text": [
      "Overall Accuracy: 89.91\n",
      "TPRate or Recall or Sensitivity i.e. (TP / Actual YES): 32.16\n",
      "FPRate i.e. (FP / Actyal NO): 0.53\n",
      "Specificity i.e. (TN / Actual NO): 99.47\n",
      "Precision i.e. (TP / Predicted YES): 90.95\n"
     ]
    }
   ],
   "source": [
    "plt.rcParams['figure.figsize'] = 4,3\n",
    "conf_knn = confusion_matrix(Y, Y_pred_knn)\n",
    "conf_knn\n",
    "fun_plot_confusion_matrix(conf_knn)\n",
    "fun_conf_mat_calc(conf_knn)"
   ]
  },
  {
   "cell_type": "code",
   "execution_count": 136,
   "metadata": {},
   "outputs": [
    {
     "data": {
      "text/plain": [
       "array([ 0.89632829,  0.9025974 ,  0.86796537,  0.89393939,  0.9025974 ,\n",
       "        0.88528139,  0.89154013,  0.88503254,  0.89587852,  0.88720174])"
      ]
     },
     "execution_count": 136,
     "metadata": {},
     "output_type": "execute_result"
    },
    {
     "data": {
      "text/plain": [
       "0.89083621745339392"
      ]
     },
     "execution_count": 136,
     "metadata": {},
     "output_type": "execute_result"
    }
   ],
   "source": [
    "#KNN with 10 Fold Cross_Validation to avoid OVREFIT\n",
    "score_knn_cv = cross_val_score(knn, X, Y, cv=10, scoring='accuracy')\n",
    "score_knn_cv\n",
    "score_knn_cv.mean()"
   ]
  },
  {
   "cell_type": "code",
   "execution_count": 246,
   "metadata": {
    "collapsed": true
   },
   "outputs": [],
   "source": [
    "# Predict for KNN with cross_val_predict\n",
    "Y_pred_knn_cv = cross_val_predict(knn, X, Y, cv=10)\n",
    "Y_df['Churn_T_pred_knn_cv'] = Y_pred_knn_cv"
   ]
  },
  {
   "cell_type": "code",
   "execution_count": 247,
   "metadata": {
    "scrolled": true
   },
   "outputs": [
    {
     "data": {
      "text/plain": [
       "0    3961\n",
       "1     656\n",
       "Name: Churn_T, dtype: int64"
      ]
     },
     "execution_count": 247,
     "metadata": {},
     "output_type": "execute_result"
    },
    {
     "data": {
      "text/plain": [
       "0    4394\n",
       "1     223\n",
       "Name: Churn_T_pred_logReg, dtype: int64"
      ]
     },
     "execution_count": 247,
     "metadata": {},
     "output_type": "execute_result"
    },
    {
     "data": {
      "text/plain": [
       "0    4392\n",
       "1     225\n",
       "Name: Churn_T_pred_logReg_CV, dtype: int64"
      ]
     },
     "execution_count": 247,
     "metadata": {},
     "output_type": "execute_result"
    },
    {
     "data": {
      "text/plain": [
       "0    4385\n",
       "1     232\n",
       "Name: Churn_T_pred_knn, dtype: int64"
      ]
     },
     "execution_count": 247,
     "metadata": {},
     "output_type": "execute_result"
    },
    {
     "data": {
      "text/plain": [
       "0    4397\n",
       "1     220\n",
       "Name: Churn_T_pred_knn_cv, dtype: int64"
      ]
     },
     "execution_count": 247,
     "metadata": {},
     "output_type": "execute_result"
    },
    {
     "data": {
      "text/plain": [
       "0    4059\n",
       "1     558\n",
       "Name: Churn_T_pred_RF1, dtype: int64"
      ]
     },
     "execution_count": 247,
     "metadata": {},
     "output_type": "execute_result"
    },
    {
     "data": {
      "text/plain": [
       "0    4056\n",
       "1     561\n",
       "Name: Churn_T_pred_RF2, dtype: int64"
      ]
     },
     "execution_count": 247,
     "metadata": {},
     "output_type": "execute_result"
    },
    {
     "data": {
      "text/plain": [
       "0    4102\n",
       "1     515\n",
       "Name: Churn_T_pred_RF1_cv, dtype: int64"
      ]
     },
     "execution_count": 247,
     "metadata": {},
     "output_type": "execute_result"
    },
    {
     "data": {
      "text/plain": [
       "0    4094\n",
       "1     523\n",
       "Name: Churn_T_pred_RF2_cv, dtype: int64"
      ]
     },
     "execution_count": 247,
     "metadata": {},
     "output_type": "execute_result"
    },
    {
     "data": {
      "text/plain": [
       "0    4056\n",
       "1     561\n",
       "Name: Churn_T_pred_RF3_std, dtype: int64"
      ]
     },
     "execution_count": 247,
     "metadata": {},
     "output_type": "execute_result"
    },
    {
     "data": {
      "text/plain": [
       "0    4076\n",
       "1     541\n",
       "Name: Churn_T_pred_RF4_std_pca, dtype: int64"
      ]
     },
     "execution_count": 247,
     "metadata": {},
     "output_type": "execute_result"
    }
   ],
   "source": [
    "for i in Y_df.columns:\n",
    "    Y_df[i].value_counts()"
   ]
  },
  {
   "cell_type": "code",
   "execution_count": 139,
   "metadata": {},
   "outputs": [
    {
     "data": {
      "text/plain": [
       "array([[3927,   34],\n",
       "       [ 470,  186]], dtype=int64)"
      ]
     },
     "execution_count": 139,
     "metadata": {},
     "output_type": "execute_result"
    }
   ],
   "source": [
    "conf_knn_cv = confusion_matrix(Y, Y_pred_knn_cv)\n",
    "conf_knn_cv"
   ]
  },
  {
   "cell_type": "code",
   "execution_count": 140,
   "metadata": {},
   "outputs": [
    {
     "data": {
      "text/plain": [
       "array([[3865,   96],\n",
       "       [ 529,  127]], dtype=int64)"
      ]
     },
     "execution_count": 140,
     "metadata": {},
     "output_type": "execute_result"
    },
    {
     "name": "stdout",
     "output_type": "stream",
     "text": [
      "Overall Accuracy: 86.46\n",
      "TPRate or Recall or Sensitivity i.e. (TP / Actual YES): 19.36\n",
      "FPRate i.e. (FP / Actyal NO): 2.42\n",
      "Specificity i.e. (TN / Actual NO): 97.58\n",
      "Precision i.e. (TP / Predicted YES): 56.95\n"
     ]
    },
    {
     "data": {
      "text/plain": [
       "array([[3863,   98],\n",
       "       [ 529,  127]], dtype=int64)"
      ]
     },
     "execution_count": 140,
     "metadata": {},
     "output_type": "execute_result"
    },
    {
     "name": "stdout",
     "output_type": "stream",
     "text": [
      "Overall Accuracy: 86.42\n",
      "TPRate or Recall or Sensitivity i.e. (TP / Actual YES): 19.36\n",
      "FPRate i.e. (FP / Actyal NO): 2.47\n",
      "Specificity i.e. (TN / Actual NO): 97.53\n",
      "Precision i.e. (TP / Predicted YES): 56.44\n"
     ]
    },
    {
     "data": {
      "text/plain": [
       "array([[3940,   21],\n",
       "       [ 445,  211]], dtype=int64)"
      ]
     },
     "execution_count": 140,
     "metadata": {},
     "output_type": "execute_result"
    },
    {
     "name": "stdout",
     "output_type": "stream",
     "text": [
      "Overall Accuracy: 89.91\n",
      "TPRate or Recall or Sensitivity i.e. (TP / Actual YES): 32.16\n",
      "FPRate i.e. (FP / Actyal NO): 0.53\n",
      "Specificity i.e. (TN / Actual NO): 99.47\n",
      "Precision i.e. (TP / Predicted YES): 90.95\n"
     ]
    },
    {
     "data": {
      "text/plain": [
       "array([[3927,   34],\n",
       "       [ 470,  186]], dtype=int64)"
      ]
     },
     "execution_count": 140,
     "metadata": {},
     "output_type": "execute_result"
    },
    {
     "name": "stdout",
     "output_type": "stream",
     "text": [
      "Overall Accuracy: 89.08\n",
      "TPRate or Recall or Sensitivity i.e. (TP / Actual YES): 28.35\n",
      "FPRate i.e. (FP / Actyal NO): 0.86\n",
      "Specificity i.e. (TN / Actual NO): 99.14\n",
      "Precision i.e. (TP / Predicted YES): 84.55\n"
     ]
    }
   ],
   "source": [
    "for i in [conf_logReg, conf_logReg_CV, conf_knn, conf_knn_cv]:\n",
    "    i\n",
    "    fun_conf_mat_calc(i)"
   ]
  },
  {
   "cell_type": "markdown",
   "metadata": {},
   "source": [
    "**Till now, with Log-Reg and KNN via non-CV and with CV, KNN for 12 neighbours with CV=10 folds, results looks good**\n",
    "\n",
    "KNN with Cross-Validation handles OVERFIT as well in complete Dataset with good Accuracy of Scores along with Recall & Precision also being improved"
   ]
  },
  {
   "cell_type": "code",
   "execution_count": 141,
   "metadata": {},
   "outputs": [
    {
     "data": {
      "text/plain": [
       "RandomForestClassifier(bootstrap=True, class_weight=None, criterion='gini',\n",
       "            max_depth=10, max_features='auto', max_leaf_nodes=None,\n",
       "            min_impurity_decrease=0.0, min_impurity_split=None,\n",
       "            min_samples_leaf=1, min_samples_split=2,\n",
       "            min_weight_fraction_leaf=0.0, n_estimators=100, n_jobs=1,\n",
       "            oob_score=False, random_state=4, verbose=0, warm_start=False)"
      ]
     },
     "execution_count": 141,
     "metadata": {},
     "output_type": "execute_result"
    }
   ],
   "source": [
    "# RandomForest will itself avoid Overfit which single DecisionTree does not avoid\n",
    "# RF_1 with GINI INDEX\n",
    "RF_1 = RandomForestClassifier(n_estimators=100, criterion='gini', max_depth=10, random_state=4)\n",
    "RF_1.fit(X,Y)"
   ]
  },
  {
   "cell_type": "code",
   "execution_count": 142,
   "metadata": {},
   "outputs": [
    {
     "data": {
      "text/plain": [
       "0.9787740957331601"
      ]
     },
     "execution_count": 142,
     "metadata": {},
     "output_type": "execute_result"
    },
    {
     "data": {
      "text/plain": [
       "array([[3961,    0],\n",
       "       [  98,  558]], dtype=int64)"
      ]
     },
     "execution_count": 142,
     "metadata": {},
     "output_type": "execute_result"
    }
   ],
   "source": [
    "score_RF1 = RF_1.score(X,Y)\n",
    "score_RF1\n",
    "Y_pred_RF1 = RF_1.predict(X)\n",
    "Y_df['Churn_T_pred_RF1'] = Y_pred_RF1\n",
    "conf_RF1 = confusion_matrix(Y, Y_pred_RF1)\n",
    "conf_RF1"
   ]
  },
  {
   "cell_type": "code",
   "execution_count": 143,
   "metadata": {},
   "outputs": [
    {
     "data": {
      "text/plain": [
       "RandomForestClassifier(bootstrap=True, class_weight=None, criterion='entropy',\n",
       "            max_depth=10, max_features='auto', max_leaf_nodes=None,\n",
       "            min_impurity_decrease=0.0, min_impurity_split=None,\n",
       "            min_samples_leaf=1, min_samples_split=2,\n",
       "            min_weight_fraction_leaf=0.0, n_estimators=100, n_jobs=1,\n",
       "            oob_score=False, random_state=4, verbose=0, warm_start=False)"
      ]
     },
     "execution_count": 143,
     "metadata": {},
     "output_type": "execute_result"
    }
   ],
   "source": [
    "# RF_2 with ENTROPY\n",
    "RF_2 = RandomForestClassifier(n_estimators=100, criterion='entropy', max_depth=10, random_state=4)\n",
    "RF_2.fit(X,Y)"
   ]
  },
  {
   "cell_type": "code",
   "execution_count": 144,
   "metadata": {},
   "outputs": [
    {
     "data": {
      "text/plain": [
       "0.97942386831275718"
      ]
     },
     "execution_count": 144,
     "metadata": {},
     "output_type": "execute_result"
    },
    {
     "data": {
      "text/plain": [
       "array([[3961,    0],\n",
       "       [  95,  561]], dtype=int64)"
      ]
     },
     "execution_count": 144,
     "metadata": {},
     "output_type": "execute_result"
    }
   ],
   "source": [
    "score_RF2 = RF_2.score(X,Y)\n",
    "score_RF2\n",
    "Y_pred_RF2 = RF_2.predict(X)\n",
    "Y_df['Churn_T_pred_RF2'] = Y_pred_RF2\n",
    "conf_RF2 = confusion_matrix(Y, Y_pred_RF2)\n",
    "conf_RF2"
   ]
  },
  {
   "cell_type": "markdown",
   "metadata": {},
   "source": [
    "**Random Forest with Cross-Validation will avoid OVERFIT**"
   ]
  },
  {
   "cell_type": "code",
   "execution_count": 145,
   "metadata": {},
   "outputs": [
    {
     "data": {
      "text/plain": [
       "0.95733062587773221"
      ]
     },
     "execution_count": 145,
     "metadata": {},
     "output_type": "execute_result"
    }
   ],
   "source": [
    "# RandofmForest with 10 Fold Cross-Validation\n",
    "score_RF1_cv = cross_val_score(RF_1, X, Y, cv = 10)\n",
    "score_RF1_cv.mean()"
   ]
  },
  {
   "cell_type": "code",
   "execution_count": 146,
   "metadata": {},
   "outputs": [
    {
     "data": {
      "text/plain": [
       "0.9564685730851874"
      ]
     },
     "execution_count": 146,
     "metadata": {},
     "output_type": "execute_result"
    }
   ],
   "source": [
    "score_RF2_cv = cross_val_score(RF_2, X, Y, cv = 10)\n",
    "score_RF2_cv.mean()"
   ]
  },
  {
   "cell_type": "code",
   "execution_count": 147,
   "metadata": {},
   "outputs": [
    {
     "data": {
      "text/plain": [
       "array([[3933,   28],\n",
       "       [ 169,  487]], dtype=int64)"
      ]
     },
     "execution_count": 147,
     "metadata": {},
     "output_type": "execute_result"
    }
   ],
   "source": [
    "Y_pred_RF1_cv = cross_val_predict(RF_1, X, Y, cv = 10)\n",
    "Y_df['Churn_T_pred_RF1_cv'] = Y_pred_RF1_cv\n",
    "conf_RF1_cv = confusion_matrix(Y, Y_pred_RF1_cv)\n",
    "conf_RF1_cv"
   ]
  },
  {
   "cell_type": "code",
   "execution_count": 148,
   "metadata": {},
   "outputs": [
    {
     "data": {
      "text/plain": [
       "array([[3927,   34],\n",
       "       [ 167,  489]], dtype=int64)"
      ]
     },
     "execution_count": 148,
     "metadata": {},
     "output_type": "execute_result"
    }
   ],
   "source": [
    "Y_pred_RF2_cv = cross_val_predict(RF_2, X, Y, cv = 10)\n",
    "Y_df['Churn_T_pred_RF2_cv'] = Y_pred_RF2_cv\n",
    "conf_RF2_cv = confusion_matrix(Y, Y_pred_RF2_cv)\n",
    "conf_RF2_cv"
   ]
  },
  {
   "cell_type": "code",
   "execution_count": 149,
   "metadata": {},
   "outputs": [
    {
     "data": {
      "text/plain": [
       "array([[3865,   96],\n",
       "       [ 529,  127]], dtype=int64)"
      ]
     },
     "execution_count": 149,
     "metadata": {},
     "output_type": "execute_result"
    },
    {
     "name": "stdout",
     "output_type": "stream",
     "text": [
      "Overall Accuracy: 86.46\n",
      "TPRate or Recall or Sensitivity i.e. (TP / Actual YES): 19.36\n",
      "FPRate i.e. (FP / Actyal NO): 2.42\n",
      "Specificity i.e. (TN / Actual NO): 97.58\n",
      "Precision i.e. (TP / Predicted YES): 56.95\n"
     ]
    },
    {
     "data": {
      "text/plain": [
       "array([[3863,   98],\n",
       "       [ 529,  127]], dtype=int64)"
      ]
     },
     "execution_count": 149,
     "metadata": {},
     "output_type": "execute_result"
    },
    {
     "name": "stdout",
     "output_type": "stream",
     "text": [
      "Overall Accuracy: 86.42\n",
      "TPRate or Recall or Sensitivity i.e. (TP / Actual YES): 19.36\n",
      "FPRate i.e. (FP / Actyal NO): 2.47\n",
      "Specificity i.e. (TN / Actual NO): 97.53\n",
      "Precision i.e. (TP / Predicted YES): 56.44\n"
     ]
    },
    {
     "data": {
      "text/plain": [
       "array([[3940,   21],\n",
       "       [ 445,  211]], dtype=int64)"
      ]
     },
     "execution_count": 149,
     "metadata": {},
     "output_type": "execute_result"
    },
    {
     "name": "stdout",
     "output_type": "stream",
     "text": [
      "Overall Accuracy: 89.91\n",
      "TPRate or Recall or Sensitivity i.e. (TP / Actual YES): 32.16\n",
      "FPRate i.e. (FP / Actyal NO): 0.53\n",
      "Specificity i.e. (TN / Actual NO): 99.47\n",
      "Precision i.e. (TP / Predicted YES): 90.95\n"
     ]
    },
    {
     "data": {
      "text/plain": [
       "array([[3927,   34],\n",
       "       [ 470,  186]], dtype=int64)"
      ]
     },
     "execution_count": 149,
     "metadata": {},
     "output_type": "execute_result"
    },
    {
     "name": "stdout",
     "output_type": "stream",
     "text": [
      "Overall Accuracy: 89.08\n",
      "TPRate or Recall or Sensitivity i.e. (TP / Actual YES): 28.35\n",
      "FPRate i.e. (FP / Actyal NO): 0.86\n",
      "Specificity i.e. (TN / Actual NO): 99.14\n",
      "Precision i.e. (TP / Predicted YES): 84.55\n"
     ]
    },
    {
     "data": {
      "text/plain": [
       "array([[3961,    0],\n",
       "       [  98,  558]], dtype=int64)"
      ]
     },
     "execution_count": 149,
     "metadata": {},
     "output_type": "execute_result"
    },
    {
     "name": "stdout",
     "output_type": "stream",
     "text": [
      "Overall Accuracy: 97.88\n",
      "TPRate or Recall or Sensitivity i.e. (TP / Actual YES): 85.06\n",
      "FPRate i.e. (FP / Actyal NO): 0.0\n",
      "Specificity i.e. (TN / Actual NO): 100.0\n",
      "Precision i.e. (TP / Predicted YES): 100.0\n"
     ]
    },
    {
     "data": {
      "text/plain": [
       "array([[3933,   28],\n",
       "       [ 169,  487]], dtype=int64)"
      ]
     },
     "execution_count": 149,
     "metadata": {},
     "output_type": "execute_result"
    },
    {
     "name": "stdout",
     "output_type": "stream",
     "text": [
      "Overall Accuracy: 95.73\n",
      "TPRate or Recall or Sensitivity i.e. (TP / Actual YES): 74.24\n",
      "FPRate i.e. (FP / Actyal NO): 0.71\n",
      "Specificity i.e. (TN / Actual NO): 99.29\n",
      "Precision i.e. (TP / Predicted YES): 94.56\n"
     ]
    },
    {
     "data": {
      "text/plain": [
       "array([[3961,    0],\n",
       "       [  95,  561]], dtype=int64)"
      ]
     },
     "execution_count": 149,
     "metadata": {},
     "output_type": "execute_result"
    },
    {
     "name": "stdout",
     "output_type": "stream",
     "text": [
      "Overall Accuracy: 97.94\n",
      "TPRate or Recall or Sensitivity i.e. (TP / Actual YES): 85.52\n",
      "FPRate i.e. (FP / Actyal NO): 0.0\n",
      "Specificity i.e. (TN / Actual NO): 100.0\n",
      "Precision i.e. (TP / Predicted YES): 100.0\n"
     ]
    },
    {
     "data": {
      "text/plain": [
       "array([[3927,   34],\n",
       "       [ 167,  489]], dtype=int64)"
      ]
     },
     "execution_count": 149,
     "metadata": {},
     "output_type": "execute_result"
    },
    {
     "name": "stdout",
     "output_type": "stream",
     "text": [
      "Overall Accuracy: 95.65\n",
      "TPRate or Recall or Sensitivity i.e. (TP / Actual YES): 74.54\n",
      "FPRate i.e. (FP / Actyal NO): 0.86\n",
      "Specificity i.e. (TN / Actual NO): 99.14\n",
      "Precision i.e. (TP / Predicted YES): 93.5\n"
     ]
    }
   ],
   "source": [
    "for i in [conf_logReg, conf_logReg_CV, conf_knn, conf_knn_cv, conf_RF1, conf_RF1_cv, conf_RF2, conf_RF2_cv]:\n",
    "    i\n",
    "    fun_conf_mat_calc(i)"
   ]
  },
  {
   "cell_type": "markdown",
   "metadata": {},
   "source": [
    "Till now, without applying PCA or any scaling/standaridization on X, RF-2 (Entropy) with 10 Fold Cross-Validation looks to give best result with 95.65 Accuracy"
   ]
  },
  {
   "cell_type": "markdown",
   "metadata": {
    "collapsed": true
   },
   "source": [
    "**Need to apply further Standard Scaler / MinMaxScaler and then PCA on this**\n",
    "\n",
    "Post this, we again need to RUN all above models to get details"
   ]
  },
  {
   "cell_type": "code",
   "execution_count": 150,
   "metadata": {
    "collapsed": true
   },
   "outputs": [],
   "source": [
    "# StandardScaler\n",
    "scaler = StandardScaler()"
   ]
  },
  {
   "cell_type": "code",
   "execution_count": 153,
   "metadata": {},
   "outputs": [
    {
     "data": {
      "text/plain": [
       "(4617, 16)"
      ]
     },
     "execution_count": 153,
     "metadata": {},
     "output_type": "execute_result"
    },
    {
     "data": {
      "text/plain": [
       "(4617, 16)"
      ]
     },
     "execution_count": 153,
     "metadata": {},
     "output_type": "execute_result"
    },
    {
     "data": {
      "text/plain": [
       "array([[  25.  ,  265.1 ,  110.  ,   45.07,  197.4 ,   99.  ,   16.78,\n",
       "         244.7 ,   91.  ,   11.01,   10.  ,    3.  ,    2.7 ,    1.  ,\n",
       "           0.  ,    1.  ],\n",
       "       [  26.  ,  161.6 ,  123.  ,   27.47,  195.5 ,  103.  ,   16.62,\n",
       "         254.4 ,  103.  ,   11.45,   13.7 ,    3.  ,    3.7 ,    1.  ,\n",
       "           0.  ,    1.  ]])"
      ]
     },
     "execution_count": 153,
     "metadata": {},
     "output_type": "execute_result"
    },
    {
     "data": {
      "text/plain": [
       "array([[ 1.26188457,  1.56829318,  0.50026149,  1.56856871, -0.05992081,\n",
       "        -0.05952674, -0.05974201,  0.87213469, -0.44871155,  0.87141811,\n",
       "        -0.10130125, -0.58348728, -0.10200542, -0.43388538, -0.32699969,\n",
       "         1.65391562],\n",
       "       [ 1.33546342, -0.34916557,  1.15415628, -0.34944668, -0.09750622,\n",
       "         0.14229809, -0.09697845,  1.06406894,  0.15330842,  1.06488923,\n",
       "         1.24070665, -0.58348728,  1.24148062, -0.43388538, -0.32699969,\n",
       "         1.65391562]])"
      ]
     },
     "execution_count": 153,
     "metadata": {},
     "output_type": "execute_result"
    }
   ],
   "source": [
    "X_std = scaler.fit_transform(X)\n",
    "X.shape\n",
    "X_std.shape\n",
    "X[:2]\n",
    "X_std[:2]"
   ]
  },
  {
   "cell_type": "code",
   "execution_count": 154,
   "metadata": {},
   "outputs": [
    {
     "data": {
      "text/plain": [
       "1.0"
      ]
     },
     "execution_count": 154,
     "metadata": {},
     "output_type": "execute_result"
    },
    {
     "data": {
      "text/plain": [
       "1.0977188883287502e-17"
      ]
     },
     "execution_count": 154,
     "metadata": {},
     "output_type": "execute_result"
    }
   ],
   "source": [
    "X_std.std()\n",
    "X_std.mean()"
   ]
  },
  {
   "cell_type": "markdown",
   "metadata": {},
   "source": [
    "**Principal Component Analysis** on this X_std for dimensionality reduction and work with critical PC Factors only"
   ]
  },
  {
   "cell_type": "code",
   "execution_count": 161,
   "metadata": {
    "collapsed": true
   },
   "outputs": [],
   "source": [
    "pca = PCA()"
   ]
  },
  {
   "cell_type": "code",
   "execution_count": 162,
   "metadata": {},
   "outputs": [
    {
     "data": {
      "text/plain": [
       "PCA(copy=True, iterated_power='auto', n_components=None, random_state=None,\n",
       "  svd_solver='auto', tol=0.0, whiten=False)"
      ]
     },
     "execution_count": 162,
     "metadata": {},
     "output_type": "execute_result"
    }
   ],
   "source": [
    "pca.fit(X_std)"
   ]
  },
  {
   "cell_type": "code",
   "execution_count": 163,
   "metadata": {
    "collapsed": true
   },
   "outputs": [],
   "source": [
    "# Creating Function for plotting Variance Ratio\n",
    "def fun_plot_variance_ratio_cumsum(variance_ratio):\n",
    "    variance_ratio_cumsum = np.cumsum(np.round(variance_ratio, decimals=4)*100)\n",
    "    print(variance_ratio_cumsum)\n",
    "    \n",
    "    plt.rcParams['figure.figsize'] = 6,4\n",
    "    plt.plot(variance_ratio_cumsum)\n",
    "    plt.title(\"Cumulative Variance\")\n",
    "    plt.xlabel(\"No. of Components\")\n",
    "    plt.ylabel(\"Variance Explained\")"
   ]
  },
  {
   "cell_type": "code",
   "execution_count": 164,
   "metadata": {},
   "outputs": [
    {
     "data": {
      "text/plain": [
       "array([  1.28919028e-01,   1.25887597e-01,   1.24910446e-01,\n",
       "         1.23581533e-01,   1.19743714e-01,   6.42711819e-02,\n",
       "         6.39513233e-02,   6.21291752e-02,   6.19561733e-02,\n",
       "         6.11796422e-02,   6.06818385e-02,   2.78782248e-03,\n",
       "         4.59037154e-07,   4.91703368e-08,   1.40175869e-08,\n",
       "         3.05399944e-09])"
      ]
     },
     "execution_count": 164,
     "metadata": {},
     "output_type": "execute_result"
    }
   ],
   "source": [
    "variance_ratio = pca.explained_variance_ratio_\n",
    "variance_ratio"
   ]
  },
  {
   "cell_type": "code",
   "execution_count": 165,
   "metadata": {},
   "outputs": [
    {
     "name": "stdout",
     "output_type": "stream",
     "text": [
      "[  12.89   25.48   37.97   50.33   62.3    68.73   75.13   81.34   87.54\n",
      "   93.66   99.73  100.01  100.01  100.01  100.01  100.01]\n"
     ]
    },
    {
     "data": {
      "image/png": "[encoded data removed]",
      "text/plain": [
       "<matplotlib.figure.Figure at 0x273f9ac90f0>"
      ]
     },
     "metadata": {},
     "output_type": "display_data"
    }
   ],
   "source": [
    "fun_plot_variance_ratio_cumsum(variance_ratio)"
   ]
  },
  {
   "cell_type": "markdown",
   "metadata": {},
   "source": [
    "From above, 10 PCA variables themselves fulfill 93% variance, thus will use only these 10 Transformed variables"
   ]
  },
  {
   "cell_type": "code",
   "execution_count": 166,
   "metadata": {},
   "outputs": [
    {
     "data": {
      "text/plain": [
       "PCA(copy=True, iterated_power='auto', n_components=10, random_state=None,\n",
       "  svd_solver='auto', tol=0.0, whiten=False)"
      ]
     },
     "execution_count": 166,
     "metadata": {},
     "output_type": "execute_result"
    }
   ],
   "source": [
    "X_pca = PCA(n_components=10)\n",
    "X_pca"
   ]
  },
  {
   "cell_type": "code",
   "execution_count": 202,
   "metadata": {},
   "outputs": [
    {
     "data": {
      "text/plain": [
       "(4617, 16)"
      ]
     },
     "execution_count": 202,
     "metadata": {},
     "output_type": "execute_result"
    },
    {
     "data": {
      "text/plain": [
       "PCA(copy=True, iterated_power='auto', n_components=10, random_state=None,\n",
       "  svd_solver='auto', tol=0.0, whiten=False)"
      ]
     },
     "execution_count": 202,
     "metadata": {},
     "output_type": "execute_result"
    }
   ],
   "source": [
    "# Fit X_std with 10 Components only\n",
    "X_std_pca = X_pca.fit(X_std)\n",
    "#X_std_pca.shape\n",
    "X_std.shape\n",
    "X_std_pca"
   ]
  },
  {
   "cell_type": "code",
   "execution_count": 170,
   "metadata": {},
   "outputs": [
    {
     "data": {
      "text/plain": [
       "(4617, 10)"
      ]
     },
     "execution_count": 170,
     "metadata": {},
     "output_type": "execute_result"
    }
   ],
   "source": [
    "# Getting Transformed Vectors with these 10 PC Variables which will be fresh set of Input PC Variables\n",
    "transformed_vectors = X_pca.transform(X_std)\n",
    "transformed_vectors.shape"
   ]
  },
  {
   "cell_type": "code",
   "execution_count": 177,
   "metadata": {},
   "outputs": [
    {
     "data": {
      "text/plain": [
       "array([[ 1.47232754,  1.8841186 ,  2.05246553, -0.39561092,  0.7615826 ,\n",
       "        -0.20609898,  0.36255075, -0.77783754, -0.12673411, -0.48464123],\n",
       "       [-0.16818961, -0.58965539,  2.8506351 ,  0.84881189,  0.98250051,\n",
       "         0.09892099,  0.44553667, -0.72380762, -0.33414251, -0.04107178]])"
      ]
     },
     "execution_count": 177,
     "metadata": {},
     "output_type": "execute_result"
    },
    {
     "data": {
      "text/plain": [
       "(4617, 10)"
      ]
     },
     "execution_count": 177,
     "metadata": {},
     "output_type": "execute_result"
    },
    {
     "data": {
      "text/plain": [
       "array([[ 1.26188457,  1.56829318,  0.50026149,  1.56856871, -0.05992081,\n",
       "        -0.05952674, -0.05974201,  0.87213469, -0.44871155,  0.87141811,\n",
       "        -0.10130125, -0.58348728, -0.10200542, -0.43388538, -0.32699969,\n",
       "         1.65391562],\n",
       "       [ 1.33546342, -0.34916557,  1.15415628, -0.34944668, -0.09750622,\n",
       "         0.14229809, -0.09697845,  1.06406894,  0.15330842,  1.06488923,\n",
       "         1.24070665, -0.58348728,  1.24148062, -0.43388538, -0.32699969,\n",
       "         1.65391562]])"
      ]
     },
     "execution_count": 177,
     "metadata": {},
     "output_type": "execute_result"
    },
    {
     "data": {
      "text/plain": [
       "(4617, 16)"
      ]
     },
     "execution_count": 177,
     "metadata": {},
     "output_type": "execute_result"
    }
   ],
   "source": [
    "transformed_vectors[0:2]\n",
    "transformed_vectors.shape\n",
    "X_std[0:2]\n",
    "X_std.shape"
   ]
  },
  {
   "cell_type": "code",
   "execution_count": 216,
   "metadata": {},
   "outputs": [
    {
     "data": {
      "text/plain": [
       "LogisticRegression(C=1000000000.0, class_weight=None, dual=False,\n",
       "          fit_intercept=True, intercept_scaling=1, max_iter=100,\n",
       "          multi_class='ovr', n_jobs=1, penalty='l2', random_state=None,\n",
       "          solver='liblinear', tol=0.0001, verbose=0, warm_start=False)"
      ]
     },
     "execution_count": 216,
     "metadata": {},
     "output_type": "execute_result"
    }
   ],
   "source": [
    "# Running Logistic Regression on these STANDARDIZED and 10 PCA transformed Vectors\n",
    "logReg_std_pca = LogisticRegression(C=1e9)\n",
    "logReg_std_pca"
   ]
  },
  {
   "cell_type": "code",
   "execution_count": 213,
   "metadata": {},
   "outputs": [
    {
     "data": {
      "text/plain": [
       "LogisticRegression(C=1000000000.0, class_weight=None, dual=False,\n",
       "          fit_intercept=True, intercept_scaling=1, max_iter=100,\n",
       "          multi_class='ovr', n_jobs=1, penalty='l2', random_state=None,\n",
       "          solver='liblinear', tol=0.0001, verbose=0, warm_start=False)"
      ]
     },
     "execution_count": 213,
     "metadata": {},
     "output_type": "execute_result"
    }
   ],
   "source": [
    "# FITTING model on PCA base TRANASFORMED Vectors (10) and Y \n",
    "logReg_std_pca.fit(transformed_vectors, Y)"
   ]
  },
  {
   "cell_type": "code",
   "execution_count": 214,
   "metadata": {},
   "outputs": [
    {
     "data": {
      "text/plain": [
       "0.86593025774312327"
      ]
     },
     "execution_count": 214,
     "metadata": {},
     "output_type": "execute_result"
    }
   ],
   "source": [
    "score_logReg_std_pca = logReg_std_pca.score(transformed_vectors, Y)\n",
    "score_logReg_std_pca"
   ]
  },
  {
   "cell_type": "code",
   "execution_count": 215,
   "metadata": {},
   "outputs": [
    {
     "data": {
      "text/plain": [
       "(0.86463071258392898, 0.86419965564374146)"
      ]
     },
     "execution_count": 215,
     "metadata": {},
     "output_type": "execute_result"
    }
   ],
   "source": [
    "score_logReg, score_logReg_CV.mean()"
   ]
  },
  {
   "cell_type": "markdown",
   "metadata": {},
   "source": [
    "Score is improved to 86.59% when Logistic-Regression is applied on STANDARIDIZED X and then considering only 10 PCA tranformed vectors on these standardized X"
   ]
  },
  {
   "cell_type": "code",
   "execution_count": 217,
   "metadata": {},
   "outputs": [
    {
     "data": {
      "text/plain": [
       "0.86615145972140584"
      ]
     },
     "execution_count": 217,
     "metadata": {},
     "output_type": "execute_result"
    }
   ],
   "source": [
    "# Re-Running Logistic Regression on these STANDARDIZED and 10 PCA transformed Vectors + \n",
    "# using 10 Fold Cross-Validation on this to avoid OVERFIT, if any\n",
    "score_logReg_std_pca_cv = cross_val_score(logReg_std, transformed_vectors, Y, cv=10).mean()\n",
    "score_logReg_std_pca_cv"
   ]
  },
  {
   "cell_type": "markdown",
   "metadata": {},
   "source": [
    "Score is improved to slightly 86.61% here\n",
    "\n",
    "Now, let's check if Ranndom-Forest classification further improves this score when same STANDARDIZED X and 10 PCA Transformed Vectors are used here "
   ]
  },
  {
   "cell_type": "code",
   "execution_count": 222,
   "metadata": {},
   "outputs": [
    {
     "data": {
      "text/plain": [
       "RandomForestClassifier(bootstrap=True, class_weight=None, criterion='entropy',\n",
       "            max_depth=10, max_features='auto', max_leaf_nodes=None,\n",
       "            min_impurity_decrease=0.0, min_impurity_split=None,\n",
       "            min_samples_leaf=1, min_samples_split=2,\n",
       "            min_weight_fraction_leaf=0.0, n_estimators=100, n_jobs=1,\n",
       "            oob_score=False, random_state=4, verbose=0, warm_start=False)"
      ]
     },
     "execution_count": 222,
     "metadata": {},
     "output_type": "execute_result"
    }
   ],
   "source": [
    "# Random-Forest on Standaridized X only (Without PCA or CV)\n",
    "RF_3_std = RandomForestClassifier(n_estimators=100, criterion='entropy', max_depth=10, random_state=4)\n",
    "RF_3_std.fit(X_std, Y)"
   ]
  },
  {
   "cell_type": "code",
   "execution_count": 219,
   "metadata": {},
   "outputs": [
    {
     "data": {
      "text/plain": [
       "0.97942386831275718"
      ]
     },
     "execution_count": 219,
     "metadata": {},
     "output_type": "execute_result"
    }
   ],
   "source": [
    "score_RF3_std = RF_3_std.score(X_std, Y)\n",
    "score_RF3_std"
   ]
  },
  {
   "cell_type": "code",
   "execution_count": 221,
   "metadata": {},
   "outputs": [
    {
     "data": {
      "text/plain": [
       "(0.9787740957331601,\n",
       " 0.95733062587773221,\n",
       " 0.97942386831275718,\n",
       " 0.9564685730851874)"
      ]
     },
     "execution_count": 221,
     "metadata": {},
     "output_type": "execute_result"
    }
   ],
   "source": [
    "score_RF1, score_RF1_cv.mean(), score_RF2, score_RF2_cv.mean()"
   ]
  },
  {
   "cell_type": "markdown",
   "metadata": {},
   "source": [
    "Basis above, we are getting best accuracy as 97.94% when Random-Forest is applied only with STANDARDIZED X\n",
    "\n",
    "Let's check the confusion Matrix here"
   ]
  },
  {
   "cell_type": "code",
   "execution_count": 236,
   "metadata": {
    "scrolled": true
   },
   "outputs": [
    {
     "name": "stdout",
     "output_type": "stream",
     "text": [
      "Churn_T\n",
      "0    3961\n",
      "1     656\n",
      "Name: Churn_T, dtype: int64\n",
      "\n",
      "\n",
      "Churn_T_pred_logReg\n",
      "0    4394\n",
      "1     223\n",
      "Name: Churn_T_pred_logReg, dtype: int64\n",
      "\n",
      "\n",
      "Churn_T_pred_logReg_CV\n",
      "0    4392\n",
      "1     225\n",
      "Name: Churn_T_pred_logReg_CV, dtype: int64\n",
      "\n",
      "\n",
      "Churn_T_pred_knn\n",
      "0    4385\n",
      "1     232\n",
      "Name: Churn_T_pred_knn, dtype: int64\n",
      "\n",
      "\n",
      "Churn_T_pred_knn_cv\n",
      "0    4392\n",
      "1     225\n",
      "Name: Churn_T_pred_knn_cv, dtype: int64\n",
      "\n",
      "\n",
      "Churn_T_pred_RF1\n",
      "0    4059\n",
      "1     558\n",
      "Name: Churn_T_pred_RF1, dtype: int64\n",
      "\n",
      "\n",
      "Churn_T_pred_RF2\n",
      "0    4056\n",
      "1     561\n",
      "Name: Churn_T_pred_RF2, dtype: int64\n",
      "\n",
      "\n",
      "Churn_T_pred_RF1_cv\n",
      "0    4102\n",
      "1     515\n",
      "Name: Churn_T_pred_RF1_cv, dtype: int64\n",
      "\n",
      "\n",
      "Churn_T_pred_RF2_cv\n",
      "0    4094\n",
      "1     523\n",
      "Name: Churn_T_pred_RF2_cv, dtype: int64\n",
      "\n",
      "\n",
      "Churn_T_pred_RF3_std\n",
      "0    4056\n",
      "1     561\n",
      "Name: Churn_T_pred_RF3_std, dtype: int64\n",
      "\n",
      "\n"
     ]
    }
   ],
   "source": [
    "Y_pred_RF3_std = RF_3_std.predict(X_std)\n",
    "Y_df['Churn_T_pred_RF3_std'] = Y_pred_RF3_std\n",
    "fun_Y_df_col_value_counts()"
   ]
  },
  {
   "cell_type": "code",
   "execution_count": 237,
   "metadata": {},
   "outputs": [
    {
     "data": {
      "text/plain": [
       "array([[3961,    0],\n",
       "       [  95,  561]], dtype=int64)"
      ]
     },
     "execution_count": 237,
     "metadata": {},
     "output_type": "execute_result"
    },
    {
     "data": {
      "image/png": "[encoded data removed]",
      "text/plain": [
       "<matplotlib.figure.Figure at 0x273fe32d588>"
      ]
     },
     "metadata": {},
     "output_type": "display_data"
    },
    {
     "name": "stdout",
     "output_type": "stream",
     "text": [
      "Overall Accuracy: 97.94\n",
      "TPRate or Recall or Sensitivity i.e. (TP / Actual YES): 85.52\n",
      "FPRate i.e. (FP / Actyal NO): 0.0\n",
      "Specificity i.e. (TN / Actual NO): 100.0\n",
      "Precision i.e. (TP / Predicted YES): 100.0\n"
     ]
    }
   ],
   "source": [
    "conf_RF3_std = confusion_matrix(Y, Y_pred_RF3_std)\n",
    "conf_RF3_std\n",
    "fun_plot_confusion_matrix(conf_RF3_std)\n",
    "fun_conf_mat_calc(conf_RF3_std)"
   ]
  },
  {
   "cell_type": "markdown",
   "metadata": {},
   "source": [
    "Basis above Confusion-Matrix for RF_3_std, resluts are pretty good since Overall Accuracy is 97.94%.\n",
    "TPR i.e. Recall has improved to 85.52% and FPR = 0, which is good though model looks slight Overfit since both specificity & precision is 100%\n",
    "\n",
    "Will try to push Random-Forest with STANDARDIZED X for 10 TRANSFORMED VECTORS derived via PCA and 10-Fold Cross Validation to avoid all type of Overfit"
   ]
  },
  {
   "cell_type": "code",
   "execution_count": 249,
   "metadata": {},
   "outputs": [
    {
     "data": {
      "text/plain": [
       "RandomForestClassifier(bootstrap=True, class_weight=None, criterion='entropy',\n",
       "            max_depth=10, max_features='auto', max_leaf_nodes=None,\n",
       "            min_impurity_decrease=0.0, min_impurity_split=None,\n",
       "            min_samples_leaf=1, min_samples_split=2,\n",
       "            min_weight_fraction_leaf=0.0, n_estimators=100, n_jobs=1,\n",
       "            oob_score=False, random_state=4, verbose=0, warm_start=False)"
      ]
     },
     "execution_count": 249,
     "metadata": {},
     "output_type": "execute_result"
    }
   ],
   "source": [
    "# Random-Forest with standardized X and 10 Transformed Vectors via PCA (without CV)\n",
    "RF_4_std_pca = RandomForestClassifier(n_estimators=100, criterion = 'entropy', max_depth=10, random_state=4)\n",
    "RF_4_std_pca.fit(transformed_vectors, Y)"
   ]
  },
  {
   "cell_type": "code",
   "execution_count": 251,
   "metadata": {
    "scrolled": true
   },
   "outputs": [
    {
     "data": {
      "text/plain": [
       "0.97509205111544295"
      ]
     },
     "execution_count": 251,
     "metadata": {},
     "output_type": "execute_result"
    },
    {
     "name": "stdout",
     "output_type": "stream",
     "text": [
      "Churn_T\n",
      "0    3961\n",
      "1     656\n",
      "Name: Churn_T, dtype: int64\n",
      "\n",
      "\n",
      "Churn_T_pred_logReg\n",
      "0    4394\n",
      "1     223\n",
      "Name: Churn_T_pred_logReg, dtype: int64\n",
      "\n",
      "\n",
      "Churn_T_pred_logReg_CV\n",
      "0    4392\n",
      "1     225\n",
      "Name: Churn_T_pred_logReg_CV, dtype: int64\n",
      "\n",
      "\n",
      "Churn_T_pred_knn\n",
      "0    4385\n",
      "1     232\n",
      "Name: Churn_T_pred_knn, dtype: int64\n",
      "\n",
      "\n",
      "Churn_T_pred_knn_cv\n",
      "0    4397\n",
      "1     220\n",
      "Name: Churn_T_pred_knn_cv, dtype: int64\n",
      "\n",
      "\n",
      "Churn_T_pred_RF1\n",
      "0    4059\n",
      "1     558\n",
      "Name: Churn_T_pred_RF1, dtype: int64\n",
      "\n",
      "\n",
      "Churn_T_pred_RF2\n",
      "0    4056\n",
      "1     561\n",
      "Name: Churn_T_pred_RF2, dtype: int64\n",
      "\n",
      "\n",
      "Churn_T_pred_RF1_cv\n",
      "0    4102\n",
      "1     515\n",
      "Name: Churn_T_pred_RF1_cv, dtype: int64\n",
      "\n",
      "\n",
      "Churn_T_pred_RF2_cv\n",
      "0    4094\n",
      "1     523\n",
      "Name: Churn_T_pred_RF2_cv, dtype: int64\n",
      "\n",
      "\n",
      "Churn_T_pred_RF3_std\n",
      "0    4056\n",
      "1     561\n",
      "Name: Churn_T_pred_RF3_std, dtype: int64\n",
      "\n",
      "\n",
      "Churn_T_pred_RF4_std_pca\n",
      "0    4076\n",
      "1     541\n",
      "Name: Churn_T_pred_RF4_std_pca, dtype: int64\n",
      "\n",
      "\n"
     ]
    }
   ],
   "source": [
    "# Score and Predicted results\n",
    "score_RF4_std_pca = RF_4_std_pca.score(transformed_vectors, Y)\n",
    "score_RF4_std_pca\n",
    "\n",
    "Y_pred_RF4_std_pca = RF_4_std_pca.predict(transformed_vectors)\n",
    "Y_df['Churn_T_pred_RF4_std_pca'] = Y_pred_RF4_std_pca\n",
    "\n",
    "fun_Y_df_col_value_counts()"
   ]
  },
  {
   "cell_type": "code",
   "execution_count": 253,
   "metadata": {},
   "outputs": [
    {
     "data": {
      "text/plain": [
       "array([[3961,    0],\n",
       "       [ 115,  541]], dtype=int64)"
      ]
     },
     "execution_count": 253,
     "metadata": {},
     "output_type": "execute_result"
    },
    {
     "data": {
      "image/png": "[encoded data removed]",
      "text/plain": [
       "<matplotlib.figure.Figure at 0x273fe90f5c0>"
      ]
     },
     "metadata": {},
     "output_type": "display_data"
    },
    {
     "name": "stdout",
     "output_type": "stream",
     "text": [
      "Overall Accuracy: 97.51\n",
      "TPRate or Recall or Sensitivity i.e. (TP / Actual YES): 82.47\n",
      "FPRate i.e. (FP / Actyal NO): 0.0\n",
      "Specificity i.e. (TN / Actual NO): 100.0\n",
      "Precision i.e. (TP / Predicted YES): 100.0\n"
     ]
    }
   ],
   "source": [
    "# COnfusion Matrix\n",
    "conf_RF4_std_pca = confusion_matrix(Y, Y_pred_RF4_std_pca)\n",
    "conf_RF4_std_pca\n",
    "\n",
    "fun_plot_confusion_matrix(conf_RF4_std_pca)\n",
    "\n",
    "fun_conf_mat_calc(conf_RF4_std_pca)"
   ]
  },
  {
   "cell_type": "code",
   "execution_count": 259,
   "metadata": {},
   "outputs": [
    {
     "data": {
      "text/plain": [
       "array([[3933,   28],\n",
       "       [ 169,  487]], dtype=int64)"
      ]
     },
     "execution_count": 259,
     "metadata": {},
     "output_type": "execute_result"
    },
    {
     "data": {
      "text/plain": [
       "array([[3927,   34],\n",
       "       [ 167,  489]], dtype=int64)"
      ]
     },
     "execution_count": 259,
     "metadata": {},
     "output_type": "execute_result"
    },
    {
     "data": {
      "text/plain": [
       "array([[3961,    0],\n",
       "       [  95,  561]], dtype=int64)"
      ]
     },
     "execution_count": 259,
     "metadata": {},
     "output_type": "execute_result"
    },
    {
     "data": {
      "text/plain": [
       "array([[3961,    0],\n",
       "       [ 115,  541]], dtype=int64)"
      ]
     },
     "execution_count": 259,
     "metadata": {},
     "output_type": "execute_result"
    },
    {
     "data": {
      "text/plain": [
       "0.95733062587773221"
      ]
     },
     "execution_count": 259,
     "metadata": {},
     "output_type": "execute_result"
    },
    {
     "data": {
      "text/plain": [
       "0.9564685730851874"
      ]
     },
     "execution_count": 259,
     "metadata": {},
     "output_type": "execute_result"
    },
    {
     "data": {
      "text/plain": [
       "0.97942386831275718"
      ]
     },
     "execution_count": 259,
     "metadata": {},
     "output_type": "execute_result"
    },
    {
     "data": {
      "text/plain": [
       "0.97509205111544295"
      ]
     },
     "execution_count": 259,
     "metadata": {},
     "output_type": "execute_result"
    }
   ],
   "source": [
    "for i in [conf_RF1_cv, conf_RF2_cv, conf_RF3_std, conf_RF4_std_pca]:\n",
    "    i\n",
    "\n",
    "for j in [score_RF1_cv.mean(), score_RF2_cv.mean(), score_RF3_std, score_RF4_std_pca]:\n",
    "    j"
   ]
  },
  {
   "cell_type": "code",
   "execution_count": 266,
   "metadata": {
    "collapsed": true
   },
   "outputs": [],
   "source": [
    "del(RF_5_std_cv)"
   ]
  },
  {
   "cell_type": "code",
   "execution_count": 267,
   "metadata": {},
   "outputs": [],
   "source": [
    "RF_5_std_cv = RandomForestClassifier(n_estimators=100, criterion='entropy', max_depth=10, random_state=4)"
   ]
  },
  {
   "cell_type": "code",
   "execution_count": 269,
   "metadata": {
    "collapsed": true
   },
   "outputs": [],
   "source": [
    "score_RF5_std_cv = cross_val_score(RF_5_std_cv, X_std, Y, cv=10, scoring='accuracy')"
   ]
  },
  {
   "cell_type": "code",
   "execution_count": 270,
   "metadata": {},
   "outputs": [
    {
     "data": {
      "text/plain": [
       "0.9564685730851874"
      ]
     },
     "execution_count": 270,
     "metadata": {},
     "output_type": "execute_result"
    }
   ],
   "source": [
    "score_RF5_std_cv.mean()"
   ]
  },
  {
   "cell_type": "code",
   "execution_count": 276,
   "metadata": {
    "scrolled": true
   },
   "outputs": [],
   "source": [
    "# Predicted Results\n",
    "Y_pred_RF5_std_cv = cross_val_predict(RF_5_std_cv, X_std, Y, cv=10)"
   ]
  },
  {
   "cell_type": "code",
   "execution_count": 277,
   "metadata": {
    "scrolled": true
   },
   "outputs": [
    {
     "name": "stdout",
     "output_type": "stream",
     "text": [
      "Churn_T\n",
      "0    3961\n",
      "1     656\n",
      "Name: Churn_T, dtype: int64\n",
      "\n",
      "\n",
      "Churn_T_pred_logReg\n",
      "0    4394\n",
      "1     223\n",
      "Name: Churn_T_pred_logReg, dtype: int64\n",
      "\n",
      "\n",
      "Churn_T_pred_logReg_CV\n",
      "0    4392\n",
      "1     225\n",
      "Name: Churn_T_pred_logReg_CV, dtype: int64\n",
      "\n",
      "\n",
      "Churn_T_pred_knn\n",
      "0    4385\n",
      "1     232\n",
      "Name: Churn_T_pred_knn, dtype: int64\n",
      "\n",
      "\n",
      "Churn_T_pred_knn_cv\n",
      "0    4397\n",
      "1     220\n",
      "Name: Churn_T_pred_knn_cv, dtype: int64\n",
      "\n",
      "\n",
      "Churn_T_pred_RF1\n",
      "0    4059\n",
      "1     558\n",
      "Name: Churn_T_pred_RF1, dtype: int64\n",
      "\n",
      "\n",
      "Churn_T_pred_RF2\n",
      "0    4056\n",
      "1     561\n",
      "Name: Churn_T_pred_RF2, dtype: int64\n",
      "\n",
      "\n",
      "Churn_T_pred_RF1_cv\n",
      "0    4102\n",
      "1     515\n",
      "Name: Churn_T_pred_RF1_cv, dtype: int64\n",
      "\n",
      "\n",
      "Churn_T_pred_RF2_cv\n",
      "0    4094\n",
      "1     523\n",
      "Name: Churn_T_pred_RF2_cv, dtype: int64\n",
      "\n",
      "\n",
      "Churn_T_pred_RF3_std\n",
      "0    4056\n",
      "1     561\n",
      "Name: Churn_T_pred_RF3_std, dtype: int64\n",
      "\n",
      "\n",
      "Churn_T_pred_RF4_std_pca\n",
      "0    4076\n",
      "1     541\n",
      "Name: Churn_T_pred_RF4_std_pca, dtype: int64\n",
      "\n",
      "\n",
      "Churn_T_pred_RF5_std_cv\n",
      "0    4094\n",
      "1     523\n",
      "Name: Churn_T_pred_RF5_std_cv, dtype: int64\n",
      "\n",
      "\n"
     ]
    }
   ],
   "source": [
    "Y_df['Churn_T_pred_RF5_std_cv'] = Y_pred_RF5_std_cv\n",
    "\n",
    "fun_Y_df_col_value_counts()"
   ]
  },
  {
   "cell_type": "code",
   "execution_count": 279,
   "metadata": {},
   "outputs": [
    {
     "data": {
      "text/plain": [
       "array([[3927,   34],\n",
       "       [ 167,  489]], dtype=int64)"
      ]
     },
     "execution_count": 279,
     "metadata": {},
     "output_type": "execute_result"
    },
    {
     "data": {
      "image/png": "[encoded data removed]",
      "text/plain": [
       "<matplotlib.figure.Figure at 0x273fe8b35f8>"
      ]
     },
     "metadata": {},
     "output_type": "display_data"
    },
    {
     "name": "stdout",
     "output_type": "stream",
     "text": [
      "Overall Accuracy: 95.65\n",
      "TPRate or Recall or Sensitivity i.e. (TP / Actual YES): 74.54\n",
      "FPRate i.e. (FP / Actyal NO): 0.86\n",
      "Specificity i.e. (TN / Actual NO): 99.14\n",
      "Precision i.e. (TP / Predicted YES): 93.5\n"
     ]
    }
   ],
   "source": [
    "# Confusion Matrix\n",
    "conf_RF5_std_cv = confusion_matrix(Y, Y_pred_RF5_std_cv)\n",
    "conf_RF5_std_cv\n",
    "\n",
    "fun_plot_confusion_matrix(conf_RF5_std_cv)\n",
    "\n",
    "fun_conf_mat_calc(conf_RF5_std_cv)"
   ]
  },
  {
   "cell_type": "code",
   "execution_count": 280,
   "metadata": {},
   "outputs": [
    {
     "data": {
      "text/plain": [
       "RandomForestClassifier(bootstrap=True, class_weight=None, criterion='entropy',\n",
       "            max_depth=10, max_features='auto', max_leaf_nodes=None,\n",
       "            min_impurity_decrease=0.0, min_impurity_split=None,\n",
       "            min_samples_leaf=1, min_samples_split=2,\n",
       "            min_weight_fraction_leaf=0.0, n_estimators=100, n_jobs=1,\n",
       "            oob_score=False, random_state=4, verbose=0, warm_start=False)"
      ]
     },
     "execution_count": 280,
     "metadata": {},
     "output_type": "execute_result"
    }
   ],
   "source": [
    "# STD + PCA + CV\n",
    "RF_6_std_pca_cv = RandomForestClassifier(n_estimators=100, criterion='entropy', max_depth=10, random_state=4)\n",
    "RF_6_std_pca_cv"
   ]
  },
  {
   "cell_type": "code",
   "execution_count": 288,
   "metadata": {
    "collapsed": true
   },
   "outputs": [],
   "source": [
    "# Using PCA with 10 Transformed Vectors and CV\n",
    "score_RF6_std_pca_cv = cross_val_score(RF_6_std_pca_cv, transformed_vectors, Y, cv=10, scoring='accuracy')"
   ]
  },
  {
   "cell_type": "code",
   "execution_count": 289,
   "metadata": {},
   "outputs": [
    {
     "data": {
      "text/plain": [
       "array([ 0.91360691,  0.91558442,  0.91558442,  0.93073593,  0.93506494,\n",
       "        0.92640693,  0.93058568,  0.92624729,  0.9197397 ,  0.92190889])"
      ]
     },
     "execution_count": 289,
     "metadata": {},
     "output_type": "execute_result"
    },
    {
     "data": {
      "text/plain": [
       "0.9235465096645834"
      ]
     },
     "execution_count": 289,
     "metadata": {},
     "output_type": "execute_result"
    }
   ],
   "source": [
    "score_RF6_std_pca_cv\n",
    "score_RF6_std_pca_cv.mean()"
   ]
  },
  {
   "cell_type": "code",
   "execution_count": 290,
   "metadata": {
    "collapsed": true
   },
   "outputs": [],
   "source": [
    "# Predicted Results\n",
    "Y_pred_RF6_std_pca_cv = cross_val_predict(RF_6_std_pca_cv, transformed_vectors, Y, cv=10)"
   ]
  },
  {
   "cell_type": "code",
   "execution_count": 291,
   "metadata": {
    "scrolled": true
   },
   "outputs": [
    {
     "name": "stdout",
     "output_type": "stream",
     "text": [
      "Churn_T\n",
      "0    3961\n",
      "1     656\n",
      "Name: Churn_T, dtype: int64\n",
      "\n",
      "\n",
      "Churn_T_pred_logReg\n",
      "0    4394\n",
      "1     223\n",
      "Name: Churn_T_pred_logReg, dtype: int64\n",
      "\n",
      "\n",
      "Churn_T_pred_logReg_CV\n",
      "0    4392\n",
      "1     225\n",
      "Name: Churn_T_pred_logReg_CV, dtype: int64\n",
      "\n",
      "\n",
      "Churn_T_pred_knn\n",
      "0    4385\n",
      "1     232\n",
      "Name: Churn_T_pred_knn, dtype: int64\n",
      "\n",
      "\n",
      "Churn_T_pred_knn_cv\n",
      "0    4397\n",
      "1     220\n",
      "Name: Churn_T_pred_knn_cv, dtype: int64\n",
      "\n",
      "\n",
      "Churn_T_pred_RF1\n",
      "0    4059\n",
      "1     558\n",
      "Name: Churn_T_pred_RF1, dtype: int64\n",
      "\n",
      "\n",
      "Churn_T_pred_RF2\n",
      "0    4056\n",
      "1     561\n",
      "Name: Churn_T_pred_RF2, dtype: int64\n",
      "\n",
      "\n",
      "Churn_T_pred_RF1_cv\n",
      "0    4102\n",
      "1     515\n",
      "Name: Churn_T_pred_RF1_cv, dtype: int64\n",
      "\n",
      "\n",
      "Churn_T_pred_RF2_cv\n",
      "0    4094\n",
      "1     523\n",
      "Name: Churn_T_pred_RF2_cv, dtype: int64\n",
      "\n",
      "\n",
      "Churn_T_pred_RF3_std\n",
      "0    4056\n",
      "1     561\n",
      "Name: Churn_T_pred_RF3_std, dtype: int64\n",
      "\n",
      "\n",
      "Churn_T_pred_RF4_std_pca\n",
      "0    4076\n",
      "1     541\n",
      "Name: Churn_T_pred_RF4_std_pca, dtype: int64\n",
      "\n",
      "\n",
      "Churn_T_pred_RF5_std_cv\n",
      "0    4094\n",
      "1     523\n",
      "Name: Churn_T_pred_RF5_std_cv, dtype: int64\n",
      "\n",
      "\n",
      "Churn_T_pred_RF6_std_pca_cv\n",
      "0    4246\n",
      "1     371\n",
      "Name: Churn_T_pred_RF6_std_pca_cv, dtype: int64\n",
      "\n",
      "\n"
     ]
    }
   ],
   "source": [
    "Y_df['Churn_T_pred_RF6_std_pca_cv'] = Y_pred_RF6_std_pca_cv\n",
    "fun_Y_df_col_value_counts()"
   ]
  },
  {
   "cell_type": "code",
   "execution_count": 292,
   "metadata": {},
   "outputs": [
    {
     "data": {
      "text/plain": [
       "array([[3927,   34],\n",
       "       [ 319,  337]], dtype=int64)"
      ]
     },
     "execution_count": 292,
     "metadata": {},
     "output_type": "execute_result"
    },
    {
     "data": {
      "image/png": "[encoded data removed]",
      "text/plain": [
       "<matplotlib.figure.Figure at 0x273fe8ec4e0>"
      ]
     },
     "metadata": {},
     "output_type": "display_data"
    },
    {
     "name": "stdout",
     "output_type": "stream",
     "text": [
      "Overall Accuracy: 92.35\n",
      "TPRate or Recall or Sensitivity i.e. (TP / Actual YES): 51.37\n",
      "FPRate i.e. (FP / Actyal NO): 0.86\n",
      "Specificity i.e. (TN / Actual NO): 99.14\n",
      "Precision i.e. (TP / Predicted YES): 90.84\n"
     ]
    }
   ],
   "source": [
    "# COnfusion Matrix\n",
    "conf_RF6_std_pca_cv = confusion_matrix(Y, Y_pred_RF6_std_pca_cv)\n",
    "conf_RF6_std_pca_cv\n",
    "\n",
    "fun_plot_confusion_matrix(conf_RF6_std_pca_cv)\n",
    "\n",
    "fun_conf_mat_calc(conf_RF6_std_pca_cv)"
   ]
  },
  {
   "cell_type": "code",
   "execution_count": 314,
   "metadata": {
    "scrolled": true
   },
   "outputs": [
    {
     "data": {
      "text/plain": [
       "array([[3933,   28],\n",
       "       [ 169,  487]], dtype=int64)"
      ]
     },
     "execution_count": 314,
     "metadata": {},
     "output_type": "execute_result"
    },
    {
     "name": "stdout",
     "output_type": "stream",
     "text": [
      "Overall Accuracy: 95.73\n",
      "TPRate or Recall or Sensitivity i.e. (TP / Actual YES): 74.24\n",
      "FPRate i.e. (FP / Actyal NO): 0.71\n",
      "Specificity i.e. (TN / Actual NO): 99.29\n",
      "Precision i.e. (TP / Predicted YES): 94.56\n",
      "\n",
      "\n"
     ]
    },
    {
     "data": {
      "text/plain": [
       "array([[3927,   34],\n",
       "       [ 167,  489]], dtype=int64)"
      ]
     },
     "execution_count": 314,
     "metadata": {},
     "output_type": "execute_result"
    },
    {
     "name": "stdout",
     "output_type": "stream",
     "text": [
      "Overall Accuracy: 95.65\n",
      "TPRate or Recall or Sensitivity i.e. (TP / Actual YES): 74.54\n",
      "FPRate i.e. (FP / Actyal NO): 0.86\n",
      "Specificity i.e. (TN / Actual NO): 99.14\n",
      "Precision i.e. (TP / Predicted YES): 93.5\n",
      "\n",
      "\n"
     ]
    },
    {
     "data": {
      "text/plain": [
       "array([[3961,    0],\n",
       "       [  95,  561]], dtype=int64)"
      ]
     },
     "execution_count": 314,
     "metadata": {},
     "output_type": "execute_result"
    },
    {
     "name": "stdout",
     "output_type": "stream",
     "text": [
      "Overall Accuracy: 97.94\n",
      "TPRate or Recall or Sensitivity i.e. (TP / Actual YES): 85.52\n",
      "FPRate i.e. (FP / Actyal NO): 0.0\n",
      "Specificity i.e. (TN / Actual NO): 100.0\n",
      "Precision i.e. (TP / Predicted YES): 100.0\n",
      "\n",
      "\n"
     ]
    },
    {
     "data": {
      "text/plain": [
       "array([[3961,    0],\n",
       "       [ 115,  541]], dtype=int64)"
      ]
     },
     "execution_count": 314,
     "metadata": {},
     "output_type": "execute_result"
    },
    {
     "name": "stdout",
     "output_type": "stream",
     "text": [
      "Overall Accuracy: 97.51\n",
      "TPRate or Recall or Sensitivity i.e. (TP / Actual YES): 82.47\n",
      "FPRate i.e. (FP / Actyal NO): 0.0\n",
      "Specificity i.e. (TN / Actual NO): 100.0\n",
      "Precision i.e. (TP / Predicted YES): 100.0\n",
      "\n",
      "\n"
     ]
    },
    {
     "data": {
      "text/plain": [
       "array([[3927,   34],\n",
       "       [ 167,  489]], dtype=int64)"
      ]
     },
     "execution_count": 314,
     "metadata": {},
     "output_type": "execute_result"
    },
    {
     "name": "stdout",
     "output_type": "stream",
     "text": [
      "Overall Accuracy: 95.65\n",
      "TPRate or Recall or Sensitivity i.e. (TP / Actual YES): 74.54\n",
      "FPRate i.e. (FP / Actyal NO): 0.86\n",
      "Specificity i.e. (TN / Actual NO): 99.14\n",
      "Precision i.e. (TP / Predicted YES): 93.5\n",
      "\n",
      "\n"
     ]
    },
    {
     "data": {
      "text/plain": [
       "array([[3927,   34],\n",
       "       [ 319,  337]], dtype=int64)"
      ]
     },
     "execution_count": 314,
     "metadata": {},
     "output_type": "execute_result"
    },
    {
     "name": "stdout",
     "output_type": "stream",
     "text": [
      "Overall Accuracy: 92.35\n",
      "TPRate or Recall or Sensitivity i.e. (TP / Actual YES): 51.37\n",
      "FPRate i.e. (FP / Actyal NO): 0.86\n",
      "Specificity i.e. (TN / Actual NO): 99.14\n",
      "Precision i.e. (TP / Predicted YES): 90.84\n",
      "\n",
      "\n"
     ]
    }
   ],
   "source": [
    "for i in [conf_RF1_cv, conf_RF2_cv, conf_RF3_std, conf_RF4_std_pca, conf_RF5_std_cv, conf_RF6_std_pca_cv]:\n",
    "    i\n",
    "    fun_conf_mat_calc(i)\n",
    "    print('\\n')"
   ]
  },
  {
   "cell_type": "markdown",
   "metadata": {},
   "source": [
    "Finally, considering all applied models here, we shall consider RF5_std_cv i.e. RandomForest applied on Standardized X with 10 Fold Cross-Validation. Reasons below:\n",
    "\n",
    "1. Considering RandomForest with 100 DecisionTrees helps already in avoiding Overfitting\n",
    "2. X values as Predictors are not in standardized scale, thus this model uses converted standardized X for better model analysis\n",
    "3. 10 Fold Cross Validation on this further reduces any sort of OVERFIT on this model, thus making model more realistic\n",
    "4. Accuracy for this comes to be 95.65 which is pretty good\n",
    "5. Basis Confusion Matrix, we can see that Recall (True-Positive-Rate) is around 75%, which is more realistic\n",
    "6. False-Positive-Rate is also very low i.e. 0.84%\n",
    "7. Overall Specificity and Precision is also at 99% & 93% respectively which is preety good\n",
    "\n",
    "Though from all above, maximum accuracy as 97.94% is given by conf_RF3_std i.e. RandomForest applied only on Standardized X without Cross-Validation or PCA, but, this looks heavily OVERFIT since False-Positive-Rate is 0 and seems mimicing our Dataset. Thus, we are not considering it."
   ]
  }
 ],
 "metadata": {
  "kernelspec": {
   "display_name": "Python 3",
   "language": "python",
   "name": "python3"
  },
  "language_info": {
   "codemirror_mode": {
    "name": "ipython",
    "version": 3
   },
   "file_extension": ".py",
   "mimetype": "text/x-python",
   "name": "python",
   "nbconvert_exporter": "python",
   "pygments_lexer": "ipython3",
   "version": "3.6.1"
  }
 },
 "nbformat": 4,
 "nbformat_minor": 2
}
